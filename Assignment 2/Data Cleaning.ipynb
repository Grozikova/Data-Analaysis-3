{
 "cells": [
  {
   "cell_type": "markdown",
   "id": "75ea1df3",
   "metadata": {},
   "source": [
    "## <center> Predicting airbnb apartment prices using OLS, LASSO and Random Forest. <br/> Case study of Madrid city apartments. </center>"
   ]
  },
  {
   "cell_type": "code",
   "execution_count": 81,
   "id": "8a502038",
   "metadata": {},
   "outputs": [
    {
     "name": "stdout",
     "output_type": "stream",
     "text": [
      "Collecting geopy\n",
      "  Downloading geopy-2.3.0-py3-none-any.whl (119 kB)\n",
      "Collecting geographiclib<3,>=1.52\n",
      "  Downloading geographiclib-2.0-py3-none-any.whl (40 kB)\n",
      "Installing collected packages: geographiclib, geopy\n",
      "Successfully installed geographiclib-2.0 geopy-2.3.0\n"
     ]
    }
   ],
   "source": [
    "!pip install geopy"
   ]
  },
  {
   "cell_type": "code",
   "execution_count": 188,
   "id": "c1b0b52f",
   "metadata": {},
   "outputs": [],
   "source": [
    "import os\n",
    "import sys\n",
    "import warnings\n",
    "from pathlib import Path\n",
    "\n",
    "import gzip\n",
    "import csv\n",
    "import json\n",
    "\n",
    "import matplotlib.pyplot as plt\n",
    "import numpy as np\n",
    "import pandas as pd\n",
    "from mizani.formatters import percent_format\n",
    "from patsy import dmatrices\n",
    "from plotnine import *\n",
    "from sklearn.compose import ColumnTransformer\n",
    "from sklearn.ensemble import RandomForestRegressor\n",
    "from sklearn.inspection import (\n",
    "    partial_dependence,\n",
    "    permutation_importance,\n",
    "    plot_partial_dependence,\n",
    ")\n",
    "from sklearn.metrics import mean_squared_error\n",
    "from sklearn.model_selection import GridSearchCV, RandomizedSearchCV, train_test_split\n",
    "from sklearn.pipeline import Pipeline\n",
    "from sklearn.preprocessing import OneHotEncoder\n",
    "from datetime import datetime\n",
    "import re\n",
    "import geopy.distance\n",
    "\n",
    "warnings.filterwarnings(\"ignore\")"
   ]
  },
  {
   "cell_type": "code",
   "execution_count": 189,
   "id": "11238a1d",
   "metadata": {},
   "outputs": [
    {
     "name": "stdout",
     "output_type": "stream",
     "text": [
      "<class 'pandas.core.frame.DataFrame'>\n",
      "RangeIndex: 20776 entries, 0 to 20775\n",
      "Data columns (total 75 columns):\n",
      " #   Column                                        Non-Null Count  Dtype  \n",
      "---  ------                                        --------------  -----  \n",
      " 0   id                                            20776 non-null  int64  \n",
      " 1   listing_url                                   20776 non-null  object \n",
      " 2   scrape_id                                     20776 non-null  int64  \n",
      " 3   last_scraped                                  20776 non-null  object \n",
      " 4   source                                        20776 non-null  object \n",
      " 5   name                                          20772 non-null  object \n",
      " 6   description                                   20117 non-null  object \n",
      " 7   neighborhood_overview                         11429 non-null  object \n",
      " 8   picture_url                                   20775 non-null  object \n",
      " 9   host_id                                       20776 non-null  int64  \n",
      " 10  host_url                                      20776 non-null  object \n",
      " 11  host_name                                     20773 non-null  object \n",
      " 12  host_since                                    20773 non-null  object \n",
      " 13  host_location                                 15314 non-null  object \n",
      " 14  host_about                                    10139 non-null  object \n",
      " 15  host_response_time                            16127 non-null  object \n",
      " 16  host_response_rate                            16127 non-null  object \n",
      " 17  host_acceptance_rate                          16540 non-null  object \n",
      " 18  host_is_superhost                             20770 non-null  object \n",
      " 19  host_thumbnail_url                            20773 non-null  object \n",
      " 20  host_picture_url                              20773 non-null  object \n",
      " 21  host_neighbourhood                            10379 non-null  object \n",
      " 22  host_listings_count                           20773 non-null  float64\n",
      " 23  host_total_listings_count                     20773 non-null  float64\n",
      " 24  host_verifications                            20776 non-null  object \n",
      " 25  host_has_profile_pic                          20773 non-null  object \n",
      " 26  host_identity_verified                        20773 non-null  object \n",
      " 27  neighbourhood                                 11429 non-null  object \n",
      " 28  neighbourhood_cleansed                        20776 non-null  object \n",
      " 29  neighbourhood_group_cleansed                  20776 non-null  object \n",
      " 30  latitude                                      20776 non-null  float64\n",
      " 31  longitude                                     20776 non-null  float64\n",
      " 32  property_type                                 20776 non-null  object \n",
      " 33  room_type                                     20776 non-null  object \n",
      " 34  accommodates                                  20776 non-null  int64  \n",
      " 35  bathrooms                                     0 non-null      float64\n",
      " 36  bathrooms_text                                20755 non-null  object \n",
      " 37  bedrooms                                      19260 non-null  float64\n",
      " 38  beds                                          20471 non-null  float64\n",
      " 39  amenities                                     20776 non-null  object \n",
      " 40  price                                         20776 non-null  object \n",
      " 41  minimum_nights                                20776 non-null  int64  \n",
      " 42  maximum_nights                                20776 non-null  int64  \n",
      " 43  minimum_minimum_nights                        20771 non-null  float64\n",
      " 44  maximum_minimum_nights                        20771 non-null  float64\n",
      " 45  minimum_maximum_nights                        20771 non-null  float64\n",
      " 46  maximum_maximum_nights                        20771 non-null  float64\n",
      " 47  minimum_nights_avg_ntm                        20771 non-null  float64\n",
      " 48  maximum_nights_avg_ntm                        20771 non-null  float64\n",
      " 49  calendar_updated                              0 non-null      float64\n",
      " 50  has_availability                              20776 non-null  object \n",
      " 51  availability_30                               20776 non-null  int64  \n",
      " 52  availability_60                               20776 non-null  int64  \n",
      " 53  availability_90                               20776 non-null  int64  \n",
      " 54  availability_365                              20776 non-null  int64  \n",
      " 55  calendar_last_scraped                         20776 non-null  object \n",
      " 56  number_of_reviews                             20776 non-null  int64  \n",
      " 57  number_of_reviews_ltm                         20776 non-null  int64  \n",
      " 58  number_of_reviews_l30d                        20776 non-null  int64  \n",
      " 59  first_review                                  16649 non-null  object \n",
      " 60  last_review                                   16649 non-null  object \n",
      " 61  review_scores_rating                          16649 non-null  float64\n",
      " 62  review_scores_accuracy                        16507 non-null  float64\n",
      " 63  review_scores_cleanliness                     16509 non-null  float64\n",
      " 64  review_scores_checkin                         16508 non-null  float64\n",
      " 65  review_scores_communication                   16508 non-null  float64\n",
      " 66  review_scores_location                        16505 non-null  float64\n",
      " 67  review_scores_value                           16504 non-null  float64\n",
      " 68  license                                       2738 non-null   object \n",
      " 69  instant_bookable                              20776 non-null  object \n",
      " 70  calculated_host_listings_count                20776 non-null  int64  \n",
      " 71  calculated_host_listings_count_entire_homes   20776 non-null  int64  \n",
      " 72  calculated_host_listings_count_private_rooms  20776 non-null  int64  \n",
      " 73  calculated_host_listings_count_shared_rooms   20776 non-null  int64  \n",
      " 74  reviews_per_month                             16649 non-null  float64\n",
      "dtypes: float64(22), int64(17), object(36)\n",
      "memory usage: 11.9+ MB\n"
     ]
    }
   ],
   "source": [
    "#Read the dataset\n",
    "data = pd.read_csv('listings.csv.gz', compression='gzip',\n",
    "                   error_bad_lines=False)\n",
    "#Get all column names and general info about the dataset\n",
    "data.info()"
   ]
  },
  {
   "cell_type": "markdown",
   "id": "afd1386f",
   "metadata": {},
   "source": [
    "## Data cleaning and preparation"
   ]
  },
  {
   "cell_type": "code",
   "execution_count": 190,
   "id": "9b97cddf",
   "metadata": {},
   "outputs": [],
   "source": [
    "#Drop the observations where price information is NaN\n",
    "\n",
    "data = data.loc[data.price.notna(), :]"
   ]
  },
  {
   "cell_type": "code",
   "execution_count": 191,
   "id": "37dd6061",
   "metadata": {},
   "outputs": [],
   "source": [
    "#A function to count the remaining missing values\n",
    "\n",
    "def count_missing_values(df):\n",
    "    return df.isna().sum()[df.isna().sum() > 0]"
   ]
  },
  {
   "cell_type": "code",
   "execution_count": 192,
   "id": "99c3f951",
   "metadata": {},
   "outputs": [
    {
     "data": {
      "text/plain": [
       "name                               4\n",
       "description                      659\n",
       "neighborhood_overview           9347\n",
       "picture_url                        1\n",
       "host_name                          3\n",
       "host_since                         3\n",
       "host_location                   5462\n",
       "host_about                     10637\n",
       "host_response_time              4649\n",
       "host_response_rate              4649\n",
       "host_acceptance_rate            4236\n",
       "host_is_superhost                  6\n",
       "host_thumbnail_url                 3\n",
       "host_picture_url                   3\n",
       "host_neighbourhood             10397\n",
       "host_listings_count                3\n",
       "host_total_listings_count          3\n",
       "host_has_profile_pic               3\n",
       "host_identity_verified             3\n",
       "neighbourhood                   9347\n",
       "bathrooms                      20776\n",
       "bathrooms_text                    21\n",
       "bedrooms                        1516\n",
       "beds                             305\n",
       "minimum_minimum_nights             5\n",
       "maximum_minimum_nights             5\n",
       "minimum_maximum_nights             5\n",
       "maximum_maximum_nights             5\n",
       "minimum_nights_avg_ntm             5\n",
       "maximum_nights_avg_ntm             5\n",
       "calendar_updated               20776\n",
       "first_review                    4127\n",
       "last_review                     4127\n",
       "review_scores_rating            4127\n",
       "review_scores_accuracy          4269\n",
       "review_scores_cleanliness       4267\n",
       "review_scores_checkin           4268\n",
       "review_scores_communication     4268\n",
       "review_scores_location          4271\n",
       "review_scores_value             4272\n",
       "license                        18038\n",
       "reviews_per_month               4127\n",
       "dtype: int64"
      ]
     },
     "execution_count": 192,
     "metadata": {},
     "output_type": "execute_result"
    }
   ],
   "source": [
    "count_missing_values(data)"
   ]
  },
  {
   "cell_type": "code",
   "execution_count": 193,
   "id": "f8175346",
   "metadata": {},
   "outputs": [
    {
     "data": {
      "text/plain": [
       "0    2\n",
       "1    1\n",
       "2    3\n",
       "3    2\n",
       "4    8\n",
       "5    1\n",
       "6    3\n",
       "7    2\n",
       "8    3\n",
       "9    3\n",
       "Name: accommodates, dtype: int64"
      ]
     },
     "execution_count": 193,
     "metadata": {},
     "output_type": "execute_result"
    }
   ],
   "source": [
    "#I will double-check that accommodates column indicates number of guests that can be accommodated.\n",
    "data['accommodates'].head(10)"
   ]
  },
  {
   "cell_type": "code",
   "execution_count": 194,
   "id": "4b633dad",
   "metadata": {},
   "outputs": [],
   "source": [
    "#The task requires to analyze mid-size apartments, i.e. for 2-6 guests. So, I will filter the dataset accordingly.\n",
    "\n",
    "data = data[(data[\"accommodates\"] < 7) & (data[\"accommodates\"] > 1)]"
   ]
  },
  {
   "cell_type": "code",
   "execution_count": 195,
   "id": "571338ba",
   "metadata": {},
   "outputs": [],
   "source": [
    "# copy a variable - purpose later, see at variable importance\n",
    "data = data.assign(accommodates_copy=data.accommodates)"
   ]
  },
  {
   "cell_type": "code",
   "execution_count": 196,
   "id": "9d510295",
   "metadata": {},
   "outputs": [
    {
     "data": {
      "text/plain": [
       "count      16620\n",
       "unique       606\n",
       "top       $50.00\n",
       "freq         314\n",
       "Name: price, dtype: object"
      ]
     },
     "execution_count": 196,
     "metadata": {},
     "output_type": "execute_result"
    }
   ],
   "source": [
    "#Check price distribution\n",
    "\n",
    "data['price'].describe()"
   ]
  },
  {
   "cell_type": "code",
   "execution_count": 197,
   "id": "410fa370",
   "metadata": {},
   "outputs": [
    {
     "data": {
      "text/plain": [
       "Entire home/apt    12231\n",
       "Private room        4174\n",
       "Shared room          110\n",
       "Hotel room           105\n",
       "Name: room_type, dtype: int64"
      ]
     },
     "execution_count": 197,
     "metadata": {},
     "output_type": "execute_result"
    }
   ],
   "source": [
    "#See the share of different room types in the data\n",
    "\n",
    "data.room_type.value_counts()"
   ]
  },
  {
   "cell_type": "code",
   "execution_count": 198,
   "id": "b1ffd75f",
   "metadata": {},
   "outputs": [
    {
     "data": {
      "text/plain": [
       "Entire rental unit             10054\n",
       "Private room in rental unit     2895\n",
       "Entire condo                     734\n",
       "Entire loft                      709\n",
       "Private room in home             337\n",
       "                               ...  \n",
       "Shared room in hut                 1\n",
       "Entire bungalow                    1\n",
       "Hut                                1\n",
       "Dome                               1\n",
       "Bus                                1\n",
       "Name: property_type, Length: 61, dtype: int64"
      ]
     },
     "execution_count": 198,
     "metadata": {},
     "output_type": "execute_result"
    }
   ],
   "source": [
    "#Property type share\n",
    "data.property_type.value_counts()"
   ]
  },
  {
   "cell_type": "code",
   "execution_count": 199,
   "id": "a8503dc1",
   "metadata": {},
   "outputs": [
    {
     "data": {
      "text/plain": [
       "array(['Private room in rental unit', 'Entire rental unit', 'Entire loft',\n",
       "       'Entire condo', 'Shared room in rental unit',\n",
       "       'Private room in chalet', 'Entire home',\n",
       "       'Entire serviced apartment', 'Private room in home',\n",
       "       'Shared room in hut', 'Private room in bed and breakfast',\n",
       "       'Entire bungalow', 'Shared room in bed and breakfast',\n",
       "       'Casa particular', 'Private room in floor', 'Entire vacation home',\n",
       "       'Dome', 'Entire place', 'Private room in condo',\n",
       "       'Private room in guest suite', 'Private room',\n",
       "       'Shared room in home', 'Private room in serviced apartment',\n",
       "       'Room in serviced apartment', 'Private room in loft',\n",
       "       'Entire guesthouse', 'Room in aparthotel',\n",
       "       'Private room in guesthouse', 'Floor', 'Room in hotel',\n",
       "       'Private room in townhouse', 'Room in boutique hotel',\n",
       "       'Entire townhouse', 'Private room in hostel',\n",
       "       'Shared room in loft', 'Hut', 'Entire guest suite',\n",
       "       'Private room in casa particular', 'Camper/RV', 'Entire home/apt',\n",
       "       'Room in hostel', 'Private room in villa',\n",
       "       'Room in bed and breakfast', 'Private room in tiny home',\n",
       "       'Private room in dome', 'Tiny home', 'Entire chalet',\n",
       "       'Private room in earthen home', 'Room in casa particular',\n",
       "       'Shared room in condo', 'Shared room in hostel',\n",
       "       'Private room in bungalow', 'Yurt', 'Entire cabin',\n",
       "       'Shared room in chalet', 'Cave', 'Shared room in hotel',\n",
       "       'Private room in vacation home', 'Shared room in vacation home',\n",
       "       'Private room in cave', 'Bus'], dtype=object)"
      ]
     },
     "execution_count": 199,
     "metadata": {},
     "output_type": "execute_result"
    }
   ],
   "source": [
    "#Check what type of properties exist\n",
    "data['property_type'].unique()"
   ]
  },
  {
   "cell_type": "code",
   "execution_count": 200,
   "id": "84cc53de",
   "metadata": {},
   "outputs": [],
   "source": [
    "#I will filter the data again to keep only entire rental units, entire condo, entire loft\n",
    "#and drop other accommodation types because our analysis should include only apartments\n",
    "\n",
    "data = data[data['property_type'].isin(['Entire rental unit', 'Entire condo', 'Entire loft'])]"
   ]
  },
  {
   "cell_type": "code",
   "execution_count": 201,
   "id": "4450c996",
   "metadata": {},
   "outputs": [],
   "source": [
    "# drop the lines where id is not a number\n",
    "data.id = pd.to_numeric(data.id, errors=\"coerce\")\n",
    "data = data[data.id.notna()]"
   ]
  },
  {
   "cell_type": "code",
   "execution_count": 202,
   "id": "7a42d393",
   "metadata": {},
   "outputs": [
    {
     "data": {
      "text/plain": [
       "array(['Centro', 'Salamanca', 'Fuencarral - El Pardo', 'Villaverde',\n",
       "       'Chamberí', 'Hortaleza', 'Puente de Vallecas', 'Retiro',\n",
       "       'Ciudad Lineal', 'Arganzuela', 'Moncloa - Aravaca',\n",
       "       'San Blas - Canillejas', 'Chamartín', 'Carabanchel', 'Tetuán',\n",
       "       'Vicálvaro', 'Latina', 'Moratalaz', 'Villa de Vallecas', 'Usera',\n",
       "       'Barajas'], dtype=object)"
      ]
     },
     "execution_count": 202,
     "metadata": {},
     "output_type": "execute_result"
    }
   ],
   "source": [
    "#Decide which variable to use for location\n",
    "#data['neighbourhood'].unique()\n",
    "#data['neighbourhood_group'].unique()\n",
    "\n",
    "data['neighbourhood_group_cleansed'].unique()"
   ]
  },
  {
   "cell_type": "markdown",
   "id": "632331cd",
   "metadata": {},
   "source": [
    "After checking the neighbourhood variables, it is obvious that neighbourhood_group_cleansed is the most relevant because it groups the major sites in the city that are located close to each other. "
   ]
  },
  {
   "cell_type": "code",
   "execution_count": 203,
   "id": "1bbe4ec3",
   "metadata": {},
   "outputs": [],
   "source": [
    "# Format binary variables\n",
    "for binary in [\n",
    "    \"host_is_superhost\",\n",
    "    \"instant_bookable\",\n",
    "]:\n",
    "    data[binary] = data[binary].map({\"t\": True, \"f\": False})"
   ]
  },
  {
   "cell_type": "code",
   "execution_count": 206,
   "id": "61e35b6a",
   "metadata": {},
   "outputs": [],
   "source": [
    "# Clean the price column\n",
    "data[\"price\"] = data[\"price\"].astype(str)\n",
    "data[\"price\"] = data.price.str.replace(\"\\\\$\", \"\").str.replace(\",\",\"\").astype(float)"
   ]
  },
  {
   "cell_type": "code",
   "execution_count": 208,
   "id": "ac7aeb40",
   "metadata": {},
   "outputs": [],
   "source": [
    "# Clean amenities column\n",
    "\n",
    "data[\"amenities\"] = data[\"amenities\"].astype(str)\n",
    "data[\"amenities\"] = (\n",
    "    data[\"amenities\"]\n",
    "    .str.strip(\"{}\")\n",
    "    .str.replace('\"', \"\")\n",
    "    .str.replace(\"[\", \"\")\n",
    "    .str.replace(\"]\", \"\")\n",
    "    .str.replace(\"–\", \"\")\n",
    "    .str.replace(\"-\", \"\")\n",
    "    .str.replace(\"\\\\u\", \"'\", regex=False)\n",
    "    .str.replace(\"\\d\", \"\", regex=True)\n",
    "    .str.replace(\"'\", \"\")\n",
    "    .str.lower()\n",
    "    .str.replace(\"mbps\", \"\",regex=False)\n",
    "    .str.strip()\n",
    "    .str.split(\",\")\n",
    ")"
   ]
  },
  {
   "cell_type": "code",
   "execution_count": 209,
   "id": "dba0dee6",
   "metadata": {},
   "outputs": [
    {
     "data": {
      "text/plain": [
       "kitchen                                      11154\n",
       "long term stays allowed                      10650\n",
       "wifi                                         10603\n",
       "essentials                                   10237\n",
       "hair dryer                                    9294\n",
       "                                             ...  \n",
       "tv with apple tv                                 1\n",
       ".  body soap                                     1\n",
       ".  refrigerator                                  1\n",
       "asi como gel cdntimo y champues body soap        1\n",
       "marca de carrefour  body soap                    1\n",
       "Name: amenities, Length: 1087, dtype: int64"
      ]
     },
     "execution_count": 209,
     "metadata": {},
     "output_type": "execute_result"
    }
   ],
   "source": [
    "# Create dummies by amenities\n",
    "data[\"amenities\"].explode().str.strip().value_counts()"
   ]
  },
  {
   "cell_type": "code",
   "execution_count": 210,
   "id": "f58cd4b2",
   "metadata": {},
   "outputs": [],
   "source": [
    "# Keep those, that has 50 or more count\n",
    "amenities_keep = data[\"amenities\"].explode().str.strip().value_counts().loc[lambda x: x>50]\n",
    "\n",
    "amenities_keep.to_pickle(\"amenities_to_keep.pkl\")"
   ]
  },
  {
   "cell_type": "code",
   "execution_count": 211,
   "id": "2c6effdd",
   "metadata": {},
   "outputs": [
    {
     "data": {
      "text/html": [
       "<div>\n",
       "<style scoped>\n",
       "    .dataframe tbody tr th:only-of-type {\n",
       "        vertical-align: middle;\n",
       "    }\n",
       "\n",
       "    .dataframe tbody tr th {\n",
       "        vertical-align: top;\n",
       "    }\n",
       "\n",
       "    .dataframe thead th {\n",
       "        text-align: right;\n",
       "    }\n",
       "</style>\n",
       "<table border=\"1\" class=\"dataframe\">\n",
       "  <thead>\n",
       "    <tr style=\"text-align: right;\">\n",
       "      <th></th>\n",
       "      <th></th>\n",
       "      <th></th>\n",
       "      <th>% body soap</th>\n",
       "      <th>(contiene alimentos nuestros</th>\n",
       "      <th>.  body soap</th>\n",
       "      <th>.  refrigerator</th>\n",
       "      <th>. body soap</th>\n",
       "      <th>. refrigerator</th>\n",
       "      <th>. shampoo</th>\n",
       "      <th>. stainless steel oven</th>\n",
       "      <th>... refrigerator</th>\n",
       "      <th>...</th>\n",
       "      <th>zambu body soap</th>\n",
       "      <th>zanussi electric stove</th>\n",
       "      <th>zanussi oven</th>\n",
       "      <th>zanussi refrigerator</th>\n",
       "      <th>zara home</th>\n",
       "      <th>zara home  white jasmine hand &amp; body body soap</th>\n",
       "      <th>zara home body soap</th>\n",
       "      <th>zara home shampoo</th>\n",
       "      <th>zero body soap</th>\n",
       "      <th>zline electric stove</th>\n",
       "    </tr>\n",
       "  </thead>\n",
       "  <tbody>\n",
       "    <tr>\n",
       "      <th rowspan=\"5\" valign=\"top\">2</th>\n",
       "      <th>0</th>\n",
       "      <td>0</td>\n",
       "      <td>0</td>\n",
       "      <td>0</td>\n",
       "      <td>0</td>\n",
       "      <td>0</td>\n",
       "      <td>0</td>\n",
       "      <td>0</td>\n",
       "      <td>0</td>\n",
       "      <td>0</td>\n",
       "      <td>0</td>\n",
       "      <td>...</td>\n",
       "      <td>0</td>\n",
       "      <td>0</td>\n",
       "      <td>0</td>\n",
       "      <td>0</td>\n",
       "      <td>0</td>\n",
       "      <td>0</td>\n",
       "      <td>0</td>\n",
       "      <td>0</td>\n",
       "      <td>0</td>\n",
       "      <td>0</td>\n",
       "    </tr>\n",
       "    <tr>\n",
       "      <th>1</th>\n",
       "      <td>0</td>\n",
       "      <td>0</td>\n",
       "      <td>0</td>\n",
       "      <td>0</td>\n",
       "      <td>0</td>\n",
       "      <td>0</td>\n",
       "      <td>0</td>\n",
       "      <td>0</td>\n",
       "      <td>0</td>\n",
       "      <td>0</td>\n",
       "      <td>...</td>\n",
       "      <td>0</td>\n",
       "      <td>0</td>\n",
       "      <td>0</td>\n",
       "      <td>0</td>\n",
       "      <td>0</td>\n",
       "      <td>0</td>\n",
       "      <td>0</td>\n",
       "      <td>0</td>\n",
       "      <td>0</td>\n",
       "      <td>0</td>\n",
       "    </tr>\n",
       "    <tr>\n",
       "      <th>2</th>\n",
       "      <td>0</td>\n",
       "      <td>0</td>\n",
       "      <td>0</td>\n",
       "      <td>0</td>\n",
       "      <td>0</td>\n",
       "      <td>0</td>\n",
       "      <td>0</td>\n",
       "      <td>0</td>\n",
       "      <td>0</td>\n",
       "      <td>0</td>\n",
       "      <td>...</td>\n",
       "      <td>0</td>\n",
       "      <td>0</td>\n",
       "      <td>0</td>\n",
       "      <td>0</td>\n",
       "      <td>0</td>\n",
       "      <td>0</td>\n",
       "      <td>0</td>\n",
       "      <td>0</td>\n",
       "      <td>0</td>\n",
       "      <td>0</td>\n",
       "    </tr>\n",
       "    <tr>\n",
       "      <th>3</th>\n",
       "      <td>0</td>\n",
       "      <td>0</td>\n",
       "      <td>0</td>\n",
       "      <td>0</td>\n",
       "      <td>0</td>\n",
       "      <td>0</td>\n",
       "      <td>0</td>\n",
       "      <td>0</td>\n",
       "      <td>0</td>\n",
       "      <td>0</td>\n",
       "      <td>...</td>\n",
       "      <td>0</td>\n",
       "      <td>0</td>\n",
       "      <td>0</td>\n",
       "      <td>0</td>\n",
       "      <td>0</td>\n",
       "      <td>0</td>\n",
       "      <td>0</td>\n",
       "      <td>0</td>\n",
       "      <td>0</td>\n",
       "      <td>0</td>\n",
       "    </tr>\n",
       "    <tr>\n",
       "      <th>4</th>\n",
       "      <td>0</td>\n",
       "      <td>0</td>\n",
       "      <td>0</td>\n",
       "      <td>0</td>\n",
       "      <td>0</td>\n",
       "      <td>0</td>\n",
       "      <td>0</td>\n",
       "      <td>0</td>\n",
       "      <td>0</td>\n",
       "      <td>0</td>\n",
       "      <td>...</td>\n",
       "      <td>0</td>\n",
       "      <td>0</td>\n",
       "      <td>0</td>\n",
       "      <td>0</td>\n",
       "      <td>0</td>\n",
       "      <td>0</td>\n",
       "      <td>0</td>\n",
       "      <td>0</td>\n",
       "      <td>0</td>\n",
       "      <td>0</td>\n",
       "    </tr>\n",
       "    <tr>\n",
       "      <th>...</th>\n",
       "      <th>...</th>\n",
       "      <td>...</td>\n",
       "      <td>...</td>\n",
       "      <td>...</td>\n",
       "      <td>...</td>\n",
       "      <td>...</td>\n",
       "      <td>...</td>\n",
       "      <td>...</td>\n",
       "      <td>...</td>\n",
       "      <td>...</td>\n",
       "      <td>...</td>\n",
       "      <td>...</td>\n",
       "      <td>...</td>\n",
       "      <td>...</td>\n",
       "      <td>...</td>\n",
       "      <td>...</td>\n",
       "      <td>...</td>\n",
       "      <td>...</td>\n",
       "      <td>...</td>\n",
       "      <td>...</td>\n",
       "      <td>...</td>\n",
       "      <td>...</td>\n",
       "    </tr>\n",
       "    <tr>\n",
       "      <th rowspan=\"5\" valign=\"top\">20775</th>\n",
       "      <th>22</th>\n",
       "      <td>0</td>\n",
       "      <td>0</td>\n",
       "      <td>0</td>\n",
       "      <td>0</td>\n",
       "      <td>0</td>\n",
       "      <td>0</td>\n",
       "      <td>0</td>\n",
       "      <td>0</td>\n",
       "      <td>0</td>\n",
       "      <td>0</td>\n",
       "      <td>...</td>\n",
       "      <td>0</td>\n",
       "      <td>0</td>\n",
       "      <td>0</td>\n",
       "      <td>0</td>\n",
       "      <td>0</td>\n",
       "      <td>0</td>\n",
       "      <td>0</td>\n",
       "      <td>0</td>\n",
       "      <td>0</td>\n",
       "      <td>0</td>\n",
       "    </tr>\n",
       "    <tr>\n",
       "      <th>23</th>\n",
       "      <td>0</td>\n",
       "      <td>0</td>\n",
       "      <td>0</td>\n",
       "      <td>0</td>\n",
       "      <td>0</td>\n",
       "      <td>0</td>\n",
       "      <td>0</td>\n",
       "      <td>0</td>\n",
       "      <td>0</td>\n",
       "      <td>0</td>\n",
       "      <td>...</td>\n",
       "      <td>0</td>\n",
       "      <td>0</td>\n",
       "      <td>0</td>\n",
       "      <td>0</td>\n",
       "      <td>0</td>\n",
       "      <td>0</td>\n",
       "      <td>0</td>\n",
       "      <td>0</td>\n",
       "      <td>0</td>\n",
       "      <td>0</td>\n",
       "    </tr>\n",
       "    <tr>\n",
       "      <th>24</th>\n",
       "      <td>0</td>\n",
       "      <td>0</td>\n",
       "      <td>0</td>\n",
       "      <td>0</td>\n",
       "      <td>0</td>\n",
       "      <td>0</td>\n",
       "      <td>0</td>\n",
       "      <td>0</td>\n",
       "      <td>0</td>\n",
       "      <td>0</td>\n",
       "      <td>...</td>\n",
       "      <td>0</td>\n",
       "      <td>0</td>\n",
       "      <td>0</td>\n",
       "      <td>0</td>\n",
       "      <td>0</td>\n",
       "      <td>0</td>\n",
       "      <td>0</td>\n",
       "      <td>0</td>\n",
       "      <td>0</td>\n",
       "      <td>0</td>\n",
       "    </tr>\n",
       "    <tr>\n",
       "      <th>25</th>\n",
       "      <td>0</td>\n",
       "      <td>0</td>\n",
       "      <td>0</td>\n",
       "      <td>0</td>\n",
       "      <td>0</td>\n",
       "      <td>0</td>\n",
       "      <td>0</td>\n",
       "      <td>0</td>\n",
       "      <td>0</td>\n",
       "      <td>0</td>\n",
       "      <td>...</td>\n",
       "      <td>0</td>\n",
       "      <td>0</td>\n",
       "      <td>0</td>\n",
       "      <td>0</td>\n",
       "      <td>0</td>\n",
       "      <td>0</td>\n",
       "      <td>0</td>\n",
       "      <td>0</td>\n",
       "      <td>0</td>\n",
       "      <td>0</td>\n",
       "    </tr>\n",
       "    <tr>\n",
       "      <th>26</th>\n",
       "      <td>0</td>\n",
       "      <td>0</td>\n",
       "      <td>0</td>\n",
       "      <td>0</td>\n",
       "      <td>0</td>\n",
       "      <td>0</td>\n",
       "      <td>0</td>\n",
       "      <td>0</td>\n",
       "      <td>0</td>\n",
       "      <td>0</td>\n",
       "      <td>...</td>\n",
       "      <td>0</td>\n",
       "      <td>0</td>\n",
       "      <td>0</td>\n",
       "      <td>0</td>\n",
       "      <td>0</td>\n",
       "      <td>0</td>\n",
       "      <td>0</td>\n",
       "      <td>0</td>\n",
       "      <td>0</td>\n",
       "      <td>0</td>\n",
       "    </tr>\n",
       "  </tbody>\n",
       "</table>\n",
       "<p>310454 rows × 1087 columns</p>\n",
       "</div>"
      ],
      "text/plain": [
       "             % body soap  (contiene alimentos nuestros  .  body soap  \\\n",
       "2     0   0            0                             0             0   \n",
       "      1   0            0                             0             0   \n",
       "      2   0            0                             0             0   \n",
       "      3   0            0                             0             0   \n",
       "      4   0            0                             0             0   \n",
       "...      ..          ...                           ...           ...   \n",
       "20775 22  0            0                             0             0   \n",
       "      23  0            0                             0             0   \n",
       "      24  0            0                             0             0   \n",
       "      25  0            0                             0             0   \n",
       "      26  0            0                             0             0   \n",
       "\n",
       "          .  refrigerator  . body soap  . refrigerator  . shampoo  \\\n",
       "2     0                 0            0               0          0   \n",
       "      1                 0            0               0          0   \n",
       "      2                 0            0               0          0   \n",
       "      3                 0            0               0          0   \n",
       "      4                 0            0               0          0   \n",
       "...                   ...          ...             ...        ...   \n",
       "20775 22                0            0               0          0   \n",
       "      23                0            0               0          0   \n",
       "      24                0            0               0          0   \n",
       "      25                0            0               0          0   \n",
       "      26                0            0               0          0   \n",
       "\n",
       "          . stainless steel oven  ... refrigerator  ...  zambu body soap  \\\n",
       "2     0                        0                 0  ...                0   \n",
       "      1                        0                 0  ...                0   \n",
       "      2                        0                 0  ...                0   \n",
       "      3                        0                 0  ...                0   \n",
       "      4                        0                 0  ...                0   \n",
       "...                          ...               ...  ...              ...   \n",
       "20775 22                       0                 0  ...                0   \n",
       "      23                       0                 0  ...                0   \n",
       "      24                       0                 0  ...                0   \n",
       "      25                       0                 0  ...                0   \n",
       "      26                       0                 0  ...                0   \n",
       "\n",
       "          zanussi electric stove  zanussi oven  zanussi refrigerator  \\\n",
       "2     0                        0             0                     0   \n",
       "      1                        0             0                     0   \n",
       "      2                        0             0                     0   \n",
       "      3                        0             0                     0   \n",
       "      4                        0             0                     0   \n",
       "...                          ...           ...                   ...   \n",
       "20775 22                       0             0                     0   \n",
       "      23                       0             0                     0   \n",
       "      24                       0             0                     0   \n",
       "      25                       0             0                     0   \n",
       "      26                       0             0                     0   \n",
       "\n",
       "          zara home  zara home  white jasmine hand & body body soap  \\\n",
       "2     0           0                                               0   \n",
       "      1           0                                               0   \n",
       "      2           0                                               0   \n",
       "      3           0                                               0   \n",
       "      4           0                                               0   \n",
       "...             ...                                             ...   \n",
       "20775 22          0                                               0   \n",
       "      23          0                                               0   \n",
       "      24          0                                               0   \n",
       "      25          0                                               0   \n",
       "      26          0                                               0   \n",
       "\n",
       "          zara home body soap  zara home shampoo  zero body soap  \\\n",
       "2     0                     0                  0               0   \n",
       "      1                     0                  0               0   \n",
       "      2                     0                  0               0   \n",
       "      3                     0                  0               0   \n",
       "      4                     0                  0               0   \n",
       "...                       ...                ...             ...   \n",
       "20775 22                    0                  0               0   \n",
       "      23                    0                  0               0   \n",
       "      24                    0                  0               0   \n",
       "      25                    0                  0               0   \n",
       "      26                    0                  0               0   \n",
       "\n",
       "          zline electric stove  \n",
       "2     0                      0  \n",
       "      1                      0  \n",
       "      2                      0  \n",
       "      3                      0  \n",
       "      4                      0  \n",
       "...                        ...  \n",
       "20775 22                     0  \n",
       "      23                     0  \n",
       "      24                     0  \n",
       "      25                     0  \n",
       "      26                     0  \n",
       "\n",
       "[310454 rows x 1087 columns]"
      ]
     },
     "execution_count": 211,
     "metadata": {},
     "output_type": "execute_result"
    }
   ],
   "source": [
    "pd.get_dummies(data.amenities.apply(pd.Series).stack().str.strip())"
   ]
  },
  {
   "cell_type": "code",
   "execution_count": 212,
   "id": "89508ae8",
   "metadata": {},
   "outputs": [],
   "source": [
    "dummies = pd.get_dummies(data.amenities.apply(pd.Series).stack().str.strip()).sum(level=0)\n",
    "data = pd.concat([data, dummies], axis=1)"
   ]
  },
  {
   "cell_type": "code",
   "execution_count": 213,
   "id": "e0fe3a74",
   "metadata": {},
   "outputs": [],
   "source": [
    "#Replace the amenities column with dummies column\n",
    "drops = [\"amenities\"]\n",
    "data.drop(columns=drops, inplace=True)"
   ]
  },
  {
   "cell_type": "code",
   "execution_count": 214,
   "id": "c52dcde1",
   "metadata": {},
   "outputs": [
    {
     "data": {
      "text/plain": [
       "Barajas              41\n",
       "Villa de Vallecas    31\n",
       "Moratalaz            26\n",
       "Vicálvaro            16\n",
       "Name: neighbourhood_group_cleansed, dtype: int64"
      ]
     },
     "execution_count": 214,
     "metadata": {},
     "output_type": "execute_result"
    }
   ],
   "source": [
    "data[\"neighbourhood_group_cleansed\"].value_counts().loc[lambda x: x<50]"
   ]
  },
  {
   "cell_type": "code",
   "execution_count": 215,
   "id": "448cad53",
   "metadata": {},
   "outputs": [],
   "source": [
    "#Group the neighbourhoods that have less than 50 observations as Others\n",
    "\n",
    "data[\"neighbourhood_group_cleansed\"] = np.where(\n",
    "    data[\"neighbourhood_group_cleansed\"].isin(\n",
    "        data[\"neighbourhood_group_cleansed\"]\n",
    "        .value_counts()\n",
    "        .loc[lambda x: x < 50]\n",
    "        .index.tolist()\n",
    "    ),\n",
    "    \"Other\",\n",
    "    data[\"neighbourhood_group_cleansed\"],\n",
    ")"
   ]
  },
  {
   "cell_type": "code",
   "execution_count": 216,
   "id": "d0fd3b87",
   "metadata": {},
   "outputs": [],
   "source": [
    "# Neighbourhood_group_cleansed as location\n",
    "\n",
    "data[\"f_location\"] = data[\"neighbourhood_group_cleansed\"].astype(\"category\")"
   ]
  },
  {
   "cell_type": "code",
   "execution_count": 217,
   "id": "68cad041",
   "metadata": {},
   "outputs": [
    {
     "data": {
      "text/plain": [
       "Centro                   6000\n",
       "Salamanca                1009\n",
       "Chamberí                  692\n",
       "Arganzuela                592\n",
       "Tetuán                    537\n",
       "Retiro                    414\n",
       "Chamartín                 360\n",
       "Carabanchel               297\n",
       "Moncloa - Aravaca         242\n",
       "Ciudad Lineal             225\n",
       "Puente de Vallecas        219\n",
       "Latina                    173\n",
       "Hortaleza                 169\n",
       "Usera                     153\n",
       "San Blas - Canillejas     139\n",
       "Other                     114\n",
       "Fuencarral - El Pardo     102\n",
       "Villaverde                 60\n",
       "Name: f_location, dtype: int64"
      ]
     },
     "execution_count": 217,
     "metadata": {},
     "output_type": "execute_result"
    }
   ],
   "source": [
    "data[\"f_location\"].value_counts()"
   ]
  },
  {
   "cell_type": "code",
   "execution_count": 218,
   "id": "5628e736",
   "metadata": {},
   "outputs": [
    {
     "data": {
      "text/plain": [
       "1 bath       8629\n",
       "2 baths      1904\n",
       "1.5 baths     660\n",
       "3 baths       143\n",
       "2.5 baths     118\n",
       "0 baths        15\n",
       "3.5 baths      13\n",
       "Half-bath       5\n",
       "4 baths         4\n",
       "4.5 baths       3\n",
       "10 baths        1\n",
       "5 baths         1\n",
       "Name: bathrooms_text, dtype: int64"
      ]
     },
     "execution_count": 218,
     "metadata": {},
     "output_type": "execute_result"
    }
   ],
   "source": [
    "#See bathroom types\n",
    "data.bathrooms_text.value_counts()"
   ]
  },
  {
   "cell_type": "code",
   "execution_count": 219,
   "id": "8eac9b42",
   "metadata": {},
   "outputs": [],
   "source": [
    "data.bathrooms_text = np.where(data.bathrooms_text == \"Half-bath\", \"0.5 baths\",data.bathrooms_text)"
   ]
  },
  {
   "cell_type": "code",
   "execution_count": 220,
   "id": "f0c5fab8",
   "metadata": {},
   "outputs": [],
   "source": [
    "data[\"n_bathrooms\"] = data.bathrooms_text.str.split().str[0].apply(float)"
   ]
  },
  {
   "cell_type": "code",
   "execution_count": 221,
   "id": "63dcf00e",
   "metadata": {},
   "outputs": [
    {
     "data": {
      "text/plain": [
       "0.0       15\n",
       "0.5        5\n",
       "1.0     8629\n",
       "1.5      660\n",
       "2.0     1904\n",
       "2.5      118\n",
       "3.0      143\n",
       "3.5       13\n",
       "4.0        4\n",
       "4.5        3\n",
       "5.0        1\n",
       "10.0       1\n",
       "NaN        1\n",
       "Name: n_bathrooms, dtype: int64"
      ]
     },
     "execution_count": 221,
     "metadata": {},
     "output_type": "execute_result"
    }
   ],
   "source": [
    "data[\"n_bathrooms\"].value_counts(dropna=False).sort_index()"
   ]
  },
  {
   "cell_type": "code",
   "execution_count": 222,
   "id": "61c217bd",
   "metadata": {},
   "outputs": [],
   "source": [
    "#Fill nan value with median in order not to lose data point\n",
    "data[\"n_bathrooms\"] = data[\"n_bathrooms\"].fillna(data[\"n_bathrooms\"].median())"
   ]
  },
  {
   "cell_type": "code",
   "execution_count": 223,
   "id": "82c3e16f",
   "metadata": {},
   "outputs": [],
   "source": [
    "#Add numerical columns from existing ones\n",
    "\n",
    "numericals = [\n",
    "    \"accommodates\",\n",
    "    \"review_scores_rating\",\n",
    "    \"number_of_reviews\",\n",
    "    \"availability_365\",\n",
    "    \"minimum_nights\",\n",
    "    \"beds\",\n",
    "    'maximum_nights',\n",
    "    \n",
    "]\n",
    "\n",
    "for col in numericals:\n",
    "    data[\"n_\" + col] = pd.to_numeric(data[col], errors=\"coerce\")"
   ]
  },
  {
   "cell_type": "code",
   "execution_count": 224,
   "id": "49a5b278",
   "metadata": {},
   "outputs": [],
   "source": [
    "# Create days since first review\n",
    "\n",
    "data[\"n_days_since\"] = (\n",
    "    data.calendar_last_scraped.apply(lambda x: datetime.strptime(x, \"%Y-%m-%d\"))\n",
    "    - data.first_review.fillna(\"1950-01-01\").apply(\n",
    "        lambda x: datetime.strptime(x, \"%Y-%m-%d\")\n",
    "    )\n",
    ").dt.days\n",
    "\n",
    "data[\"n_days_since\"] = np.where(data.first_review.isnull(), np.nan, data.n_days_since)"
   ]
  },
  {
   "cell_type": "code",
   "execution_count": 225,
   "id": "8b433786",
   "metadata": {},
   "outputs": [],
   "source": [
    "amenities_to_keep = pd.read_pickle(\"amenities_to_keep.pkl\")"
   ]
  },
  {
   "cell_type": "code",
   "execution_count": 226,
   "id": "88e4c798",
   "metadata": {},
   "outputs": [],
   "source": [
    "# create dummy variables for amenities\n",
    "dummies = amenities_to_keep.index.tolist()\n",
    "\n",
    "for col in dummies:\n",
    "    data[\"d_\" + (re.sub(\"/|\\s|-\", \"\", col)).replace(\"(s)\", \"s\").lower()] = data[col]"
   ]
  },
  {
   "cell_type": "code",
   "execution_count": 227,
   "id": "362df50c",
   "metadata": {},
   "outputs": [],
   "source": [
    "#Create distance variable to show distance from the center. \n",
    "#In the centre of the Centro is Plaza Mayor, so I will take its location as baseline.\n",
    "\n",
    "distances = []\n",
    "for accom_coord in np.array(data[['latitude', 'longitude']]):\n",
    "    coords_plaza_mayor = (40.415524, -3.707488)\n",
    "    # this function calculates distance of coordinates (in km)\n",
    "    distances.append(geopy.distance.distance(coords_plaza_mayor, accom_coord).km)"
   ]
  },
  {
   "cell_type": "code",
   "execution_count": 228,
   "id": "42a48c6a",
   "metadata": {},
   "outputs": [],
   "source": [
    "data[\"n_dist_to_plaza_mayor\"] = distances"
   ]
  },
  {
   "cell_type": "code",
   "execution_count": 229,
   "id": "41165069",
   "metadata": {},
   "outputs": [
    {
     "data": {
      "text/plain": [
       "<AxesSubplot: >"
      ]
     },
     "execution_count": 229,
     "metadata": {},
     "output_type": "execute_result"
    },
    {
     "data": {
      "image/png": "[encoded data removed]",
      "text/plain": [
       "<Figure size 432x288 with 1 Axes>"
      ]
     },
     "metadata": {
      "needs_background": "light"
     },
     "output_type": "display_data"
    }
   ],
   "source": [
    "data.n_dist_to_plaza_mayor.hist(bins=30)"
   ]
  },
  {
   "cell_type": "markdown",
   "id": "c7e0b36f",
   "metadata": {},
   "source": [
    "As we can see, majority of the apartments are close to the centre, so it will be important to consider location to beat the competitors."
   ]
  },
  {
   "cell_type": "code",
   "execution_count": 230,
   "id": "b84e0f36",
   "metadata": {},
   "outputs": [],
   "source": [
    "drops=[\n",
    "     \"beds\",\n",
    "    \"bathrooms\",\n",
    "    \"review_scores_rating\",\n",
    "]\n",
    "data.drop(columns=drops, inplace=True)"
   ]
  },
  {
   "cell_type": "markdown",
   "id": "5d6cffcd",
   "metadata": {},
   "source": [
    "### Prepare dataset for lasso"
   ]
  },
  {
   "cell_type": "code",
   "execution_count": 231,
   "id": "de78b5d5",
   "metadata": {},
   "outputs": [],
   "source": [
    "# Squares and further values to create\n",
    "data = data.assign(\n",
    "    accommodates2=lambda x: x[\"n_accommodates\"] ** 2,\n",
    "    dist_to_plaza_mayor2=lambda x: x[\"n_dist_to_plaza_mayor\"] ** 2,\n",
    "    ln_accommodates=lambda x: np.log(x[\"n_accommodates\"]),\n",
    "    ln_accommodates2=lambda x: np.log(x[\"n_accommodates\"]) ** 2,\n",
    "    ln_beds=lambda x: np.log(x[\"n_beds\"]),\n",
    "    ln_number_of_reviews=lambda x: np.log(x[\"n_number_of_reviews\"] + 1),\n",
    ")"
   ]
  },
  {
   "cell_type": "code",
   "execution_count": 232,
   "id": "ddd9784f",
   "metadata": {},
   "outputs": [
    {
     "data": {
      "text/plain": [
       "1      6358\n",
       "2      3274\n",
       "0      1864\n",
       "NaN       1\n",
       "Name: f_number_of_reviews, dtype: int64"
      ]
     },
     "execution_count": 232,
     "metadata": {},
     "output_type": "execute_result"
    }
   ],
   "source": [
    "# Pool num of reviews to 3 categories: none, 1-51 and >51\n",
    "\n",
    "bins = pd.IntervalIndex.from_tuples(\n",
    "    [(0, 1), (1, 51), (51, max(data.n_number_of_reviews))], closed=\"left\"\n",
    ")\n",
    "fnor = pd.cut(data[\"n_number_of_reviews\"].to_list(), bins, labels=[\"0\", \"1\", \"2\"])\n",
    "fnor.categories = [0, 1, 2]\n",
    "data[\"f_number_of_reviews\"] = fnor\n",
    "data[\"f_number_of_reviews\"].value_counts(dropna=False)"
   ]
  },
  {
   "cell_type": "code",
   "execution_count": 233,
   "id": "2125b1bc",
   "metadata": {},
   "outputs": [
    {
     "data": {
      "text/plain": [
       "3      5175\n",
       "1      3444\n",
       "2      2877\n",
       "NaN       1\n",
       "Name: f_minimum_nights, dtype: int64"
      ]
     },
     "execution_count": 233,
     "metadata": {},
     "output_type": "execute_result"
    }
   ],
   "source": [
    "# Pool and categorize the number of minimum nights: 1,2,3, 3+\n",
    "\n",
    "bins = pd.IntervalIndex.from_tuples(\n",
    "    [(1, 2), (2, 3), (3, max(data.n_minimum_nights))], closed=\"left\"\n",
    ")\n",
    "f_min_n = pd.cut(data[\"n_minimum_nights\"].to_list(), bins, labels=[\"1\", \"2\", \"3\"])\n",
    "f_min_n.categories = [1, 2, 3]\n",
    "data[\"f_minimum_nights\"] = f_min_n\n",
    "data[\"f_minimum_nights\"].value_counts(dropna=False)"
   ]
  },
  {
   "cell_type": "code",
   "execution_count": 234,
   "id": "2cebdea1",
   "metadata": {},
   "outputs": [],
   "source": [
    "# Change Infinite values with NaNs\n",
    "data = data.replace([np.inf, -np.inf], np.nan)"
   ]
  },
  {
   "cell_type": "code",
   "execution_count": 235,
   "id": "8088b866",
   "metadata": {},
   "outputs": [
    {
     "data": {
      "text/plain": [
       "name                               3\n",
       "description                      236\n",
       "neighborhood_overview           4787\n",
       "host_name                          2\n",
       "host_since                         2\n",
       "host_location                   3109\n",
       "host_about                      5638\n",
       "host_response_time              1865\n",
       "host_response_rate              1865\n",
       "host_acceptance_rate            1641\n",
       "host_thumbnail_url                 2\n",
       "host_picture_url                   2\n",
       "host_neighbourhood              5362\n",
       "host_listings_count                2\n",
       "host_total_listings_count          2\n",
       "host_has_profile_pic               2\n",
       "host_identity_verified             2\n",
       "neighbourhood                   4787\n",
       "bathrooms_text                     1\n",
       "bedrooms                        1162\n",
       "minimum_minimum_nights             5\n",
       "maximum_minimum_nights             5\n",
       "minimum_maximum_nights             5\n",
       "maximum_maximum_nights             5\n",
       "minimum_nights_avg_ntm             5\n",
       "maximum_nights_avg_ntm             5\n",
       "calendar_updated               11497\n",
       "first_review                    1864\n",
       "last_review                     1864\n",
       "review_scores_accuracy          1918\n",
       "review_scores_cleanliness       1917\n",
       "review_scores_checkin           1917\n",
       "review_scores_communication     1917\n",
       "review_scores_location          1918\n",
       "review_scores_value             1919\n",
       "license                         9278\n",
       "reviews_per_month               1864\n",
       "n_review_scores_rating          1864\n",
       "n_beds                            87\n",
       "n_days_since                    1864\n",
       "ln_beds                           87\n",
       "f_number_of_reviews                1\n",
       "f_minimum_nights                   1\n",
       "dtype: int64"
      ]
     },
     "execution_count": 235,
     "metadata": {},
     "output_type": "execute_result"
    }
   ],
   "source": [
    "# where do we have missing variables now?\n",
    "to_filter = data.isna().sum()\n",
    "to_filter[to_filter > 0]"
   ]
  },
  {
   "cell_type": "code",
   "execution_count": 236,
   "id": "ee795bb4",
   "metadata": {},
   "outputs": [
    {
     "data": {
      "text/plain": [
       "0"
      ]
     },
     "execution_count": 236,
     "metadata": {},
     "output_type": "execute_result"
    }
   ],
   "source": [
    "data.price.isnull().sum()"
   ]
  },
  {
   "cell_type": "code",
   "execution_count": 237,
   "id": "328daa05",
   "metadata": {},
   "outputs": [],
   "source": [
    "# Impute when few, not that important\n",
    "data = data.assign(\n",
    "    n_beds=lambda x: np.where(x[\"n_beds\"].isnull(), x[\"n_accommodates\"], x[\"n_beds\"]),\n",
    "    f_minimum_nights=lambda x: x[\"f_minimum_nights\"].fillna(1),\n",
    "    f_number_of_reviews=lambda x: x[\"f_number_of_reviews\"].fillna(1),\n",
    "    ln_beds=lambda x: x[\"ln_beds\"].fillna(0),\n",
    "    \n",
    ")"
   ]
  },
  {
   "cell_type": "code",
   "execution_count": 239,
   "id": "09380de1",
   "metadata": {},
   "outputs": [],
   "source": [
    "# Replace missing variables re reviews with zero, when no review + add flags\n",
    "data = data.assign(\n",
    "    flag_days_since=np.multiply(data.n_days_since.isna(), 1),\n",
    "    n_days_since=data.n_days_since.fillna(np.median(data.n_days_since.dropna())),\n",
    "    flag_review_scores_rating=np.multiply(data.n_review_scores_rating.isna(), 1),\n",
    "    n_review_scores_rating=data.n_review_scores_rating.fillna(\n",
    "        np.median(data.n_review_scores_rating.dropna())\n",
    "    ),\n",
    "    flag_n_number_of_reviews=np.multiply(data.n_number_of_reviews.isna(), 1),\n",
    ")"
   ]
  },
  {
   "cell_type": "code",
   "execution_count": 240,
   "id": "d402c8e5",
   "metadata": {},
   "outputs": [
    {
     "data": {
      "text/plain": [
       "0    9633\n",
       "1    1864\n",
       "Name: flag_days_since, dtype: int64"
      ]
     },
     "execution_count": 240,
     "metadata": {},
     "output_type": "execute_result"
    }
   ],
   "source": [
    "data.flag_days_since.value_counts()"
   ]
  },
  {
   "cell_type": "code",
   "execution_count": 241,
   "id": "75db6887",
   "metadata": {},
   "outputs": [],
   "source": [
    "# Create variables, measuring the time since: squared, cubic, logs\n",
    "data = data.assign(\n",
    "    ln_days_since=lambda x: np.log(x[\"n_days_since\"] + 1),\n",
    "    ln_days_since2=lambda x: np.log(x[\"n_days_since\"] + 1) ** 2,\n",
    "    ln_days_since3=lambda x: np.log(x[\"n_days_since\"] + 1) ** 3,\n",
    "    n_days_since2=lambda x: x[\"n_days_since\"] ** 2,\n",
    "    n_days_since3=lambda x: x[\"n_days_since\"] ** 3,\n",
    "    ln_review_scores_rating=lambda x: np.log(x[\"n_review_scores_rating\"]),\n",
    ")"
   ]
  },
  {
   "cell_type": "code",
   "execution_count": 242,
   "id": "b542296c",
   "metadata": {},
   "outputs": [],
   "source": [
    "data.ln_days_since = data[\"ln_days_since\"].fillna(0)\n",
    "data.ln_days_since2 = data[\"ln_days_since2\"].fillna(0)\n",
    "data.ln_days_since3 = data[\"ln_days_since3\"].fillna(0)"
   ]
  },
  {
   "cell_type": "code",
   "execution_count": 243,
   "id": "1098610b",
   "metadata": {},
   "outputs": [],
   "source": [
    "drops=[\n",
    "     \"host_listings_count\",\n",
    "    \"first_review\",\n",
    "    \"last_review\",\n",
    "]\n",
    "data.drop(columns=drops, inplace=True)"
   ]
  },
  {
   "cell_type": "code",
   "execution_count": 244,
   "id": "9d0a9af7",
   "metadata": {},
   "outputs": [
    {
     "data": {
      "text/plain": [
       "name                               3\n",
       "description                      236\n",
       "neighborhood_overview           4787\n",
       "host_name                          2\n",
       "host_since                         2\n",
       "host_location                   3109\n",
       "host_about                      5638\n",
       "host_response_time              1865\n",
       "host_response_rate              1865\n",
       "host_acceptance_rate            1641\n",
       "host_thumbnail_url                 2\n",
       "host_picture_url                   2\n",
       "host_neighbourhood              5362\n",
       "host_total_listings_count          2\n",
       "host_has_profile_pic               2\n",
       "host_identity_verified             2\n",
       "neighbourhood                   4787\n",
       "bathrooms_text                     1\n",
       "bedrooms                        1162\n",
       "minimum_minimum_nights             5\n",
       "maximum_minimum_nights             5\n",
       "minimum_maximum_nights             5\n",
       "maximum_maximum_nights             5\n",
       "minimum_nights_avg_ntm             5\n",
       "maximum_nights_avg_ntm             5\n",
       "calendar_updated               11497\n",
       "review_scores_accuracy          1918\n",
       "review_scores_cleanliness       1917\n",
       "review_scores_checkin           1917\n",
       "review_scores_communication     1917\n",
       "review_scores_location          1918\n",
       "review_scores_value             1919\n",
       "license                         9278\n",
       "reviews_per_month               1864\n",
       "dtype: int64"
      ]
     },
     "execution_count": 244,
     "metadata": {},
     "output_type": "execute_result"
    }
   ],
   "source": [
    "to_filter = data.isna().sum()\n",
    "to_filter[to_filter > 0]"
   ]
  },
  {
   "cell_type": "code",
   "execution_count": 245,
   "id": "fcd3e3cd",
   "metadata": {},
   "outputs": [],
   "source": [
    "data[\"f_property_type\"] = data[\"property_type\"].astype(\"category\")"
   ]
  },
  {
   "cell_type": "code",
   "execution_count": 246,
   "id": "ffff0d0b",
   "metadata": {},
   "outputs": [],
   "source": [
    "# keep columns if contain d_, n_,f_, p_, usd_ and some others\n",
    "\n",
    "data = data.filter(regex=\"^d_.*|^n_.*|^f_.*|^p_.*|^price.*\").assign(id = data.id)"
   ]
  },
  {
   "cell_type": "code",
   "execution_count": 247,
   "id": "1bb0a487",
   "metadata": {},
   "outputs": [],
   "source": [
    "#Save the clean data for further analysis\n",
    "data.to_csv(\"airbnb_madrid_workfile.csv\", index=False)"
   ]
  },
  {
   "cell_type": "markdown",
   "id": "84ebc4fb",
   "metadata": {},
   "source": [
    "The analysis will be performed in another notebook."
   ]
  }
 ],
 "metadata": {
  "kernelspec": {
   "display_name": "Python 3 (ipykernel)",
   "language": "python",
   "name": "python3"
  },
  "language_info": {
   "codemirror_mode": {
    "name": "ipython",
    "version": 3
   },
   "file_extension": ".py",
   "mimetype": "text/x-python",
   "name": "python",
   "nbconvert_exporter": "python",
   "pygments_lexer": "ipython3",
   "version": "3.9.7"
  }
 },
 "nbformat": 4,
 "nbformat_minor": 5
}
