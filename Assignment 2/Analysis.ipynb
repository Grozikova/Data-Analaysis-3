{
 "cells": [
  {
   "cell_type": "markdown",
   "id": "f70b49ef",
   "metadata": {},
   "source": [
    "## <center> Predicting airbnb apartment prices using OLS, LASSO and Random Forest. <br/> Case study of Madrid city apartments. </center>"
   ]
  },
  {
   "cell_type": "code",
   "execution_count": 335,
   "id": "5a72398a",
   "metadata": {},
   "outputs": [],
   "source": [
    "import pandas as pd\n",
    "import numpy as np\n",
    "\n",
    "from plotnine import *\n",
    "from mizani.formatters import percent_format\n",
    "import matplotlib.pyplot as plt\n",
    "import warnings\n",
    "\n",
    "warnings.filterwarnings(\"ignore\")\n",
    "\n",
    "from patsy import dmatrices\n",
    "from sklearn.model_selection import train_test_split\n",
    "from skranger.ensemble import RangerForestRegressor\n",
    "from sklearn.linear_model import LinearRegression\n",
    "from sklearn.compose import TransformedTargetRegressor\n",
    "from sklearn.preprocessing import StandardScaler\n",
    "from sklearn.ensemble import RandomForestRegressor\n",
    "from sklearn.linear_model import ElasticNet\n",
    "from sklearn.metrics import mean_squared_error\n",
    "from sklearn.model_selection import GridSearchCV\n",
    "from sklearn.inspection import permutation_importance\n",
    "from sklearn.inspection import plot_partial_dependence\n",
    "from sklearn.inspection import partial_dependence\n",
    "from sklearn.utils import resample\n",
    "from sklearn.compose import ColumnTransformer\n",
    "from sklearn.pipeline import Pipeline\n",
    "from sklearn.preprocessing import OneHotEncoder"
   ]
  },
  {
   "cell_type": "code",
   "execution_count": 234,
   "id": "edfb6dc7",
   "metadata": {},
   "outputs": [],
   "source": [
    "def plot_pred_true_scatter(true_price,predicted_price,title=\"asd\"):\n",
    "    fig, ax = plt.subplots(figsize=(5,5))\n",
    "    plt.scatter(true_price, predicted_price)\n",
    "    lims = [\n",
    "        np.min([ax.get_xlim(), ax.get_ylim()]),  # min of both axes\n",
    "        np.max([ax.get_xlim(), ax.get_ylim()]),  # max of both axes\n",
    "    ]\n",
    "    \n",
    "    # now plot both limits against eachother\n",
    "    ax.plot(lims, lims, 'k-', alpha=0.75, zorder=0)\n",
    "    ax.set_aspect('equal')\n",
    "    ax.set_xlim(lims)\n",
    "    ax.set_ylim(lims)\n",
    "    plt.xlabel(\"True price\")\n",
    "    plt.ylabel(\"Predicted price\")\n",
    "    plt.title(title)\n",
    "    plt.show()\n",
    "    \n",
    "def corr_pred(array):\n",
    "    return np.exp(array)*np.exp(residual_std)"
   ]
  },
  {
   "cell_type": "code",
   "execution_count": 235,
   "id": "eeb51d15",
   "metadata": {},
   "outputs": [
    {
     "name": "stdout",
     "output_type": "stream",
     "text": [
      "<class 'pandas.core.frame.DataFrame'>\n",
      "RangeIndex: 11497 entries, 0 to 11496\n",
      "Columns: 195 entries, price to id\n",
      "dtypes: float64(8), int64(185), object(2)\n",
      "memory usage: 17.1+ MB\n"
     ]
    }
   ],
   "source": [
    "#Read the dataset\n",
    "\n",
    "area='madrid'\n",
    "data = pd.read_csv('airbnb_madrid_workfile.csv')\n",
    "#Get all column names and general info about the dataset\n",
    "data.info()"
   ]
  },
  {
   "cell_type": "code",
   "execution_count": 329,
   "id": "805a50b9",
   "metadata": {},
   "outputs": [
    {
     "data": {
      "text/plain": [
       "0"
      ]
     },
     "execution_count": 329,
     "metadata": {},
     "output_type": "execute_result"
    }
   ],
   "source": [
    "data.isnull().sum().sum()"
   ]
  },
  {
   "cell_type": "code",
   "execution_count": 237,
   "id": "15fed61e",
   "metadata": {},
   "outputs": [],
   "source": [
    "def count_missing_values(df):\n",
    "    return df.isna().sum()[df.isna().sum() > 0]"
   ]
  },
  {
   "cell_type": "code",
   "execution_count": 238,
   "id": "5d12dc9b",
   "metadata": {},
   "outputs": [
    {
     "data": {
      "text/plain": [
       "Series([], dtype: int64)"
      ]
     },
     "execution_count": 238,
     "metadata": {},
     "output_type": "execute_result"
    }
   ],
   "source": [
    "count_missing_values(data)"
   ]
  },
  {
   "cell_type": "code",
   "execution_count": 239,
   "id": "a5c8d5a1",
   "metadata": {},
   "outputs": [
    {
     "data": {
      "text/plain": [
       "count    11497.000000\n",
       "mean       169.931835\n",
       "std       1527.227521\n",
       "min         10.000000\n",
       "50%         98.000000\n",
       "90%        212.000000\n",
       "95%        300.000000\n",
       "98%        500.000000\n",
       "max      95150.000000\n",
       "Name: price, dtype: float64"
      ]
     },
     "execution_count": 239,
     "metadata": {},
     "output_type": "execute_result"
    }
   ],
   "source": [
    "data.price.describe(percentiles=[0.5,0.9,0.95,0.98])"
   ]
  },
  {
   "cell_type": "code",
   "execution_count": 240,
   "id": "560a5098",
   "metadata": {},
   "outputs": [
    {
     "data": {
      "text/plain": [
       "<AxesSubplot: >"
      ]
     },
     "execution_count": 240,
     "metadata": {},
     "output_type": "execute_result"
    },
    {
     "data": {
      "image/png": "[encoded data removed]",
      "text/plain": [
       "<Figure size 432x288 with 1 Axes>"
      ]
     },
     "metadata": {
      "needs_background": "light"
     },
     "output_type": "display_data"
    }
   ],
   "source": [
    "data.price.hist(bins=30)"
   ]
  },
  {
   "cell_type": "code",
   "execution_count": 241,
   "id": "538d95d5",
   "metadata": {},
   "outputs": [
    {
     "data": {
      "text/plain": [
       "<AxesSubplot: >"
      ]
     },
     "execution_count": 241,
     "metadata": {},
     "output_type": "execute_result"
    },
    {
     "data": {
      "image/png": "[encoded data removed]",
      "text/plain": [
       "<Figure size 432x288 with 1 Axes>"
      ]
     },
     "metadata": {
      "needs_background": "light"
     },
     "output_type": "display_data"
    }
   ],
   "source": [
    "np.log(data.price).hist(bins=30)"
   ]
  },
  {
   "cell_type": "code",
   "execution_count": 242,
   "id": "64caa504",
   "metadata": {},
   "outputs": [],
   "source": [
    "#Create logprice variable as it is more meaningful\n",
    "data[\"lnprice\"] = np.log(data.price)"
   ]
  },
  {
   "cell_type": "code",
   "execution_count": 243,
   "id": "8a8c75df",
   "metadata": {},
   "outputs": [
    {
     "data": {
      "text/plain": [
       "1    6359\n",
       "2    3274\n",
       "0    1864\n",
       "Name: f_number_of_reviews, dtype: int64"
      ]
     },
     "execution_count": 243,
     "metadata": {},
     "output_type": "execute_result"
    }
   ],
   "source": [
    "data.f_number_of_reviews.value_counts()"
   ]
  },
  {
   "cell_type": "code",
   "execution_count": 349,
   "id": "02102808",
   "metadata": {},
   "outputs": [
    {
     "data": {
      "text/plain": [
       "Entire rental unit    10054\n",
       "Entire condo            734\n",
       "Entire loft             709\n",
       "Name: f_property_type, dtype: int64"
      ]
     },
     "execution_count": 349,
     "metadata": {},
     "output_type": "execute_result"
    }
   ],
   "source": [
    "data.f_property_type.value_counts()"
   ]
  },
  {
   "cell_type": "code",
   "execution_count": 350,
   "id": "76e5de3d",
   "metadata": {},
   "outputs": [
    {
     "data": {
      "text/plain": [
       "Centro                   6000\n",
       "Salamanca                1009\n",
       "Chamberí                  692\n",
       "Arganzuela                592\n",
       "Tetuán                    537\n",
       "Retiro                    414\n",
       "Chamartín                 360\n",
       "Carabanchel               297\n",
       "Moncloa - Aravaca         242\n",
       "Ciudad Lineal             225\n",
       "Puente de Vallecas        219\n",
       "Latina                    173\n",
       "Hortaleza                 169\n",
       "Usera                     153\n",
       "San Blas - Canillejas     139\n",
       "Other                     114\n",
       "Fuencarral - El Pardo     102\n",
       "Villaverde                 60\n",
       "Name: f_location, dtype: int64"
      ]
     },
     "execution_count": 350,
     "metadata": {},
     "output_type": "execute_result"
    }
   ],
   "source": [
    "data.f_location.value_counts()"
   ]
  },
  {
   "cell_type": "code",
   "execution_count": 244,
   "id": "3693c450",
   "metadata": {},
   "outputs": [],
   "source": [
    "data.columns = [\n",
    "    item.replace(\"\\\\\", \"\").replace(\":\", \"\") for item in data.columns.tolist()\n",
    "]"
   ]
  },
  {
   "cell_type": "code",
   "execution_count": 298,
   "id": "79912f2a",
   "metadata": {},
   "outputs": [],
   "source": [
    "data.drop([\"id\"],axis=1,inplace=True)"
   ]
  },
  {
   "cell_type": "code",
   "execution_count": 299,
   "id": "5a85c2e4",
   "metadata": {},
   "outputs": [],
   "source": [
    "#Create train and holdout samples\n",
    "\n",
    "data_train, data_holdout = train_test_split(data, train_size=0.7, random_state=42)"
   ]
  },
  {
   "cell_type": "code",
   "execution_count": 300,
   "id": "9bb04302",
   "metadata": {},
   "outputs": [
    {
     "data": {
      "text/plain": [
       "((8047, 194), (3450, 194))"
      ]
     },
     "execution_count": 300,
     "metadata": {},
     "output_type": "execute_result"
    }
   ],
   "source": [
    "data_train.shape, data_holdout.shape"
   ]
  },
  {
   "cell_type": "code",
   "execution_count": 301,
   "id": "e65c5f8e",
   "metadata": {},
   "outputs": [],
   "source": [
    "data_train = data_train.loc[lambda x: x[\"price\"] < x[\"price\"].describe(percentiles=[0.98])[\"98%\"]]"
   ]
  },
  {
   "cell_type": "code",
   "execution_count": 302,
   "id": "20409e57",
   "metadata": {},
   "outputs": [],
   "source": [
    "all_variables = [item.replace(\"\\\\\",\"\").replace(\":\",\"\") for item in data.columns.tolist()[1:-19]]\n",
    "\n",
    "target_variable = \"price\"\n",
    "\n",
    "# interactions for the LASSO\n",
    "\n",
    "X1 = [\n",
    "    \"n_accommodates:f_property_type\",\n",
    "    \"f_property_type:n_dist_to_plaza_mayor\",\n",
    "    \"n_accommodates:d_longtermstaysallowed\",\n",
    "    \"d_breakfast:f_property_type\",\n",
    "    \"d_kitchen:f_property_type\",\n",
    "    \"d_elevator:f_property_type\",\n",
    "    \"d_essentials:f_property_type\"\n",
    "]\n",
    "# with locations\n",
    "X2 = [\n",
    "    \"f_property_type:f_location\",\n",
    "    \"n_accommodates:f_location\",\n",
    "]\n",
    "\n",
    "predictors_tree = all_variables\n",
    "predictors_lasso = all_variables + X1 + X2\n"
   ]
  },
  {
   "cell_type": "code",
   "execution_count": 303,
   "id": "b305c896",
   "metadata": {},
   "outputs": [
    {
     "data": {
      "text/plain": [
       "183"
      ]
     },
     "execution_count": 303,
     "metadata": {},
     "output_type": "execute_result"
    }
   ],
   "source": [
    "len(predictors_lasso)"
   ]
  },
  {
   "cell_type": "markdown",
   "id": "18789537",
   "metadata": {},
   "source": [
    "## OLS MODEL"
   ]
  },
  {
   "cell_type": "code",
   "execution_count": 304,
   "id": "479a56ba",
   "metadata": {},
   "outputs": [
    {
     "name": "stdout",
     "output_type": "stream",
     "text": [
      "50.6304660409138\n",
      "1797.291479324977\n",
      "35.31351652361035\n"
     ]
    }
   ],
   "source": [
    "y, X = dmatrices(target_variable + \" ~ \" + \" + \".join(predictors_tree), data_train)\n",
    "y_hold, X_test = dmatrices(\n",
    "    target_variable + \" ~ \" + \" + \".join(predictors_tree), data_holdout\n",
    ")\n",
    "y_hold_t, X_test_t = dmatrices(\n",
    "    target_variable + \" ~ \" + \" + \".join(predictors_tree),\n",
    "    data_holdout.loc[lambda x: x[\"price\"] < 190],\n",
    ")\n",
    "\n",
    "ols_model = LinearRegression().fit(X, y)\n",
    "\n",
    "y_hat = ols_model.predict(X)\n",
    "\n",
    "ols_rmse = mean_squared_error(y, y_hat, squared=False)\n",
    "print(ols_rmse)\n",
    "\n",
    "y_hat_test = ols_model.predict(X_test)\n",
    "ols_rmse_test = mean_squared_error(y_hold, y_hat_test, squared=False)\n",
    "print(ols_rmse_test)\n",
    "\n",
    "y_hat_t = ols_model.predict(X_test_t)\n",
    "ols_rmse_test_t = mean_squared_error(y_hold_t, y_hat_t, squared=False)\n",
    "print(ols_rmse_test_t)"
   ]
  },
  {
   "cell_type": "code",
   "execution_count": 305,
   "id": "6ba8483f",
   "metadata": {},
   "outputs": [
    {
     "data": {
      "image/png": "[encoded data removed]",
      "text/plain": [
       "<Figure size 360x360 with 1 Axes>"
      ]
     },
     "metadata": {
      "needs_background": "light"
     },
     "output_type": "display_data"
    }
   ],
   "source": [
    "plot_pred_true_scatter(y, y_hat,title='OLS test set')"
   ]
  },
  {
   "cell_type": "code",
   "execution_count": 306,
   "id": "bb7fde35",
   "metadata": {},
   "outputs": [
    {
     "data": {
      "image/png": "[encoded data removed]",
      "text/plain": [
       "<Figure size 360x360 with 1 Axes>"
      ]
     },
     "metadata": {
      "needs_background": "light"
     },
     "output_type": "display_data"
    }
   ],
   "source": [
    "plot_pred_true_scatter(y_hold,y_hat_test,title='OLS test set')"
   ]
  },
  {
   "cell_type": "code",
   "execution_count": 307,
   "id": "abdfc7fb",
   "metadata": {},
   "outputs": [
    {
     "data": {
      "image/png": "[encoded data removed]",
      "text/plain": [
       "<Figure size 360x360 with 1 Axes>"
      ]
     },
     "metadata": {
      "needs_background": "light"
     },
     "output_type": "display_data"
    }
   ],
   "source": [
    "plot_pred_true_scatter(y_hold_t, y_hat_t,title='OLS truncated test set')"
   ]
  },
  {
   "cell_type": "markdown",
   "id": "4cd60db0",
   "metadata": {},
   "source": [
    "## LASSO MODEL"
   ]
  },
  {
   "cell_type": "code",
   "execution_count": 308,
   "id": "342b3355",
   "metadata": {},
   "outputs": [
    {
     "name": "stdout",
     "output_type": "stream",
     "text": [
      "Fitting 5 folds for each of 14 candidates, totalling 70 fits\n",
      "[CV 1/5] END .......................alpha=0.1;, score=-51.184 total time=   0.2s\n",
      "[CV 2/5] END .......................alpha=0.1;, score=-51.732 total time=   0.2s\n",
      "[CV 3/5] END .......................alpha=0.1;, score=-52.011 total time=   0.3s\n",
      "[CV 4/5] END .......................alpha=0.1;, score=-48.876 total time=   0.3s\n",
      "[CV 5/5] END .......................alpha=0.1;, score=-53.061 total time=   0.4s\n",
      "[CV 1/5] END ......................alpha=0.13;, score=-51.175 total time=   0.2s\n",
      "[CV 2/5] END ......................alpha=0.13;, score=-51.691 total time=   0.1s\n",
      "[CV 3/5] END ......................alpha=0.13;, score=-52.076 total time=   0.2s\n",
      "[CV 4/5] END ......................alpha=0.13;, score=-48.946 total time=   0.2s\n",
      "[CV 5/5] END ......................alpha=0.13;, score=-53.154 total time=   0.3s\n",
      "[CV 1/5] END ......................alpha=0.16;, score=-51.187 total time=   0.3s\n",
      "[CV 2/5] END ......................alpha=0.16;, score=-51.699 total time=   0.1s\n",
      "[CV 3/5] END ......................alpha=0.16;, score=-52.162 total time=   0.1s\n",
      "[CV 4/5] END ......................alpha=0.16;, score=-49.038 total time=   0.2s\n",
      "[CV 5/5] END ......................alpha=0.16;, score=-53.248 total time=   0.3s\n",
      "[CV 1/5] END ......................alpha=0.19;, score=-51.184 total time=   0.3s\n",
      "[CV 2/5] END ......................alpha=0.19;, score=-51.737 total time=   0.2s\n",
      "[CV 3/5] END ......................alpha=0.19;, score=-52.233 total time=   0.1s\n",
      "[CV 4/5] END ......................alpha=0.19;, score=-49.119 total time=   0.4s\n",
      "[CV 5/5] END ......................alpha=0.19;, score=-53.342 total time=   0.2s\n",
      "[CV 1/5] END ......................alpha=0.22;, score=-51.185 total time=   0.2s\n",
      "[CV 2/5] END ......................alpha=0.22;, score=-51.768 total time=   0.2s\n",
      "[CV 3/5] END ......................alpha=0.22;, score=-52.291 total time=   0.1s\n",
      "[CV 4/5] END ......................alpha=0.22;, score=-49.185 total time=   0.3s\n",
      "[CV 5/5] END ......................alpha=0.22;, score=-53.451 total time=   0.2s\n",
      "[CV 1/5] END ......................alpha=0.25;, score=-51.199 total time=   0.2s\n",
      "[CV 2/5] END ......................alpha=0.25;, score=-51.807 total time=   0.0s\n",
      "[CV 3/5] END ......................alpha=0.25;, score=-52.343 total time=   0.2s\n",
      "[CV 4/5] END ......................alpha=0.25;, score=-49.245 total time=   0.2s\n",
      "[CV 5/5] END ......................alpha=0.25;, score=-53.555 total time=   0.2s\n",
      "[CV 1/5] END ......................alpha=0.28;, score=-51.217 total time=   0.0s\n",
      "[CV 2/5] END ......................alpha=0.28;, score=-51.839 total time=   0.1s\n",
      "[CV 3/5] END ......................alpha=0.28;, score=-52.400 total time=   0.2s\n",
      "[CV 4/5] END ......................alpha=0.28;, score=-49.308 total time=   0.0s\n",
      "[CV 5/5] END ......................alpha=0.28;, score=-53.642 total time=   0.0s\n",
      "[CV 1/5] END ......................alpha=0.31;, score=-51.240 total time=   0.0s\n",
      "[CV 2/5] END ......................alpha=0.31;, score=-51.868 total time=   0.1s\n",
      "[CV 3/5] END ......................alpha=0.31;, score=-52.457 total time=   0.0s\n",
      "[CV 4/5] END ......................alpha=0.31;, score=-49.375 total time=   0.0s\n",
      "[CV 5/5] END ......................alpha=0.31;, score=-53.721 total time=   0.0s\n",
      "[CV 1/5] END ......................alpha=0.34;, score=-51.272 total time=   0.1s\n",
      "[CV 2/5] END ......................alpha=0.34;, score=-51.901 total time=   0.1s\n",
      "[CV 3/5] END ......................alpha=0.34;, score=-52.511 total time=   0.0s\n",
      "[CV 4/5] END ......................alpha=0.34;, score=-49.446 total time=   0.0s\n",
      "[CV 5/5] END ......................alpha=0.34;, score=-53.796 total time=   0.0s\n",
      "[CV 1/5] END ......................alpha=0.37;, score=-51.304 total time=   0.0s\n",
      "[CV 2/5] END ......................alpha=0.37;, score=-51.936 total time=   0.1s\n",
      "[CV 3/5] END ......................alpha=0.37;, score=-52.564 total time=   0.0s\n",
      "[CV 4/5] END ......................alpha=0.37;, score=-49.522 total time=   0.0s\n",
      "[CV 5/5] END ......................alpha=0.37;, score=-53.874 total time=   0.0s\n",
      "[CV 1/5] END .......................alpha=0.4;, score=-51.337 total time=   0.0s\n",
      "[CV 2/5] END .......................alpha=0.4;, score=-51.978 total time=   0.1s\n",
      "[CV 3/5] END .......................alpha=0.4;, score=-52.615 total time=   0.0s\n",
      "[CV 4/5] END .......................alpha=0.4;, score=-49.600 total time=   0.0s\n",
      "[CV 5/5] END .......................alpha=0.4;, score=-53.949 total time=   0.0s\n",
      "[CV 1/5] END ......................alpha=0.43;, score=-51.370 total time=   0.0s\n",
      "[CV 2/5] END ......................alpha=0.43;, score=-52.021 total time=   0.1s\n",
      "[CV 3/5] END ......................alpha=0.43;, score=-52.668 total time=   0.0s\n",
      "[CV 4/5] END ......................alpha=0.43;, score=-49.674 total time=   0.0s\n",
      "[CV 5/5] END ......................alpha=0.43;, score=-54.024 total time=   0.0s\n",
      "[CV 1/5] END ......................alpha=0.46;, score=-51.406 total time=   0.1s\n",
      "[CV 2/5] END ......................alpha=0.46;, score=-52.066 total time=   0.1s\n",
      "[CV 3/5] END ......................alpha=0.46;, score=-52.725 total time=   0.0s\n",
      "[CV 4/5] END ......................alpha=0.46;, score=-49.747 total time=   0.0s\n",
      "[CV 5/5] END ......................alpha=0.46;, score=-54.100 total time=   0.0s\n",
      "[CV 1/5] END ......................alpha=0.49;, score=-51.447 total time=   0.1s\n",
      "[CV 2/5] END ......................alpha=0.49;, score=-52.111 total time=   0.1s\n",
      "[CV 3/5] END ......................alpha=0.49;, score=-52.787 total time=   0.0s\n",
      "[CV 4/5] END ......................alpha=0.49;, score=-49.818 total time=   0.0s\n",
      "[CV 5/5] END ......................alpha=0.49;, score=-54.179 total time=   0.0s\n"
     ]
    },
    {
     "data": {
      "text/plain": [
       "GridSearchCV(cv=5, estimator=ElasticNet(l1_ratio=1),\n",
       "             param_grid={'alpha': [0.1, 0.13, 0.16, 0.19, 0.22, 0.25, 0.28,\n",
       "                                   0.31, 0.34, 0.37, 0.4, 0.43, 0.46, 0.49]},\n",
       "             scoring='neg_root_mean_squared_error', verbose=3)"
      ]
     },
     "execution_count": 308,
     "metadata": {},
     "output_type": "execute_result"
    }
   ],
   "source": [
    "lasso_model = ElasticNet(l1_ratio=1, fit_intercept=True)\n",
    "\n",
    "lasso_pipeline = Pipeline([(\"scale\", StandardScaler()), (\"regressor\", lasso_model)])\n",
    "\n",
    "lasso_model_cv = GridSearchCV(\n",
    "    lasso_model,\n",
    "    {\"alpha\": [i / 100 for i in range(10, 50, 3)]},\n",
    "    cv=5,\n",
    "    scoring=\"neg_root_mean_squared_error\",\n",
    "    verbose=3,\n",
    ")\n",
    "\n",
    "\n",
    "\n",
    "y, X = dmatrices(target_variable + \" ~ \" + \" + \".join(predictors_lasso), data_train)\n",
    "\n",
    "lasso_model_cv.fit(X, y.ravel())"
   ]
  },
  {
   "cell_type": "code",
   "execution_count": 309,
   "id": "889d0d91",
   "metadata": {},
   "outputs": [
    {
     "data": {
      "text/plain": [
       "51.3728103086446"
      ]
     },
     "execution_count": 309,
     "metadata": {},
     "output_type": "execute_result"
    }
   ],
   "source": [
    "lasso_rmse = pd.DataFrame(lasso_model_cv.cv_results_).loc[\n",
    "    lambda x: x.param_alpha == lasso_model_cv.best_estimator_.alpha\n",
    "].mean_test_score.values[0] * -1\n",
    "lasso_rmse"
   ]
  },
  {
   "cell_type": "markdown",
   "id": "acc8de5d",
   "metadata": {},
   "source": [
    "### Random Forest Model"
   ]
  },
  {
   "cell_type": "code",
   "execution_count": 311,
   "id": "399dfad7",
   "metadata": {
    "scrolled": true
   },
   "outputs": [
    {
     "name": "stdout",
     "output_type": "stream",
     "text": [
      "Fitting 5 folds for each of 9 candidates, totalling 45 fits\n",
      "[CV 1/5] END .........min_node_size=5, mtry=8;, score=-48.130 total time=   1.0s\n",
      "[CV 2/5] END .........min_node_size=5, mtry=8;, score=-50.335 total time=   1.1s\n",
      "[CV 3/5] END .........min_node_size=5, mtry=8;, score=-49.588 total time=   1.1s\n",
      "[CV 4/5] END .........min_node_size=5, mtry=8;, score=-46.488 total time=   1.0s\n",
      "[CV 5/5] END .........min_node_size=5, mtry=8;, score=-51.789 total time=   0.9s\n",
      "[CV 1/5] END ........min_node_size=5, mtry=10;, score=-47.752 total time=   1.0s\n",
      "[CV 2/5] END ........min_node_size=5, mtry=10;, score=-49.603 total time=   1.0s\n",
      "[CV 3/5] END ........min_node_size=5, mtry=10;, score=-48.802 total time=   1.0s\n",
      "[CV 4/5] END ........min_node_size=5, mtry=10;, score=-45.841 total time=   1.0s\n",
      "[CV 5/5] END ........min_node_size=5, mtry=10;, score=-50.943 total time=   1.0s\n",
      "[CV 1/5] END ........min_node_size=5, mtry=12;, score=-47.208 total time=   1.1s\n",
      "[CV 2/5] END ........min_node_size=5, mtry=12;, score=-49.441 total time=   1.1s\n",
      "[CV 3/5] END ........min_node_size=5, mtry=12;, score=-48.642 total time=   1.5s\n",
      "[CV 4/5] END ........min_node_size=5, mtry=12;, score=-45.421 total time=   1.2s\n",
      "[CV 5/5] END ........min_node_size=5, mtry=12;, score=-50.512 total time=   1.3s\n",
      "[CV 1/5] END ........min_node_size=10, mtry=8;, score=-48.508 total time=   0.8s\n",
      "[CV 2/5] END ........min_node_size=10, mtry=8;, score=-50.384 total time=   0.8s\n",
      "[CV 3/5] END ........min_node_size=10, mtry=8;, score=-49.909 total time=   0.8s\n",
      "[CV 4/5] END ........min_node_size=10, mtry=8;, score=-46.791 total time=   0.8s\n",
      "[CV 5/5] END ........min_node_size=10, mtry=8;, score=-52.309 total time=   0.8s\n",
      "[CV 1/5] END .......min_node_size=10, mtry=10;, score=-48.057 total time=   0.9s\n",
      "[CV 2/5] END .......min_node_size=10, mtry=10;, score=-49.734 total time=   0.9s\n",
      "[CV 3/5] END .......min_node_size=10, mtry=10;, score=-49.318 total time=   0.9s\n",
      "[CV 4/5] END .......min_node_size=10, mtry=10;, score=-46.190 total time=   0.9s\n",
      "[CV 5/5] END .......min_node_size=10, mtry=10;, score=-51.786 total time=   0.9s\n",
      "[CV 1/5] END .......min_node_size=10, mtry=12;, score=-47.693 total time=   1.0s\n",
      "[CV 2/5] END .......min_node_size=10, mtry=12;, score=-49.465 total time=   1.1s\n",
      "[CV 3/5] END .......min_node_size=10, mtry=12;, score=-48.979 total time=   1.0s\n",
      "[CV 4/5] END .......min_node_size=10, mtry=12;, score=-46.082 total time=   1.0s\n",
      "[CV 5/5] END .......min_node_size=10, mtry=12;, score=-51.115 total time=   1.0s\n",
      "[CV 1/5] END ........min_node_size=15, mtry=8;, score=-48.585 total time=   0.8s\n",
      "[CV 2/5] END ........min_node_size=15, mtry=8;, score=-50.734 total time=   0.8s\n",
      "[CV 3/5] END ........min_node_size=15, mtry=8;, score=-50.558 total time=   0.7s\n",
      "[CV 4/5] END ........min_node_size=15, mtry=8;, score=-47.132 total time=   0.7s\n",
      "[CV 5/5] END ........min_node_size=15, mtry=8;, score=-52.398 total time=   0.7s\n",
      "[CV 1/5] END .......min_node_size=15, mtry=10;, score=-48.448 total time=   0.8s\n",
      "[CV 2/5] END .......min_node_size=15, mtry=10;, score=-50.233 total time=   0.9s\n",
      "[CV 3/5] END .......min_node_size=15, mtry=10;, score=-49.546 total time=   0.8s\n",
      "[CV 4/5] END .......min_node_size=15, mtry=10;, score=-46.963 total time=   0.9s\n",
      "[CV 5/5] END .......min_node_size=15, mtry=10;, score=-52.118 total time=   0.9s\n",
      "[CV 1/5] END .......min_node_size=15, mtry=12;, score=-47.883 total time=   1.0s\n",
      "[CV 2/5] END .......min_node_size=15, mtry=12;, score=-49.930 total time=   0.9s\n",
      "[CV 3/5] END .......min_node_size=15, mtry=12;, score=-49.491 total time=   0.9s\n",
      "[CV 4/5] END .......min_node_size=15, mtry=12;, score=-46.583 total time=   1.0s\n",
      "[CV 5/5] END .......min_node_size=15, mtry=12;, score=-51.521 total time=   1.0s\n"
     ]
    }
   ],
   "source": [
    "rfr = RangerForestRegressor(importance=\"impurity\",seed = 42)\n",
    "\n",
    "tune_grid = {\"mtry\": [8, 10, 12], \"min_node_size\": [5, 10, 15]}\n",
    "\n",
    "rf_random = GridSearchCV(\n",
    "    rfr,\n",
    "    tune_grid,\n",
    "    cv=5,\n",
    "    scoring=\"neg_root_mean_squared_error\",\n",
    "    verbose=3,\n",
    ")\n",
    "\n",
    "y, X = dmatrices(target_variable + \" ~ \" + \" + \".join(predictors_tree), data_train)\n",
    "\n",
    "rf_model = rf_random.fit(X,y.ravel())"
   ]
  },
  {
   "cell_type": "code",
   "execution_count": 312,
   "id": "5caf6ea2",
   "metadata": {},
   "outputs": [
    {
     "data": {
      "text/html": [
       "<div>\n",
       "<style scoped>\n",
       "    .dataframe tbody tr th:only-of-type {\n",
       "        vertical-align: middle;\n",
       "    }\n",
       "\n",
       "    .dataframe tbody tr th {\n",
       "        vertical-align: top;\n",
       "    }\n",
       "\n",
       "    .dataframe thead th {\n",
       "        text-align: right;\n",
       "    }\n",
       "</style>\n",
       "<table border=\"1\" class=\"dataframe\">\n",
       "  <thead>\n",
       "    <tr style=\"text-align: right;\">\n",
       "      <th>Variables</th>\n",
       "      <th>8</th>\n",
       "      <th>10</th>\n",
       "      <th>12</th>\n",
       "    </tr>\n",
       "    <tr>\n",
       "      <th>Min_nodes</th>\n",
       "      <th></th>\n",
       "      <th></th>\n",
       "      <th></th>\n",
       "    </tr>\n",
       "  </thead>\n",
       "  <tbody>\n",
       "    <tr>\n",
       "      <th>4</th>\n",
       "      <td>49.27</td>\n",
       "      <td>48.59</td>\n",
       "      <td>48.24</td>\n",
       "    </tr>\n",
       "    <tr>\n",
       "      <th>9</th>\n",
       "      <td>49.58</td>\n",
       "      <td>49.02</td>\n",
       "      <td>48.67</td>\n",
       "    </tr>\n",
       "    <tr>\n",
       "      <th>14</th>\n",
       "      <td>49.88</td>\n",
       "      <td>49.46</td>\n",
       "      <td>49.08</td>\n",
       "    </tr>\n",
       "  </tbody>\n",
       "</table>\n",
       "</div>"
      ],
      "text/plain": [
       "Variables     8      10     12\n",
       "Min_nodes                     \n",
       "4          49.27  48.59  48.24\n",
       "9          49.58  49.02  48.67\n",
       "14         49.88  49.46  49.08"
      ]
     },
     "execution_count": 312,
     "metadata": {},
     "output_type": "execute_result"
    }
   ],
   "source": [
    "pd.DataFrame(rf_model.cv_results_)[\n",
    "    [\"param_mtry\", \"param_min_node_size\", \"mean_test_score\"]\n",
    "].assign(\n",
    "    mean_test_score=lambda x: x[\"mean_test_score\"] * -1,\n",
    "    Variables=lambda x: x[\"param_mtry\"],\n",
    "    Min_nodes=lambda x: x[\"param_min_node_size\"] - 1,\n",
    ").pivot(\n",
    "    index=\"Min_nodes\", columns=\"Variables\", values=\"mean_test_score\"\n",
    ").round(\n",
    "    2\n",
    ")"
   ]
  },
  {
   "cell_type": "markdown",
   "id": "bbc45df4",
   "metadata": {},
   "source": [
    "### Choose better model"
   ]
  },
  {
   "cell_type": "code",
   "execution_count": 313,
   "id": "6e230224",
   "metadata": {},
   "outputs": [
    {
     "data": {
      "text/html": [
       "<div>\n",
       "<style scoped>\n",
       "    .dataframe tbody tr th:only-of-type {\n",
       "        vertical-align: middle;\n",
       "    }\n",
       "\n",
       "    .dataframe tbody tr th {\n",
       "        vertical-align: top;\n",
       "    }\n",
       "\n",
       "    .dataframe thead th {\n",
       "        text-align: right;\n",
       "    }\n",
       "</style>\n",
       "<table border=\"1\" class=\"dataframe\">\n",
       "  <thead>\n",
       "    <tr style=\"text-align: right;\">\n",
       "      <th></th>\n",
       "      <th>RMSE</th>\n",
       "    </tr>\n",
       "  </thead>\n",
       "  <tbody>\n",
       "    <tr>\n",
       "      <th>OLS</th>\n",
       "      <td>50.63</td>\n",
       "    </tr>\n",
       "    <tr>\n",
       "      <th>Lasso CV</th>\n",
       "      <td>51.37</td>\n",
       "    </tr>\n",
       "    <tr>\n",
       "      <th>Random Forest CV</th>\n",
       "      <td>48.24</td>\n",
       "    </tr>\n",
       "  </tbody>\n",
       "</table>\n",
       "</div>"
      ],
      "text/plain": [
       "                   RMSE\n",
       "OLS               50.63\n",
       "Lasso CV          51.37\n",
       "Random Forest CV  48.24"
      ]
     },
     "execution_count": 313,
     "metadata": {},
     "output_type": "execute_result"
    }
   ],
   "source": [
    "pd.DataFrame(\n",
    "    {\n",
    "        \"RMSE\": [\n",
    "            ols_rmse,\n",
    "            lasso_rmse,\n",
    "            rf_model.cv_results_[\"mean_test_score\"].max() *-1,\n",
    "        ]\n",
    "    },\n",
    "    [\"OLS\", \"Lasso CV\", \"Random Forest CV\"],\n",
    ").round(2)"
   ]
  },
  {
   "cell_type": "markdown",
   "id": "d133c28f",
   "metadata": {},
   "source": [
    "## Fit the final model"
   ]
  },
  {
   "cell_type": "code",
   "execution_count": 314,
   "id": "1ba8c5f2",
   "metadata": {},
   "outputs": [],
   "source": [
    "final_model = Pipeline([(\"scale\", StandardScaler()), (\"regressor\", RandomForestRegressor(max_depth = 10))])"
   ]
  },
  {
   "cell_type": "code",
   "execution_count": 315,
   "id": "c23bfaa4",
   "metadata": {},
   "outputs": [
    {
     "name": "stdout",
     "output_type": "stream",
     "text": [
      "Final model train rmse: 35.867972605462136\n",
      "Final model test rmse: 1797.2284120101033\n"
     ]
    }
   ],
   "source": [
    "y, X = dmatrices(target_variable + \" ~ \" + \" + \".join(predictors_tree), data_train)\n",
    "\n",
    "rf_final_fit = final_model.fit(X,y.ravel())\n",
    "\n",
    "y_hat = rf_final_fit.predict(X)\n",
    "\n",
    "rf_rmse_train = mean_squared_error(y,y_hat,squared=False)\n",
    "residual_std = np.std(y-y_hat)\n",
    "\n",
    "print(\"Final model train rmse: \"+str(rf_rmse_train))\n",
    "\n",
    "y_hold, X_hold = dmatrices(target_variable + \" ~ \" + \" + \".join(predictors_tree), data_holdout)\n",
    "\n",
    "y_hat_test = rf_final_fit.predict(X_hold)\n",
    "\n",
    "rf_rmse_test = mean_squared_error(y_hold,y_hat_test,squared=False)\n",
    "print(\"Final model test rmse: \"+ str(rf_rmse_test))"
   ]
  },
  {
   "cell_type": "code",
   "execution_count": 316,
   "id": "c1b02521",
   "metadata": {},
   "outputs": [
    {
     "data": {
      "image/png": "[encoded data removed]",
      "text/plain": [
       "<Figure size 360x360 with 1 Axes>"
      ]
     },
     "metadata": {
      "needs_background": "light"
     },
     "output_type": "display_data"
    }
   ],
   "source": [
    "plot_pred_true_scatter(y,y_hat,title='Random Forest CV on train set')"
   ]
  },
  {
   "cell_type": "code",
   "execution_count": 317,
   "id": "259352b5",
   "metadata": {},
   "outputs": [
    {
     "data": {
      "image/png": "[encoded data removed]",
      "text/plain": [
       "<Figure size 360x360 with 1 Axes>"
      ]
     },
     "metadata": {
      "needs_background": "light"
     },
     "output_type": "display_data"
    }
   ],
   "source": [
    "plot_pred_true_scatter(y_hold,y_hat_test,title='Random Forest CV on test set')"
   ]
  },
  {
   "cell_type": "code",
   "execution_count": 318,
   "id": "64591144",
   "metadata": {},
   "outputs": [
    {
     "name": "stdout",
     "output_type": "stream",
     "text": [
      "Final model truncated test rmse: 33.94629702438678\n"
     ]
    },
    {
     "data": {
      "image/png": "[encoded data removed]",
      "text/plain": [
       "<Figure size 360x360 with 1 Axes>"
      ]
     },
     "metadata": {
      "needs_background": "light"
     },
     "output_type": "display_data"
    }
   ],
   "source": [
    "y_hold, X_hold = dmatrices(\n",
    "    target_variable + \" ~ \" + \" + \".join(predictors_tree),\n",
    "    data_holdout.loc[lambda x: x[\"price\"] < 190],\n",
    ")\n",
    "\n",
    "y_hat_test = rf_final_fit.predict(X_hold)\n",
    "\n",
    "rf_rmse_test = mean_squared_error(y_hold, y_hat_test, squared=False)\n",
    "print(\"Final model truncated test rmse: \" + str(rf_rmse_test))\n",
    "plot_pred_true_scatter(\n",
    "    y_hold, y_hat_test, title=\"Random Forest CV on truncated test set\"\n",
    ")"
   ]
  },
  {
   "cell_type": "markdown",
   "id": "ff333db5",
   "metadata": {},
   "source": [
    "## Model Diagnostics"
   ]
  },
  {
   "cell_type": "code",
   "execution_count": 319,
   "id": "27c4a791",
   "metadata": {},
   "outputs": [],
   "source": [
    "final_model_var_imp_df = (\n",
    "    pd.DataFrame(final_model.steps[1][1].feature_importances_, X.design_info.column_names)\n",
    "    .reset_index()\n",
    "    .rename({\"index\": \"varname\", 0: \"imp\"}, axis=1)\n",
    "    .assign(imp_percentage=lambda x: x[\"imp\"] / x[\"imp\"].sum())\n",
    "    .sort_values(by=[\"imp\"], ascending=False)\n",
    ")"
   ]
  },
  {
   "cell_type": "code",
   "execution_count": 320,
   "id": "1548fbae",
   "metadata": {},
   "outputs": [
    {
     "data": {
      "image/png": "[encoded data removed]",
      "text/plain": [
       "<Figure size 640x480 with 1 Axes>"
      ]
     },
     "metadata": {},
     "output_type": "display_data"
    },
    {
     "data": {
      "text/plain": [
       "<ggplot: (135696020761)>"
      ]
     },
     "execution_count": 320,
     "metadata": {},
     "output_type": "execute_result"
    }
   ],
   "source": [
    "ggplot(\n",
    "    final_model_var_imp_df.loc[lambda x: x[\"imp_percentage\"]>0.01],\n",
    "    aes(x=\"reorder(varname, imp)\", y=\"imp_percentage\"),\n",
    ") + geom_point(size=1.5) + geom_segment(\n",
    "    aes(x=\"varname\", xend=\"varname\", y=0, yend=\"imp_percentage\"), size=1\n",
    ") + ylab(\n",
    "    \"Importance (Percent)\"\n",
    ") + xlab(\n",
    "    \"Variable Name\"\n",
    ") + coord_flip() + scale_y_continuous(\n",
    "    labels=percent_format()\n",
    ") + theme_bw()"
   ]
  },
  {
   "cell_type": "code",
   "execution_count": 321,
   "id": "c7709979",
   "metadata": {},
   "outputs": [
    {
     "data": {
      "image/png": "[encoded data removed]",
      "text/plain": [
       "<Figure size 640x480 with 1 Axes>"
      ]
     },
     "metadata": {},
     "output_type": "display_data"
    },
    {
     "data": {
      "text/plain": [
       "<ggplot: (135792634420)>"
      ]
     },
     "execution_count": 321,
     "metadata": {},
     "output_type": "execute_result"
    }
   ],
   "source": [
    "ggplot(\n",
    "    final_model_var_imp_df.iloc[:10, :],\n",
    "    aes(x=\"reorder(varname, imp)\", y=\"imp_percentage\"),\n",
    ") + geom_point(size=1.5) + geom_segment(\n",
    "    aes(x=\"varname\", xend=\"varname\", y=0, yend=\"imp_percentage\"), size=1\n",
    ") + ylab(\n",
    "    \"Importance (Percent)\"\n",
    ") + xlab(\n",
    "    \"Variable Name\"\n",
    ") + coord_flip() + scale_y_continuous(\n",
    "    labels=percent_format()\n",
    ") + theme_bw()"
   ]
  },
  {
   "cell_type": "code",
   "execution_count": 328,
   "id": "4cfa9d24",
   "metadata": {},
   "outputs": [
    {
     "name": "stdout",
     "output_type": "stream",
     "text": [
      "Shape of input data: (7882, 194)\n",
      "Feature names in input data: ['price', 'f_location', 'n_bathrooms', 'n_accommodates', 'n_review_scores_rating', 'n_number_of_reviews', 'n_availability_365', 'n_minimum_nights', 'n_beds', 'n_maximum_nights', 'n_days_since', 'd_kitchen', 'd_longtermstaysallowed', 'd_wifi', 'd_essentials', 'd_hairdryer', 'd_hangers', 'd_iron', 'd_dishesandsilverware', 'd_heating', 'd_hotwater', 'd_refrigerator', 'd_washer', 'd_tv', 'd_microwave', 'd_cookingbasics', 'd_bedlinens', 'd_shampoo', 'd_airconditioning', 'd_coffeemaker', 'd_elevator', 'd_oven', 'd_dedicatedworkspace', 'd_dishwasher', 'd_stove', 'd_freezer', 'd_showergel', 'd_fireextinguisher', 'd_roomdarkeningshades', 'd_extrapillowsandblankets', 'd_cleaningproducts', 'd_dryingrackforclothing', 'd_diningtable', 'd_toaster', 'd_smokealarm', 'd_hostgreetsyou', 'd_bodysoap', 'd_hotwaterkettle', 'd_wineglasses', 'd_firstaidkit', 'd_freewasherinunit', 'd_selfcheckin', 'd_paidparkingoffpremises', 'd_carbonmonoxidealarm', 'd_clothingstoragecloset', 'd_petsallowed', 'd_crib', 'd_privateentrance', 'd_dryer', 'd_luggagedropoffallowed', 'd_laundromatnearby', 'd_privatepatioorbalcony', 'd_coffee', 'd_patioorbalcony', 'd_ethernetconnection', 'd_acsplittypeductlesssystem', 'd_paidparkingonpremises', 'd_bathtub', 'd_smokingallowed', 'd_singlelevelhome', 'd_freestreetparking', 'd_clothingstorage', 'd_lockbox', 'd_cityskylineview', 'd_blender', 'd_packnplaytravelcrib', 'd_centralairconditioning', 'd_portablefans', 'd_centralheating', 'd_coffeemakernespresso', 'd_booksandreadingmaterial', 'd_highchair', 'd_smartlock', 'd_securitycamerasonproperty', 'd_freeparkingonpremises', 'd_tvwithstandardcable', 'd_minifridge', 'd_freedryerinunit', 'd_pocketwifi', 'd_paidparkinggarageoffpremises', 'd_breakfast', 'd_conditioner', 'd_bakingsheet', 'd_outdoorfurniture', 'd_electricstove', 'd_bidet', 'd_stainlesssteeloven', 'd_fastwifi', 'd_hdtv', 'd_outdoordiningarea', 'd_backyard', 'd_coffeemakerdripcoffeemaker', 'd_ceilingfan', 'd_babysitterrecommendations', 'd_netflix', 'd_heatingsplittypeductlesssystem', 'd_paidstreetparkingoffpremises', 'd_coffeemakerespressomachine', 'd_childrensbooksandtoys', 'd_childrensdinnerware', 'd_portableheater', 'd_buildingstaff', 'd_courtyardview', 'd_radiantheating', 'd_standardcable', 'd_windowguards', 'd_cribavailableuponrequest', 'd_babybath', 'd_inductionstove', 'd_hdtv', 'd_cleaningavailableduringstay', 'd_paidparkinglotoffpremises', 'd_hdtvwithstandardcable', 'd_pool', 'd_windowacunit', 'd_coffeemakerpourovercoffee', 'd_safe', 'd_hdtvwithamazonprimevideo', 'd_hdtvwithnetflix', 'd_outdoorshower', 'd_packnplaytravelcribavailableuponrequest', 'd_keypad', 'd_portableairconditioning', 'd_boardgames', 'd_sharedpatioorbalcony', 'd_hbomax', 'd_clothingstorageclosetanddresser', 'd_clothingstoragedresserandcloset', 'd_outletcovers', 'd_gym', 'd_indoorfireplace', 'd_privatebackyardfullyfenced', 'd_washerainunit', 'd_sharedpool', 'd_gardenview', 'd_hdtvwithstandardcable', 'd_paidpacknplaytravelcribavailableuponrequest', 'd_tv', 'd_paidcribavailableuponrequest', 'd_exerciseequipment', 'd_clothingstoragewardrobe', 'd_hottub', 'd_soundsystem', 'd_changingtable', 'd_amazonprimevideo', 'd_parkview', 'd_privatehottub', 'd_bathroomessentials', 'd_bedroomcomforts', 'd_freewasher', 'd_nespresso', 'd_babysafetygates', 'd_tvwithstandardcable', 'd_hdtvwithnetflix', 'd_bbqgrill', 'd_mosquitonet', 'd_clothingstoragedresser', 'd_clothingstoragewalkincloset', 'd_sharedbackyardfullyfenced', 'd_openspecifichours', 'd_fullkitchen', 'd_pourovercoffee', 'd_ricemaker', 'd_coffeemakerfrenchpress', 'd_hammock', 'd_paidparkinggarageonpremises', 'd_appletv', 'd_privatebackyard', 'd_hdtvwithamazonprimevideo', 'd_hdtvwithchromecast', 'd_sharedoutdoorpoolavailableseasonally', 'd_chromecast', 'd_breadmaker', 'd_premiumcable', 'd_bluetoothsoundsystem', 'd_bikes', 'd_clothingstorageclosetandwardrobe', 'n_dist_to_plaza_mayor', 'f_number_of_reviews', 'f_minimum_nights', 'n_days_since2', 'n_days_since3', 'f_property_type', 'lnprice']\n"
     ]
    }
   ],
   "source": [
    "print(\"Shape of input data:\", data_train.shape)\n",
    "\n",
    "# check the feature names of the input data\n",
    "print(\"Feature names in input data:\", data_train.columns.tolist())"
   ]
  },
  {
   "cell_type": "code",
   "execution_count": 340,
   "id": "728342b8",
   "metadata": {},
   "outputs": [],
   "source": [
    "categorical_columns = [col for col in predictors_tree if col.startswith(\"f_\")]\n",
    "numerical_columns = [col for col in predictors_tree if col not in categorical_columns]"
   ]
  },
  {
   "cell_type": "code",
   "execution_count": 341,
   "id": "3141578e",
   "metadata": {},
   "outputs": [],
   "source": [
    "categorical_encoder = OneHotEncoder(handle_unknown=\"ignore\")"
   ]
  },
  {
   "cell_type": "code",
   "execution_count": 342,
   "id": "f9e5d23c",
   "metadata": {},
   "outputs": [],
   "source": [
    "\n",
    "preprocessing = ColumnTransformer(\n",
    "    [\n",
    "        (\"cat\", categorical_encoder, categorical_columns),\n",
    "        (\"num\", \"passthrough\", numerical_columns),\n",
    "    ]\n",
    ")\n",
    "\n",
    "final_pipeline = Pipeline(\n",
    "    [(\"preprocess\", preprocessing), (\"regressor\", rf_final_fit)]\n",
    ")\n"
   ]
  },
  {
   "cell_type": "code",
   "execution_count": 343,
   "id": "501bb5a3",
   "metadata": {},
   "outputs": [
    {
     "ename": "ValueError",
     "evalue": "Selected columns, ['n_bathrooms', 'n_accommodates', 'n_review_scores_rating', 'n_number_of_reviews', 'n_availability_365', 'n_minimum_nights', 'n_beds', 'n_maximum_nights', 'n_days_since', 'd_kitchen', 'd_longtermstaysallowed', 'd_wifi', 'd_essentials', 'd_hairdryer', 'd_hangers', 'd_iron', 'd_dishesandsilverware', 'd_heating', 'd_hotwater', 'd_refrigerator', 'd_washer', 'd_tv', 'd_microwave', 'd_cookingbasics', 'd_bedlinens', 'd_shampoo', 'd_airconditioning', 'd_coffeemaker', 'd_elevator', 'd_oven', 'd_dedicatedworkspace', 'd_dishwasher', 'd_stove', 'd_freezer', 'd_showergel', 'd_fireextinguisher', 'd_roomdarkeningshades', 'd_extrapillowsandblankets', 'd_cleaningproducts', 'd_dryingrackforclothing', 'd_diningtable', 'd_toaster', 'd_smokealarm', 'd_hostgreetsyou', 'd_bodysoap', 'd_hotwaterkettle', 'd_wineglasses', 'd_firstaidkit', 'd_freewasherinunit', 'd_selfcheckin', 'd_paidparkingoffpremises', 'd_carbonmonoxidealarm', 'd_clothingstoragecloset', 'd_petsallowed', 'd_crib', 'd_privateentrance', 'd_dryer', 'd_luggagedropoffallowed', 'd_laundromatnearby', 'd_privatepatioorbalcony', 'd_coffee', 'd_patioorbalcony', 'd_ethernetconnection', 'd_acsplittypeductlesssystem', 'd_paidparkingonpremises', 'd_bathtub', 'd_smokingallowed', 'd_singlelevelhome', 'd_freestreetparking', 'd_clothingstorage', 'd_lockbox', 'd_cityskylineview', 'd_blender', 'd_packnplaytravelcrib', 'd_centralairconditioning', 'd_portablefans', 'd_centralheating', 'd_coffeemakernespresso', 'd_booksandreadingmaterial', 'd_highchair', 'd_smartlock', 'd_securitycamerasonproperty', 'd_freeparkingonpremises', 'd_tvwithstandardcable', 'd_minifridge', 'd_freedryerinunit', 'd_pocketwifi', 'd_paidparkinggarageoffpremises', 'd_breakfast', 'd_conditioner', 'd_bakingsheet', 'd_outdoorfurniture', 'd_electricstove', 'd_bidet', 'd_stainlesssteeloven', 'd_fastwifi', 'd_hdtv', 'd_outdoordiningarea', 'd_backyard', 'd_coffeemakerdripcoffeemaker', 'd_ceilingfan', 'd_babysitterrecommendations', 'd_netflix', 'd_heatingsplittypeductlesssystem', 'd_paidstreetparkingoffpremises', 'd_coffeemakerespressomachine', 'd_childrensbooksandtoys', 'd_childrensdinnerware', 'd_portableheater', 'd_buildingstaff', 'd_courtyardview', 'd_radiantheating', 'd_standardcable', 'd_windowguards', 'd_cribavailableuponrequest', 'd_babybath', 'd_inductionstove', 'd_hdtv', 'd_cleaningavailableduringstay', 'd_paidparkinglotoffpremises', 'd_hdtvwithstandardcable', 'd_pool', 'd_windowacunit', 'd_coffeemakerpourovercoffee', 'd_safe', 'd_hdtvwithamazonprimevideo', 'd_hdtvwithnetflix', 'd_outdoorshower', 'd_packnplaytravelcribavailableuponrequest', 'd_keypad', 'd_portableairconditioning', 'd_boardgames', 'd_sharedpatioorbalcony', 'd_hbomax', 'd_clothingstorageclosetanddresser', 'd_clothingstoragedresserandcloset', 'd_outletcovers', 'd_gym', 'd_indoorfireplace', 'd_privatebackyardfullyfenced', 'd_washerainunit', 'd_sharedpool', 'd_gardenview', 'd_hdtvwithstandardcable', 'd_paidpacknplaytravelcribavailableuponrequest', 'd_tv', 'd_paidcribavailableuponrequest', 'd_exerciseequipment', 'd_clothingstoragewardrobe', 'd_hottub', 'd_soundsystem', 'd_changingtable', 'd_amazonprimevideo', 'd_parkview', 'd_privatehottub', 'd_bathroomessentials', 'd_bedroomcomforts', 'd_freewasher', 'd_nespresso', 'd_babysafetygates', 'd_tvwithstandardcable', 'd_hdtvwithnetflix', 'd_bbqgrill', 'd_mosquitonet', 'd_clothingstoragedresser', 'd_clothingstoragewalkincloset', 'd_sharedbackyardfullyfenced', 'd_openspecifichours', 'd_fullkitchen', 'd_pourovercoffee', 'd_ricemaker', 'd_coffeemakerfrenchpress', 'd_hammock'], are not unique in dataframe",
     "output_type": "error",
     "traceback": [
      "\u001b[1;31m---------------------------------------------------------------------------\u001b[0m",
      "\u001b[1;31mValueError\u001b[0m                                Traceback (most recent call last)",
      "\u001b[1;32m~\\AppData\\Local\\Temp/ipykernel_23336/3665094973.py\u001b[0m in \u001b[0;36m<module>\u001b[1;34m\u001b[0m\n\u001b[1;32m----> 1\u001b[1;33m \u001b[0mfinal_pipeline\u001b[0m\u001b[1;33m.\u001b[0m\u001b[0mfit\u001b[0m\u001b[1;33m(\u001b[0m\u001b[0mdata_train\u001b[0m\u001b[1;33m[\u001b[0m\u001b[0mpredictors_tree\u001b[0m\u001b[1;33m]\u001b[0m\u001b[1;33m,\u001b[0m\u001b[0mdata_train\u001b[0m\u001b[1;33m[\u001b[0m\u001b[0mtarget_variable\u001b[0m\u001b[1;33m]\u001b[0m\u001b[1;33m)\u001b[0m\u001b[1;33m\u001b[0m\u001b[1;33m\u001b[0m\u001b[0m\n\u001b[0m",
      "\u001b[1;32mC:\\ProgramData\\Anaconda3\\lib\\site-packages\\sklearn\\pipeline.py\u001b[0m in \u001b[0;36mfit\u001b[1;34m(self, X, y, **fit_params)\u001b[0m\n\u001b[0;32m    339\u001b[0m         \u001b[0mself\u001b[0m\u001b[1;33m.\u001b[0m\u001b[0m_validate_steps\u001b[0m\u001b[1;33m(\u001b[0m\u001b[1;33m)\u001b[0m\u001b[1;33m\u001b[0m\u001b[1;33m\u001b[0m\u001b[0m\n\u001b[0;32m    340\u001b[0m         \u001b[1;31m# Setup the memory\u001b[0m\u001b[1;33m\u001b[0m\u001b[1;33m\u001b[0m\u001b[0m\n\u001b[1;32m--> 341\u001b[1;33m         \u001b[0mmemory\u001b[0m \u001b[1;33m=\u001b[0m \u001b[0mcheck_memory\u001b[0m\u001b[1;33m(\u001b[0m\u001b[0mself\u001b[0m\u001b[1;33m.\u001b[0m\u001b[0mmemory\u001b[0m\u001b[1;33m)\u001b[0m\u001b[1;33m\u001b[0m\u001b[1;33m\u001b[0m\u001b[0m\n\u001b[0m\u001b[0;32m    342\u001b[0m \u001b[1;33m\u001b[0m\u001b[0m\n\u001b[0;32m    343\u001b[0m         \u001b[0mfit_transform_one_cached\u001b[0m \u001b[1;33m=\u001b[0m \u001b[0mmemory\u001b[0m\u001b[1;33m.\u001b[0m\u001b[0mcache\u001b[0m\u001b[1;33m(\u001b[0m\u001b[0m_fit_transform_one\u001b[0m\u001b[1;33m)\u001b[0m\u001b[1;33m\u001b[0m\u001b[1;33m\u001b[0m\u001b[0m\n",
      "\u001b[1;32mC:\\ProgramData\\Anaconda3\\lib\\site-packages\\sklearn\\pipeline.py\u001b[0m in \u001b[0;36m_fit\u001b[1;34m(self, X, y, **fit_params_steps)\u001b[0m\n\u001b[0;32m    301\u001b[0m \u001b[1;33m\u001b[0m\u001b[0m\n\u001b[0;32m    302\u001b[0m         \u001b[0mRead\u001b[0m\u001b[1;33m-\u001b[0m\u001b[0monly\u001b[0m \u001b[0mattribute\u001b[0m \u001b[0mto\u001b[0m \u001b[0maccess\u001b[0m \u001b[0many\u001b[0m \u001b[0mstep\u001b[0m \u001b[0mby\u001b[0m \u001b[0mgiven\u001b[0m \u001b[0mname\u001b[0m\u001b[1;33m.\u001b[0m\u001b[1;33m\u001b[0m\u001b[1;33m\u001b[0m\u001b[0m\n\u001b[1;32m--> 303\u001b[1;33m         Keys are steps names and values are the steps objects.\"\"\"\n\u001b[0m\u001b[0;32m    304\u001b[0m         \u001b[1;31m# Use Bunch object to improve autocomplete\u001b[0m\u001b[1;33m\u001b[0m\u001b[1;33m\u001b[0m\u001b[0m\n\u001b[0;32m    305\u001b[0m         \u001b[1;32mreturn\u001b[0m \u001b[0mBunch\u001b[0m\u001b[1;33m(\u001b[0m\u001b[1;33m**\u001b[0m\u001b[0mdict\u001b[0m\u001b[1;33m(\u001b[0m\u001b[0mself\u001b[0m\u001b[1;33m.\u001b[0m\u001b[0msteps\u001b[0m\u001b[1;33m)\u001b[0m\u001b[1;33m)\u001b[0m\u001b[1;33m\u001b[0m\u001b[1;33m\u001b[0m\u001b[0m\n",
      "\u001b[1;32mC:\\ProgramData\\Anaconda3\\lib\\site-packages\\joblib\\memory.py\u001b[0m in \u001b[0;36m__call__\u001b[1;34m(self, *args, **kwargs)\u001b[0m\n\u001b[0;32m    347\u001b[0m \u001b[1;33m\u001b[0m\u001b[0m\n\u001b[0;32m    348\u001b[0m     \u001b[1;32mdef\u001b[0m \u001b[0m__call__\u001b[0m\u001b[1;33m(\u001b[0m\u001b[0mself\u001b[0m\u001b[1;33m,\u001b[0m \u001b[1;33m*\u001b[0m\u001b[0margs\u001b[0m\u001b[1;33m,\u001b[0m \u001b[1;33m**\u001b[0m\u001b[0mkwargs\u001b[0m\u001b[1;33m)\u001b[0m\u001b[1;33m:\u001b[0m\u001b[1;33m\u001b[0m\u001b[1;33m\u001b[0m\u001b[0m\n\u001b[1;32m--> 349\u001b[1;33m         \u001b[1;32mreturn\u001b[0m \u001b[0mself\u001b[0m\u001b[1;33m.\u001b[0m\u001b[0mfunc\u001b[0m\u001b[1;33m(\u001b[0m\u001b[1;33m*\u001b[0m\u001b[0margs\u001b[0m\u001b[1;33m,\u001b[0m \u001b[1;33m**\u001b[0m\u001b[0mkwargs\u001b[0m\u001b[1;33m)\u001b[0m\u001b[1;33m\u001b[0m\u001b[1;33m\u001b[0m\u001b[0m\n\u001b[0m\u001b[0;32m    350\u001b[0m \u001b[1;33m\u001b[0m\u001b[0m\n\u001b[0;32m    351\u001b[0m     \u001b[1;32mdef\u001b[0m \u001b[0mcall_and_shelve\u001b[0m\u001b[1;33m(\u001b[0m\u001b[0mself\u001b[0m\u001b[1;33m,\u001b[0m \u001b[1;33m*\u001b[0m\u001b[0margs\u001b[0m\u001b[1;33m,\u001b[0m \u001b[1;33m**\u001b[0m\u001b[0mkwargs\u001b[0m\u001b[1;33m)\u001b[0m\u001b[1;33m:\u001b[0m\u001b[1;33m\u001b[0m\u001b[1;33m\u001b[0m\u001b[0m\n",
      "\u001b[1;32mC:\\ProgramData\\Anaconda3\\lib\\site-packages\\sklearn\\pipeline.py\u001b[0m in \u001b[0;36m_fit_transform_one\u001b[1;34m(transformer, X, y, weight, message_clsname, message, **fit_params)\u001b[0m\n\u001b[0;32m    752\u001b[0m                     \u001b[1;34m\"Estimator {} does not provide get_feature_names_out. \"\u001b[0m\u001b[1;33m\u001b[0m\u001b[1;33m\u001b[0m\u001b[0m\n\u001b[0;32m    753\u001b[0m                     \u001b[1;34m\"Did you mean to call pipeline[:-1].get_feature_names_out\"\u001b[0m\u001b[1;33m\u001b[0m\u001b[1;33m\u001b[0m\u001b[0m\n\u001b[1;32m--> 754\u001b[1;33m                     \u001b[1;34m\"()?\"\u001b[0m\u001b[1;33m.\u001b[0m\u001b[0mformat\u001b[0m\u001b[1;33m(\u001b[0m\u001b[0mname\u001b[0m\u001b[1;33m)\u001b[0m\u001b[1;33m\u001b[0m\u001b[1;33m\u001b[0m\u001b[0m\n\u001b[0m\u001b[0;32m    755\u001b[0m                 )\n\u001b[0;32m    756\u001b[0m             \u001b[0mfeature_names_out\u001b[0m \u001b[1;33m=\u001b[0m \u001b[0mtransform\u001b[0m\u001b[1;33m.\u001b[0m\u001b[0mget_feature_names_out\u001b[0m\u001b[1;33m(\u001b[0m\u001b[0mfeature_names_out\u001b[0m\u001b[1;33m)\u001b[0m\u001b[1;33m\u001b[0m\u001b[1;33m\u001b[0m\u001b[0m\n",
      "\u001b[1;32mC:\\ProgramData\\Anaconda3\\lib\\site-packages\\sklearn\\compose\\_column_transformer.py\u001b[0m in \u001b[0;36mfit_transform\u001b[1;34m(self, X, y)\u001b[0m\n\u001b[0;32m    503\u001b[0m             \u001b[0mTransformed\u001b[0m \u001b[0mfeature\u001b[0m \u001b[0mnames\u001b[0m\u001b[1;33m.\u001b[0m\u001b[1;33m\u001b[0m\u001b[1;33m\u001b[0m\u001b[0m\n\u001b[0;32m    504\u001b[0m         \"\"\"\n\u001b[1;32m--> 505\u001b[1;33m         \u001b[0mcheck_is_fitted\u001b[0m\u001b[1;33m(\u001b[0m\u001b[0mself\u001b[0m\u001b[1;33m)\u001b[0m\u001b[1;33m\u001b[0m\u001b[1;33m\u001b[0m\u001b[0m\n\u001b[0m\u001b[0;32m    506\u001b[0m         \u001b[0minput_features\u001b[0m \u001b[1;33m=\u001b[0m \u001b[0m_check_feature_names_in\u001b[0m\u001b[1;33m(\u001b[0m\u001b[0mself\u001b[0m\u001b[1;33m,\u001b[0m \u001b[0minput_features\u001b[0m\u001b[1;33m)\u001b[0m\u001b[1;33m\u001b[0m\u001b[1;33m\u001b[0m\u001b[0m\n\u001b[0;32m    507\u001b[0m \u001b[1;33m\u001b[0m\u001b[0m\n",
      "\u001b[1;32mC:\\ProgramData\\Anaconda3\\lib\\site-packages\\sklearn\\compose\\_column_transformer.py\u001b[0m in \u001b[0;36m_validate_remainder\u001b[1;34m(self, X)\u001b[0m\n\u001b[0;32m    330\u001b[0m \u001b[1;33m\u001b[0m\u001b[0m\n\u001b[0;32m    331\u001b[0m     \u001b[1;32mdef\u001b[0m \u001b[0m_iter\u001b[0m\u001b[1;33m(\u001b[0m\u001b[0mself\u001b[0m\u001b[1;33m,\u001b[0m \u001b[0mfitted\u001b[0m\u001b[1;33m=\u001b[0m\u001b[1;32mFalse\u001b[0m\u001b[1;33m,\u001b[0m \u001b[0mreplace_strings\u001b[0m\u001b[1;33m=\u001b[0m\u001b[1;32mFalse\u001b[0m\u001b[1;33m,\u001b[0m \u001b[0mcolumn_as_strings\u001b[0m\u001b[1;33m=\u001b[0m\u001b[1;32mFalse\u001b[0m\u001b[1;33m)\u001b[0m\u001b[1;33m:\u001b[0m\u001b[1;33m\u001b[0m\u001b[1;33m\u001b[0m\u001b[0m\n\u001b[1;32m--> 332\u001b[1;33m         \"\"\"\n\u001b[0m\u001b[0;32m    333\u001b[0m         \u001b[0mGenerate\u001b[0m \u001b[1;33m(\u001b[0m\u001b[0mname\u001b[0m\u001b[1;33m,\u001b[0m \u001b[0mtrans\u001b[0m\u001b[1;33m,\u001b[0m \u001b[0mcolumn\u001b[0m\u001b[1;33m,\u001b[0m \u001b[0mweight\u001b[0m\u001b[1;33m)\u001b[0m \u001b[0mtuples\u001b[0m\u001b[1;33m.\u001b[0m\u001b[1;33m\u001b[0m\u001b[1;33m\u001b[0m\u001b[0m\n\u001b[0;32m    334\u001b[0m \u001b[1;33m\u001b[0m\u001b[0m\n",
      "\u001b[1;32mC:\\ProgramData\\Anaconda3\\lib\\site-packages\\sklearn\\utils\\__init__.py\u001b[0m in \u001b[0;36m_get_column_indices\u001b[1;34m(X, key)\u001b[0m\n\u001b[0;32m    396\u001b[0m \u001b[1;33m\u001b[0m\u001b[0m\n\u001b[0;32m    397\u001b[0m \u001b[1;33m\u001b[0m\u001b[0m\n\u001b[1;32m--> 398\u001b[1;33m \u001b[1;32mdef\u001b[0m \u001b[0m_get_column_indices\u001b[0m\u001b[1;33m(\u001b[0m\u001b[0mX\u001b[0m\u001b[1;33m,\u001b[0m \u001b[0mkey\u001b[0m\u001b[1;33m)\u001b[0m\u001b[1;33m:\u001b[0m\u001b[1;33m\u001b[0m\u001b[1;33m\u001b[0m\u001b[0m\n\u001b[0m\u001b[0;32m    399\u001b[0m     \"\"\"Get feature column indices for input data X and key.\n\u001b[0;32m    400\u001b[0m \u001b[1;33m\u001b[0m\u001b[0m\n",
      "\u001b[1;31mValueError\u001b[0m: Selected columns, ['n_bathrooms', 'n_accommodates', 'n_review_scores_rating', 'n_number_of_reviews', 'n_availability_365', 'n_minimum_nights', 'n_beds', 'n_maximum_nights', 'n_days_since', 'd_kitchen', 'd_longtermstaysallowed', 'd_wifi', 'd_essentials', 'd_hairdryer', 'd_hangers', 'd_iron', 'd_dishesandsilverware', 'd_heating', 'd_hotwater', 'd_refrigerator', 'd_washer', 'd_tv', 'd_microwave', 'd_cookingbasics', 'd_bedlinens', 'd_shampoo', 'd_airconditioning', 'd_coffeemaker', 'd_elevator', 'd_oven', 'd_dedicatedworkspace', 'd_dishwasher', 'd_stove', 'd_freezer', 'd_showergel', 'd_fireextinguisher', 'd_roomdarkeningshades', 'd_extrapillowsandblankets', 'd_cleaningproducts', 'd_dryingrackforclothing', 'd_diningtable', 'd_toaster', 'd_smokealarm', 'd_hostgreetsyou', 'd_bodysoap', 'd_hotwaterkettle', 'd_wineglasses', 'd_firstaidkit', 'd_freewasherinunit', 'd_selfcheckin', 'd_paidparkingoffpremises', 'd_carbonmonoxidealarm', 'd_clothingstoragecloset', 'd_petsallowed', 'd_crib', 'd_privateentrance', 'd_dryer', 'd_luggagedropoffallowed', 'd_laundromatnearby', 'd_privatepatioorbalcony', 'd_coffee', 'd_patioorbalcony', 'd_ethernetconnection', 'd_acsplittypeductlesssystem', 'd_paidparkingonpremises', 'd_bathtub', 'd_smokingallowed', 'd_singlelevelhome', 'd_freestreetparking', 'd_clothingstorage', 'd_lockbox', 'd_cityskylineview', 'd_blender', 'd_packnplaytravelcrib', 'd_centralairconditioning', 'd_portablefans', 'd_centralheating', 'd_coffeemakernespresso', 'd_booksandreadingmaterial', 'd_highchair', 'd_smartlock', 'd_securitycamerasonproperty', 'd_freeparkingonpremises', 'd_tvwithstandardcable', 'd_minifridge', 'd_freedryerinunit', 'd_pocketwifi', 'd_paidparkinggarageoffpremises', 'd_breakfast', 'd_conditioner', 'd_bakingsheet', 'd_outdoorfurniture', 'd_electricstove', 'd_bidet', 'd_stainlesssteeloven', 'd_fastwifi', 'd_hdtv', 'd_outdoordiningarea', 'd_backyard', 'd_coffeemakerdripcoffeemaker', 'd_ceilingfan', 'd_babysitterrecommendations', 'd_netflix', 'd_heatingsplittypeductlesssystem', 'd_paidstreetparkingoffpremises', 'd_coffeemakerespressomachine', 'd_childrensbooksandtoys', 'd_childrensdinnerware', 'd_portableheater', 'd_buildingstaff', 'd_courtyardview', 'd_radiantheating', 'd_standardcable', 'd_windowguards', 'd_cribavailableuponrequest', 'd_babybath', 'd_inductionstove', 'd_hdtv', 'd_cleaningavailableduringstay', 'd_paidparkinglotoffpremises', 'd_hdtvwithstandardcable', 'd_pool', 'd_windowacunit', 'd_coffeemakerpourovercoffee', 'd_safe', 'd_hdtvwithamazonprimevideo', 'd_hdtvwithnetflix', 'd_outdoorshower', 'd_packnplaytravelcribavailableuponrequest', 'd_keypad', 'd_portableairconditioning', 'd_boardgames', 'd_sharedpatioorbalcony', 'd_hbomax', 'd_clothingstorageclosetanddresser', 'd_clothingstoragedresserandcloset', 'd_outletcovers', 'd_gym', 'd_indoorfireplace', 'd_privatebackyardfullyfenced', 'd_washerainunit', 'd_sharedpool', 'd_gardenview', 'd_hdtvwithstandardcable', 'd_paidpacknplaytravelcribavailableuponrequest', 'd_tv', 'd_paidcribavailableuponrequest', 'd_exerciseequipment', 'd_clothingstoragewardrobe', 'd_hottub', 'd_soundsystem', 'd_changingtable', 'd_amazonprimevideo', 'd_parkview', 'd_privatehottub', 'd_bathroomessentials', 'd_bedroomcomforts', 'd_freewasher', 'd_nespresso', 'd_babysafetygates', 'd_tvwithstandardcable', 'd_hdtvwithnetflix', 'd_bbqgrill', 'd_mosquitonet', 'd_clothingstoragedresser', 'd_clothingstoragewalkincloset', 'd_sharedbackyardfullyfenced', 'd_openspecifichours', 'd_fullkitchen', 'd_pourovercoffee', 'd_ricemaker', 'd_coffeemakerfrenchpress', 'd_hammock'], are not unique in dataframe"
     ]
    }
   ],
   "source": [
    "final_pipeline.fit(data_train[predictors_tree],data_train[target_variable])"
   ]
  },
  {
   "cell_type": "markdown",
   "id": "cfef142e",
   "metadata": {},
   "source": [
    "### I tried everything. Pipeline is somehow creating duplicate columns and my code is not running. "
   ]
  },
  {
   "cell_type": "code",
   "execution_count": 344,
   "id": "e41c8da8",
   "metadata": {},
   "outputs": [
    {
     "ename": "AttributeError",
     "evalue": "'ColumnTransformer' object has no attribute 'transformers_'",
     "output_type": "error",
     "traceback": [
      "\u001b[1;31m---------------------------------------------------------------------------\u001b[0m",
      "\u001b[1;31mAttributeError\u001b[0m                            Traceback (most recent call last)",
      "\u001b[1;32m~\\AppData\\Local\\Temp/ipykernel_23336/1866627552.py\u001b[0m in \u001b[0;36m<module>\u001b[1;34m\u001b[0m\n\u001b[0;32m      1\u001b[0m \u001b[1;31m# this takes a while to run\u001b[0m\u001b[1;33m\u001b[0m\u001b[1;33m\u001b[0m\u001b[0m\n\u001b[1;32m----> 2\u001b[1;33m result = permutation_importance(\n\u001b[0m\u001b[0;32m      3\u001b[0m     \u001b[0mfinal_pipeline\u001b[0m\u001b[1;33m,\u001b[0m\u001b[1;33m\u001b[0m\u001b[1;33m\u001b[0m\u001b[0m\n\u001b[0;32m      4\u001b[0m     \u001b[0mdata_holdout\u001b[0m\u001b[1;33m[\u001b[0m\u001b[0mpredictors_tree\u001b[0m\u001b[1;33m]\u001b[0m\u001b[1;33m,\u001b[0m\u001b[1;33m\u001b[0m\u001b[1;33m\u001b[0m\u001b[0m\n\u001b[0;32m      5\u001b[0m     \u001b[0mdata_holdout\u001b[0m\u001b[1;33m[\u001b[0m\u001b[0mtarget_variable\u001b[0m\u001b[1;33m]\u001b[0m\u001b[1;33m,\u001b[0m\u001b[1;33m\u001b[0m\u001b[1;33m\u001b[0m\u001b[0m\n",
      "\u001b[1;32mC:\\ProgramData\\Anaconda3\\lib\\site-packages\\sklearn\\utils\\validation.py\u001b[0m in \u001b[0;36minner_f\u001b[1;34m(*args, **kwargs)\u001b[0m\n\u001b[0;32m     61\u001b[0m         \u001b[1;32mfor\u001b[0m \u001b[0mname\u001b[0m\u001b[1;33m,\u001b[0m \u001b[0mparam\u001b[0m \u001b[1;32min\u001b[0m \u001b[0msig\u001b[0m\u001b[1;33m.\u001b[0m\u001b[0mparameters\u001b[0m\u001b[1;33m.\u001b[0m\u001b[0mitems\u001b[0m\u001b[1;33m(\u001b[0m\u001b[1;33m)\u001b[0m\u001b[1;33m:\u001b[0m\u001b[1;33m\u001b[0m\u001b[1;33m\u001b[0m\u001b[0m\n\u001b[0;32m     62\u001b[0m             \u001b[1;32mif\u001b[0m \u001b[0mparam\u001b[0m\u001b[1;33m.\u001b[0m\u001b[0mkind\u001b[0m \u001b[1;33m==\u001b[0m \u001b[0mParameter\u001b[0m\u001b[1;33m.\u001b[0m\u001b[0mPOSITIONAL_OR_KEYWORD\u001b[0m\u001b[1;33m:\u001b[0m\u001b[1;33m\u001b[0m\u001b[1;33m\u001b[0m\u001b[0m\n\u001b[1;32m---> 63\u001b[1;33m                 \u001b[0mall_args\u001b[0m\u001b[1;33m.\u001b[0m\u001b[0mappend\u001b[0m\u001b[1;33m(\u001b[0m\u001b[0mname\u001b[0m\u001b[1;33m)\u001b[0m\u001b[1;33m\u001b[0m\u001b[1;33m\u001b[0m\u001b[0m\n\u001b[0m\u001b[0;32m     64\u001b[0m             \u001b[1;32melif\u001b[0m \u001b[0mparam\u001b[0m\u001b[1;33m.\u001b[0m\u001b[0mkind\u001b[0m \u001b[1;33m==\u001b[0m \u001b[0mParameter\u001b[0m\u001b[1;33m.\u001b[0m\u001b[0mKEYWORD_ONLY\u001b[0m\u001b[1;33m:\u001b[0m\u001b[1;33m\u001b[0m\u001b[1;33m\u001b[0m\u001b[0m\n\u001b[0;32m     65\u001b[0m                 \u001b[0mkwonly_args\u001b[0m\u001b[1;33m.\u001b[0m\u001b[0mappend\u001b[0m\u001b[1;33m(\u001b[0m\u001b[0mname\u001b[0m\u001b[1;33m)\u001b[0m\u001b[1;33m\u001b[0m\u001b[1;33m\u001b[0m\u001b[0m\n",
      "\u001b[1;32mC:\\ProgramData\\Anaconda3\\lib\\site-packages\\sklearn\\inspection\\_permutation_importance.py\u001b[0m in \u001b[0;36mpermutation_importance\u001b[1;34m(estimator, X, y, scoring, n_repeats, n_jobs, random_state, sample_weight)\u001b[0m\n\u001b[0;32m    145\u001b[0m \u001b[1;33m\u001b[0m\u001b[0m\n\u001b[0;32m    146\u001b[0m         \u001b[0mIf\u001b[0m\u001b[0;31m \u001b[0m\u001b[0;31m`\u001b[0m\u001b[0mscoring\u001b[0m\u001b[0;31m`\u001b[0m \u001b[0mrepresents\u001b[0m \u001b[0mmultiple\u001b[0m \u001b[0mscores\u001b[0m\u001b[1;33m,\u001b[0m \u001b[0mone\u001b[0m \u001b[0mcan\u001b[0m \u001b[0muse\u001b[0m\u001b[1;33m:\u001b[0m\u001b[1;33m\u001b[0m\u001b[1;33m\u001b[0m\u001b[0m\n\u001b[1;32m--> 147\u001b[1;33m \u001b[1;33m\u001b[0m\u001b[0m\n\u001b[0m\u001b[0;32m    148\u001b[0m         \u001b[1;33m-\u001b[0m \u001b[0ma\u001b[0m \u001b[0mlist\u001b[0m \u001b[1;32mor\u001b[0m \u001b[0mtuple\u001b[0m \u001b[0mof\u001b[0m \u001b[0munique\u001b[0m \u001b[0mstrings\u001b[0m\u001b[1;33m;\u001b[0m\u001b[1;33m\u001b[0m\u001b[1;33m\u001b[0m\u001b[0m\n\u001b[0;32m    149\u001b[0m         \u001b[1;33m-\u001b[0m \u001b[0ma\u001b[0m \u001b[0mcallable\u001b[0m \u001b[0mreturning\u001b[0m \u001b[0ma\u001b[0m \u001b[0mdictionary\u001b[0m \u001b[0mwhere\u001b[0m \u001b[0mthe\u001b[0m \u001b[0mkeys\u001b[0m \u001b[0mare\u001b[0m \u001b[0mthe\u001b[0m \u001b[0mmetric\u001b[0m\u001b[1;33m\u001b[0m\u001b[1;33m\u001b[0m\u001b[0m\n",
      "\u001b[1;32mC:\\ProgramData\\Anaconda3\\lib\\site-packages\\sklearn\\inspection\\_permutation_importance.py\u001b[0m in \u001b[0;36m_weights_scorer\u001b[1;34m(scorer, estimator, X, y, sample_weight)\u001b[0m\n\u001b[0;32m     14\u001b[0m \u001b[1;33m\u001b[0m\u001b[0m\n\u001b[0;32m     15\u001b[0m \u001b[1;32mdef\u001b[0m \u001b[0m_weights_scorer\u001b[0m\u001b[1;33m(\u001b[0m\u001b[0mscorer\u001b[0m\u001b[1;33m,\u001b[0m \u001b[0mestimator\u001b[0m\u001b[1;33m,\u001b[0m \u001b[0mX\u001b[0m\u001b[1;33m,\u001b[0m \u001b[0my\u001b[0m\u001b[1;33m,\u001b[0m \u001b[0msample_weight\u001b[0m\u001b[1;33m)\u001b[0m\u001b[1;33m:\u001b[0m\u001b[1;33m\u001b[0m\u001b[1;33m\u001b[0m\u001b[0m\n\u001b[1;32m---> 16\u001b[1;33m     \u001b[1;32mif\u001b[0m \u001b[0msample_weight\u001b[0m \u001b[1;32mis\u001b[0m \u001b[1;32mnot\u001b[0m \u001b[1;32mNone\u001b[0m\u001b[1;33m:\u001b[0m\u001b[1;33m\u001b[0m\u001b[1;33m\u001b[0m\u001b[0m\n\u001b[0m\u001b[0;32m     17\u001b[0m         \u001b[1;32mreturn\u001b[0m \u001b[0mscorer\u001b[0m\u001b[1;33m(\u001b[0m\u001b[0mestimator\u001b[0m\u001b[1;33m,\u001b[0m \u001b[0mX\u001b[0m\u001b[1;33m,\u001b[0m \u001b[0my\u001b[0m\u001b[1;33m,\u001b[0m \u001b[0msample_weight\u001b[0m\u001b[1;33m)\u001b[0m\u001b[1;33m\u001b[0m\u001b[1;33m\u001b[0m\u001b[0m\n\u001b[0;32m     18\u001b[0m     \u001b[1;32mreturn\u001b[0m \u001b[0mscorer\u001b[0m\u001b[1;33m(\u001b[0m\u001b[0mestimator\u001b[0m\u001b[1;33m,\u001b[0m \u001b[0mX\u001b[0m\u001b[1;33m,\u001b[0m \u001b[0my\u001b[0m\u001b[1;33m)\u001b[0m\u001b[1;33m\u001b[0m\u001b[1;33m\u001b[0m\u001b[0m\n",
      "\u001b[1;32mC:\\ProgramData\\Anaconda3\\lib\\site-packages\\sklearn\\metrics\\_scorer.py\u001b[0m in \u001b[0;36m_passthrough_scorer\u001b[1;34m(estimator, *args, **kwargs)\u001b[0m\n\u001b[0;32m    395\u001b[0m             return self._sign * self._score_func(\n\u001b[0;32m    396\u001b[0m                 \u001b[0my\u001b[0m\u001b[1;33m,\u001b[0m \u001b[0my_pred\u001b[0m\u001b[1;33m,\u001b[0m \u001b[0msample_weight\u001b[0m\u001b[1;33m=\u001b[0m\u001b[0msample_weight\u001b[0m\u001b[1;33m,\u001b[0m \u001b[1;33m**\u001b[0m\u001b[0mself\u001b[0m\u001b[1;33m.\u001b[0m\u001b[0m_kwargs\u001b[0m\u001b[1;33m\u001b[0m\u001b[1;33m\u001b[0m\u001b[0m\n\u001b[1;32m--> 397\u001b[1;33m             )\n\u001b[0m\u001b[0;32m    398\u001b[0m         \u001b[1;32melse\u001b[0m\u001b[1;33m:\u001b[0m\u001b[1;33m\u001b[0m\u001b[1;33m\u001b[0m\u001b[0m\n\u001b[0;32m    399\u001b[0m             \u001b[1;32mreturn\u001b[0m \u001b[0mself\u001b[0m\u001b[1;33m.\u001b[0m\u001b[0m_sign\u001b[0m \u001b[1;33m*\u001b[0m \u001b[0mself\u001b[0m\u001b[1;33m.\u001b[0m\u001b[0m_score_func\u001b[0m\u001b[1;33m(\u001b[0m\u001b[0my\u001b[0m\u001b[1;33m,\u001b[0m \u001b[0my_pred\u001b[0m\u001b[1;33m,\u001b[0m \u001b[1;33m**\u001b[0m\u001b[0mself\u001b[0m\u001b[1;33m.\u001b[0m\u001b[0m_kwargs\u001b[0m\u001b[1;33m)\u001b[0m\u001b[1;33m\u001b[0m\u001b[1;33m\u001b[0m\u001b[0m\n",
      "\u001b[1;32mC:\\ProgramData\\Anaconda3\\lib\\site-packages\\sklearn\\utils\\metaestimators.py\u001b[0m in \u001b[0;36m<lambda>\u001b[1;34m(*args, **kwargs)\u001b[0m\n\u001b[0;32m    118\u001b[0m         \u001b[0mself\u001b[0m\u001b[1;33m.\u001b[0m\u001b[0mdelegate_names\u001b[0m \u001b[1;33m=\u001b[0m \u001b[0mdelegate_names\u001b[0m\u001b[1;33m\u001b[0m\u001b[1;33m\u001b[0m\u001b[0m\n\u001b[0;32m    119\u001b[0m \u001b[1;33m\u001b[0m\u001b[0m\n\u001b[1;32m--> 120\u001b[1;33m     \u001b[1;32mdef\u001b[0m \u001b[0m_check\u001b[0m\u001b[1;33m(\u001b[0m\u001b[0mself\u001b[0m\u001b[1;33m,\u001b[0m \u001b[0mobj\u001b[0m\u001b[1;33m)\u001b[0m\u001b[1;33m:\u001b[0m\u001b[1;33m\u001b[0m\u001b[1;33m\u001b[0m\u001b[0m\n\u001b[0m\u001b[0;32m    121\u001b[0m         warnings.warn(\n\u001b[0;32m    122\u001b[0m             \u001b[1;34m\"if_delegate_has_method was deprecated in version 1.1 and will be \"\u001b[0m\u001b[1;33m\u001b[0m\u001b[1;33m\u001b[0m\u001b[0m\n",
      "\u001b[1;32mC:\\ProgramData\\Anaconda3\\lib\\site-packages\\sklearn\\pipeline.py\u001b[0m in \u001b[0;36mscore\u001b[1;34m(self, X, y, sample_weight)\u001b[0m\n\u001b[0;32m    616\u001b[0m             \u001b[0mtransformations\u001b[0m \u001b[1;32min\u001b[0m \u001b[0mthe\u001b[0m \u001b[0mpipeline\u001b[0m\u001b[1;33m.\u001b[0m\u001b[1;33m\u001b[0m\u001b[1;33m\u001b[0m\u001b[0m\n\u001b[0;32m    617\u001b[0m \u001b[1;33m\u001b[0m\u001b[0m\n\u001b[1;32m--> 618\u001b[1;33m         \u001b[0mReturns\u001b[0m\u001b[1;33m\u001b[0m\u001b[1;33m\u001b[0m\u001b[0m\n\u001b[0m\u001b[0;32m    619\u001b[0m         \u001b[1;33m-\u001b[0m\u001b[1;33m-\u001b[0m\u001b[1;33m-\u001b[0m\u001b[1;33m-\u001b[0m\u001b[1;33m-\u001b[0m\u001b[1;33m-\u001b[0m\u001b[1;33m-\u001b[0m\u001b[1;33m\u001b[0m\u001b[1;33m\u001b[0m\u001b[0m\n\u001b[0;32m    620\u001b[0m         \u001b[0my_log_proba\u001b[0m \u001b[1;33m:\u001b[0m \u001b[0mndarray\u001b[0m \u001b[0mof\u001b[0m \u001b[0mshape\u001b[0m \u001b[1;33m(\u001b[0m\u001b[0mn_samples\u001b[0m\u001b[1;33m,\u001b[0m \u001b[0mn_classes\u001b[0m\u001b[1;33m)\u001b[0m\u001b[1;33m\u001b[0m\u001b[1;33m\u001b[0m\u001b[0m\n",
      "\u001b[1;32mC:\\ProgramData\\Anaconda3\\lib\\site-packages\\sklearn\\compose\\_column_transformer.py\u001b[0m in \u001b[0;36mtransform\u001b[1;34m(self, X)\u001b[0m\n\u001b[0;32m    562\u001b[0m                 \u001b[0mnames_repr\u001b[0m \u001b[1;33m=\u001b[0m \u001b[0mstr\u001b[0m\u001b[1;33m(\u001b[0m\u001b[0mtop_6_overlap\u001b[0m\u001b[1;33m[\u001b[0m\u001b[1;33m:\u001b[0m\u001b[1;36m5\u001b[0m\u001b[1;33m]\u001b[0m\u001b[1;33m)\u001b[0m\u001b[1;33m[\u001b[0m\u001b[1;33m:\u001b[0m\u001b[1;33m-\u001b[0m\u001b[1;36m1\u001b[0m\u001b[1;33m]\u001b[0m \u001b[1;33m+\u001b[0m \u001b[1;34m\", ...]\"\u001b[0m\u001b[1;33m\u001b[0m\u001b[1;33m\u001b[0m\u001b[0m\n\u001b[0;32m    563\u001b[0m             \u001b[1;32melse\u001b[0m\u001b[1;33m:\u001b[0m\u001b[1;33m\u001b[0m\u001b[1;33m\u001b[0m\u001b[0m\n\u001b[1;32m--> 564\u001b[1;33m                 \u001b[0mnames_repr\u001b[0m \u001b[1;33m=\u001b[0m \u001b[0mstr\u001b[0m\u001b[1;33m(\u001b[0m\u001b[0mtop_6_overlap\u001b[0m\u001b[1;33m)\u001b[0m\u001b[1;33m\u001b[0m\u001b[1;33m\u001b[0m\u001b[0m\n\u001b[0m\u001b[0;32m    565\u001b[0m             raise ValueError(\n\u001b[0;32m    566\u001b[0m                 \u001b[1;34mf\"Output feature names: {names_repr} are not unique. Please set \"\u001b[0m\u001b[1;33m\u001b[0m\u001b[1;33m\u001b[0m\u001b[0m\n",
      "\u001b[1;32mC:\\ProgramData\\Anaconda3\\lib\\site-packages\\sklearn\\compose\\_column_transformer.py\u001b[0m in \u001b[0;36m_fit_transform\u001b[1;34m(self, X, y, func, fitted)\u001b[0m\n\u001b[0;32m    429\u001b[0m         \u001b[0mself\u001b[0m\u001b[1;33m.\u001b[0m\u001b[0m_transformer_to_input_indices\u001b[0m \u001b[1;33m=\u001b[0m \u001b[0mtransformer_to_input_indices\u001b[0m\u001b[1;33m\u001b[0m\u001b[1;33m\u001b[0m\u001b[0m\n\u001b[0;32m    430\u001b[0m \u001b[1;33m\u001b[0m\u001b[0m\n\u001b[1;32m--> 431\u001b[1;33m     \u001b[1;32mdef\u001b[0m \u001b[0m_validate_remainder\u001b[0m\u001b[1;33m(\u001b[0m\u001b[0mself\u001b[0m\u001b[1;33m,\u001b[0m \u001b[0mX\u001b[0m\u001b[1;33m)\u001b[0m\u001b[1;33m:\u001b[0m\u001b[1;33m\u001b[0m\u001b[1;33m\u001b[0m\u001b[0m\n\u001b[0m\u001b[0;32m    432\u001b[0m         \"\"\"\n\u001b[0;32m    433\u001b[0m         \u001b[0mValidates\u001b[0m\u001b[0;31m \u001b[0m\u001b[0;31m`\u001b[0m\u001b[0;31m`\u001b[0m\u001b[0mremainder\u001b[0m\u001b[0;31m`\u001b[0m\u001b[0;31m`\u001b[0m \u001b[1;32mand\u001b[0m \u001b[0mdefines\u001b[0m\u001b[0;31m \u001b[0m\u001b[0;31m`\u001b[0m\u001b[0;31m`\u001b[0m\u001b[0m_remainder\u001b[0m\u001b[0;31m`\u001b[0m\u001b[0;31m`\u001b[0m \u001b[0mtargeting\u001b[0m\u001b[1;33m\u001b[0m\u001b[1;33m\u001b[0m\u001b[0m\n",
      "\u001b[1;32mC:\\ProgramData\\Anaconda3\\lib\\site-packages\\sklearn\\compose\\_column_transformer.py\u001b[0m in \u001b[0;36m_iter\u001b[1;34m(self, fitted, replace_strings)\u001b[0m\n\u001b[0;32m    248\u001b[0m     \u001b[1;33m@\u001b[0m\u001b[0m_transformers\u001b[0m\u001b[1;33m.\u001b[0m\u001b[0msetter\u001b[0m\u001b[1;33m\u001b[0m\u001b[1;33m\u001b[0m\u001b[0m\n\u001b[0;32m    249\u001b[0m     \u001b[1;32mdef\u001b[0m \u001b[0m_transformers\u001b[0m\u001b[1;33m(\u001b[0m\u001b[0mself\u001b[0m\u001b[1;33m,\u001b[0m \u001b[0mvalue\u001b[0m\u001b[1;33m)\u001b[0m\u001b[1;33m:\u001b[0m\u001b[1;33m\u001b[0m\u001b[1;33m\u001b[0m\u001b[0m\n\u001b[1;32m--> 250\u001b[1;33m         \u001b[1;32mtry\u001b[0m\u001b[1;33m:\u001b[0m\u001b[1;33m\u001b[0m\u001b[1;33m\u001b[0m\u001b[0m\n\u001b[0m\u001b[0;32m    251\u001b[0m             self.transformers = [\n\u001b[0;32m    252\u001b[0m                 \u001b[1;33m(\u001b[0m\u001b[0mname\u001b[0m\u001b[1;33m,\u001b[0m \u001b[0mtrans\u001b[0m\u001b[1;33m,\u001b[0m \u001b[0mcol\u001b[0m\u001b[1;33m)\u001b[0m\u001b[1;33m\u001b[0m\u001b[1;33m\u001b[0m\u001b[0m\n",
      "\u001b[1;31mAttributeError\u001b[0m: 'ColumnTransformer' object has no attribute 'transformers_'"
     ]
    }
   ],
   "source": [
    "# this takes a while to run\n",
    "result = permutation_importance(\n",
    "    final_pipeline,\n",
    "    data_holdout[predictors_tree],\n",
    "    data_holdout[target_variable],\n",
    "    n_repeats=10,\n",
    "    random_state=45,\n",
    ")"
   ]
  },
  {
   "cell_type": "code",
   "execution_count": 346,
   "id": "eb7dfbe9",
   "metadata": {},
   "outputs": [
    {
     "data": {
      "text/plain": [
       "['f_location']"
      ]
     },
     "execution_count": 346,
     "metadata": {},
     "output_type": "execute_result"
    }
   ],
   "source": [
    "categorical_columns"
   ]
  },
  {
   "cell_type": "code",
   "execution_count": 347,
   "id": "fe897f8d",
   "metadata": {},
   "outputs": [
    {
     "ename": "NameError",
     "evalue": "name 'result' is not defined",
     "output_type": "error",
     "traceback": [
      "\u001b[1;31m---------------------------------------------------------------------------\u001b[0m",
      "\u001b[1;31mNameError\u001b[0m                                 Traceback (most recent call last)",
      "\u001b[1;32m~\\AppData\\Local\\Temp/ipykernel_23336/3194477935.py\u001b[0m in \u001b[0;36m<module>\u001b[1;34m\u001b[0m\n\u001b[0;32m      1\u001b[0m grouped_imp = (\n\u001b[0;32m      2\u001b[0m     pd.DataFrame(\n\u001b[1;32m----> 3\u001b[1;33m         \u001b[0mresult\u001b[0m\u001b[1;33m.\u001b[0m\u001b[0mimportances_mean\u001b[0m\u001b[1;33m,\u001b[0m\u001b[1;33m\u001b[0m\u001b[1;33m\u001b[0m\u001b[0m\n\u001b[0m\u001b[0;32m      4\u001b[0m         \u001b[0mdata_train\u001b[0m\u001b[1;33m[\u001b[0m\u001b[0mpredictors_tree\u001b[0m\u001b[1;33m]\u001b[0m\u001b[1;33m.\u001b[0m\u001b[0mcolumns\u001b[0m\u001b[1;33m,\u001b[0m\u001b[1;33m\u001b[0m\u001b[1;33m\u001b[0m\u001b[0m\n\u001b[0;32m      5\u001b[0m     )\n",
      "\u001b[1;31mNameError\u001b[0m: name 'result' is not defined"
     ]
    }
   ],
   "source": [
    "grouped_imp = (\n",
    "    pd.DataFrame(\n",
    "        result.importances_mean,\n",
    "        data_train[predictors_tree].columns,\n",
    "    )\n",
    "    .reset_index()\n",
    "    .rename({\"index\": \"varname\", 0: \"imp\"}, axis=1)\n",
    "    .assign(imp_percentage=lambda x: x[\"imp\"] / x[\"imp\"].sum())\n",
    "    .sort_values(by=[\"imp\"], ascending=False)\n",
    "    .head(10)\n",
    ")"
   ]
  },
  {
   "cell_type": "code",
   "execution_count": 348,
   "id": "cd805236",
   "metadata": {},
   "outputs": [
    {
     "ename": "NameError",
     "evalue": "name 'grouped_imp' is not defined",
     "output_type": "error",
     "traceback": [
      "\u001b[1;31m---------------------------------------------------------------------------\u001b[0m",
      "\u001b[1;31mNameError\u001b[0m                                 Traceback (most recent call last)",
      "\u001b[1;32m~\\AppData\\Local\\Temp/ipykernel_23336/1967583860.py\u001b[0m in \u001b[0;36m<module>\u001b[1;34m\u001b[0m\n\u001b[1;32m----> 1\u001b[1;33m varimp_p = ggplot(grouped_imp, aes(x=\"reorder(varname, imp)\", y=\"imp_percentage\")\n\u001b[0m\u001b[0;32m      2\u001b[0m \u001b[1;33m)\u001b[0m \u001b[1;33m+\u001b[0m \u001b[0mgeom_point\u001b[0m\u001b[1;33m(\u001b[0m\u001b[0msize\u001b[0m\u001b[1;33m=\u001b[0m\u001b[1;36m1.5\u001b[0m\u001b[1;33m,\u001b[0m \u001b[0mcolor\u001b[0m \u001b[1;33m=\u001b[0m \u001b[1;34m\"#1f77b4\"\u001b[0m\u001b[1;33m\u001b[0m\u001b[1;33m\u001b[0m\u001b[0m\n\u001b[0;32m      3\u001b[0m \u001b[1;33m)\u001b[0m \u001b[1;33m+\u001b[0m \u001b[0mgeom_segment\u001b[0m\u001b[1;33m(\u001b[0m\u001b[1;33m\u001b[0m\u001b[1;33m\u001b[0m\u001b[0m\n\u001b[0;32m      4\u001b[0m     \u001b[0maes\u001b[0m\u001b[1;33m(\u001b[0m\u001b[0mx\u001b[0m\u001b[1;33m=\u001b[0m\u001b[1;34m\"varname\"\u001b[0m\u001b[1;33m,\u001b[0m \u001b[0mxend\u001b[0m\u001b[1;33m=\u001b[0m\u001b[1;34m\"varname\"\u001b[0m\u001b[1;33m,\u001b[0m \u001b[0my\u001b[0m\u001b[1;33m=\u001b[0m\u001b[1;36m0\u001b[0m\u001b[1;33m,\u001b[0m \u001b[0myend\u001b[0m\u001b[1;33m=\u001b[0m\u001b[1;34m\"imp_percentage\"\u001b[0m\u001b[1;33m)\u001b[0m\u001b[1;33m,\u001b[0m \u001b[0msize\u001b[0m\u001b[1;33m=\u001b[0m\u001b[1;36m1\u001b[0m\u001b[1;33m,\u001b[0m \u001b[0mcolor\u001b[0m \u001b[1;33m=\u001b[0m \u001b[1;34m\"#1f77b4\"\u001b[0m\u001b[1;33m\u001b[0m\u001b[1;33m\u001b[0m\u001b[0m\n\u001b[0;32m      5\u001b[0m \u001b[1;33m)\u001b[0m \u001b[1;33m+\u001b[0m \u001b[0mggtitle\u001b[0m\u001b[1;33m(\u001b[0m\u001b[1;34m\"Variable importance \\n calculated from permutation importance on the holdout set\"\u001b[0m\u001b[1;33m\u001b[0m\u001b[1;33m\u001b[0m\u001b[0m\n",
      "\u001b[1;31mNameError\u001b[0m: name 'grouped_imp' is not defined"
     ]
    }
   ],
   "source": [
    "varimp_p = ggplot(grouped_imp, aes(x=\"reorder(varname, imp)\", y=\"imp_percentage\")\n",
    ") + geom_point(size=1.5, color = \"#1f77b4\"\n",
    ") + geom_segment(\n",
    "    aes(x=\"varname\", xend=\"varname\", y=0, yend=\"imp_percentage\"), size=1, color = \"#1f77b4\"\n",
    ") + ggtitle(\"Variable importance \\n calculated from permutation importance on the holdout set\"\n",
    ") + ylab(\n",
    "    \"Importance (Percent)\"\n",
    ") + xlab(\n",
    "    \"Variable Name\"\n",
    ") + coord_flip() + scale_y_continuous(\n",
    "    labels=percent_format()\n",
    ") + theme_bw(\n",
    ")\n",
    "ggsave(varimp_p,filename='../figures/varimp.eps', dpi=1000)\n",
    "varimp_p"
   ]
  },
  {
   "cell_type": "markdown",
   "id": "be482c85",
   "metadata": {},
   "source": [
    "## Partial Dependence Plots"
   ]
  },
  {
   "cell_type": "code",
   "execution_count": 345,
   "id": "92cf261d",
   "metadata": {},
   "outputs": [
    {
     "ename": "ValueError",
     "evalue": "Selected columns, ['n_bathrooms', 'n_accommodates', 'n_review_scores_rating', 'n_number_of_reviews', 'n_availability_365', 'n_minimum_nights', 'n_beds', 'n_maximum_nights', 'n_days_since', 'd_kitchen', 'd_longtermstaysallowed', 'd_wifi', 'd_essentials', 'd_hairdryer', 'd_hangers', 'd_iron', 'd_dishesandsilverware', 'd_heating', 'd_hotwater', 'd_refrigerator', 'd_washer', 'd_tv', 'd_microwave', 'd_cookingbasics', 'd_bedlinens', 'd_shampoo', 'd_airconditioning', 'd_coffeemaker', 'd_elevator', 'd_oven', 'd_dedicatedworkspace', 'd_dishwasher', 'd_stove', 'd_freezer', 'd_showergel', 'd_fireextinguisher', 'd_roomdarkeningshades', 'd_extrapillowsandblankets', 'd_cleaningproducts', 'd_dryingrackforclothing', 'd_diningtable', 'd_toaster', 'd_smokealarm', 'd_hostgreetsyou', 'd_bodysoap', 'd_hotwaterkettle', 'd_wineglasses', 'd_firstaidkit', 'd_freewasherinunit', 'd_selfcheckin', 'd_paidparkingoffpremises', 'd_carbonmonoxidealarm', 'd_clothingstoragecloset', 'd_petsallowed', 'd_crib', 'd_privateentrance', 'd_dryer', 'd_luggagedropoffallowed', 'd_laundromatnearby', 'd_privatepatioorbalcony', 'd_coffee', 'd_patioorbalcony', 'd_ethernetconnection', 'd_acsplittypeductlesssystem', 'd_paidparkingonpremises', 'd_bathtub', 'd_smokingallowed', 'd_singlelevelhome', 'd_freestreetparking', 'd_clothingstorage', 'd_lockbox', 'd_cityskylineview', 'd_blender', 'd_packnplaytravelcrib', 'd_centralairconditioning', 'd_portablefans', 'd_centralheating', 'd_coffeemakernespresso', 'd_booksandreadingmaterial', 'd_highchair', 'd_smartlock', 'd_securitycamerasonproperty', 'd_freeparkingonpremises', 'd_tvwithstandardcable', 'd_minifridge', 'd_freedryerinunit', 'd_pocketwifi', 'd_paidparkinggarageoffpremises', 'd_breakfast', 'd_conditioner', 'd_bakingsheet', 'd_outdoorfurniture', 'd_electricstove', 'd_bidet', 'd_stainlesssteeloven', 'd_fastwifi', 'd_hdtv', 'd_outdoordiningarea', 'd_backyard', 'd_coffeemakerdripcoffeemaker', 'd_ceilingfan', 'd_babysitterrecommendations', 'd_netflix', 'd_heatingsplittypeductlesssystem', 'd_paidstreetparkingoffpremises', 'd_coffeemakerespressomachine', 'd_childrensbooksandtoys', 'd_childrensdinnerware', 'd_portableheater', 'd_buildingstaff', 'd_courtyardview', 'd_radiantheating', 'd_standardcable', 'd_windowguards', 'd_cribavailableuponrequest', 'd_babybath', 'd_inductionstove', 'd_hdtv', 'd_cleaningavailableduringstay', 'd_paidparkinglotoffpremises', 'd_hdtvwithstandardcable', 'd_pool', 'd_windowacunit', 'd_coffeemakerpourovercoffee', 'd_safe', 'd_hdtvwithamazonprimevideo', 'd_hdtvwithnetflix', 'd_outdoorshower', 'd_packnplaytravelcribavailableuponrequest', 'd_keypad', 'd_portableairconditioning', 'd_boardgames', 'd_sharedpatioorbalcony', 'd_hbomax', 'd_clothingstorageclosetanddresser', 'd_clothingstoragedresserandcloset', 'd_outletcovers', 'd_gym', 'd_indoorfireplace', 'd_privatebackyardfullyfenced', 'd_washerainunit', 'd_sharedpool', 'd_gardenview', 'd_hdtvwithstandardcable', 'd_paidpacknplaytravelcribavailableuponrequest', 'd_tv', 'd_paidcribavailableuponrequest', 'd_exerciseequipment', 'd_clothingstoragewardrobe', 'd_hottub', 'd_soundsystem', 'd_changingtable', 'd_amazonprimevideo', 'd_parkview', 'd_privatehottub', 'd_bathroomessentials', 'd_bedroomcomforts', 'd_freewasher', 'd_nespresso', 'd_babysafetygates', 'd_tvwithstandardcable', 'd_hdtvwithnetflix', 'd_bbqgrill', 'd_mosquitonet', 'd_clothingstoragedresser', 'd_clothingstoragewalkincloset', 'd_sharedbackyardfullyfenced', 'd_openspecifichours', 'd_fullkitchen', 'd_pourovercoffee', 'd_ricemaker', 'd_coffeemakerfrenchpress', 'd_hammock'], are not unique in dataframe",
     "output_type": "error",
     "traceback": [
      "\u001b[1;31m---------------------------------------------------------------------------\u001b[0m",
      "\u001b[1;31mValueError\u001b[0m                                Traceback (most recent call last)",
      "\u001b[1;32m~\\AppData\\Local\\Temp/ipykernel_23336/1461412.py\u001b[0m in \u001b[0;36m<module>\u001b[1;34m\u001b[0m\n\u001b[0;32m      1\u001b[0m bath_pdp = partial_dependence(\n\u001b[1;32m----> 2\u001b[1;33m     \u001b[0mfinal_pipeline\u001b[0m\u001b[1;33m.\u001b[0m\u001b[0mfit\u001b[0m\u001b[1;33m(\u001b[0m\u001b[0mdata_train\u001b[0m\u001b[1;33m[\u001b[0m\u001b[0mpredictors_tree\u001b[0m\u001b[1;33m]\u001b[0m\u001b[1;33m,\u001b[0m\u001b[0mdata_train\u001b[0m\u001b[1;33m[\u001b[0m\u001b[0mtarget_variable\u001b[0m\u001b[1;33m]\u001b[0m\u001b[1;33m)\u001b[0m\u001b[1;33m,\u001b[0m\u001b[1;33m\u001b[0m\u001b[1;33m\u001b[0m\u001b[0m\n\u001b[0m\u001b[0;32m      3\u001b[0m     data_holdout[predictors_tree].assign(\n\u001b[0;32m      4\u001b[0m         \u001b[0mn_bathrooms\u001b[0m\u001b[1;33m=\u001b[0m\u001b[1;32mlambda\u001b[0m \u001b[0mx\u001b[0m\u001b[1;33m:\u001b[0m \u001b[0mx\u001b[0m\u001b[1;33m[\u001b[0m\u001b[1;34m\"n_bathrooms\"\u001b[0m\u001b[1;33m]\u001b[0m\u001b[1;33m.\u001b[0m\u001b[0mastype\u001b[0m\u001b[1;33m(\u001b[0m\u001b[0mint\u001b[0m\u001b[1;33m)\u001b[0m\u001b[1;33m\u001b[0m\u001b[1;33m\u001b[0m\u001b[0m\n\u001b[0;32m      5\u001b[0m     ),\n",
      "\u001b[1;32mC:\\ProgramData\\Anaconda3\\lib\\site-packages\\sklearn\\pipeline.py\u001b[0m in \u001b[0;36mfit\u001b[1;34m(self, X, y, **fit_params)\u001b[0m\n\u001b[0;32m    339\u001b[0m         \u001b[0mself\u001b[0m\u001b[1;33m.\u001b[0m\u001b[0m_validate_steps\u001b[0m\u001b[1;33m(\u001b[0m\u001b[1;33m)\u001b[0m\u001b[1;33m\u001b[0m\u001b[1;33m\u001b[0m\u001b[0m\n\u001b[0;32m    340\u001b[0m         \u001b[1;31m# Setup the memory\u001b[0m\u001b[1;33m\u001b[0m\u001b[1;33m\u001b[0m\u001b[0m\n\u001b[1;32m--> 341\u001b[1;33m         \u001b[0mmemory\u001b[0m \u001b[1;33m=\u001b[0m \u001b[0mcheck_memory\u001b[0m\u001b[1;33m(\u001b[0m\u001b[0mself\u001b[0m\u001b[1;33m.\u001b[0m\u001b[0mmemory\u001b[0m\u001b[1;33m)\u001b[0m\u001b[1;33m\u001b[0m\u001b[1;33m\u001b[0m\u001b[0m\n\u001b[0m\u001b[0;32m    342\u001b[0m \u001b[1;33m\u001b[0m\u001b[0m\n\u001b[0;32m    343\u001b[0m         \u001b[0mfit_transform_one_cached\u001b[0m \u001b[1;33m=\u001b[0m \u001b[0mmemory\u001b[0m\u001b[1;33m.\u001b[0m\u001b[0mcache\u001b[0m\u001b[1;33m(\u001b[0m\u001b[0m_fit_transform_one\u001b[0m\u001b[1;33m)\u001b[0m\u001b[1;33m\u001b[0m\u001b[1;33m\u001b[0m\u001b[0m\n",
      "\u001b[1;32mC:\\ProgramData\\Anaconda3\\lib\\site-packages\\sklearn\\pipeline.py\u001b[0m in \u001b[0;36m_fit\u001b[1;34m(self, X, y, **fit_params_steps)\u001b[0m\n\u001b[0;32m    301\u001b[0m \u001b[1;33m\u001b[0m\u001b[0m\n\u001b[0;32m    302\u001b[0m         \u001b[0mRead\u001b[0m\u001b[1;33m-\u001b[0m\u001b[0monly\u001b[0m \u001b[0mattribute\u001b[0m \u001b[0mto\u001b[0m \u001b[0maccess\u001b[0m \u001b[0many\u001b[0m \u001b[0mstep\u001b[0m \u001b[0mby\u001b[0m \u001b[0mgiven\u001b[0m \u001b[0mname\u001b[0m\u001b[1;33m.\u001b[0m\u001b[1;33m\u001b[0m\u001b[1;33m\u001b[0m\u001b[0m\n\u001b[1;32m--> 303\u001b[1;33m         Keys are steps names and values are the steps objects.\"\"\"\n\u001b[0m\u001b[0;32m    304\u001b[0m         \u001b[1;31m# Use Bunch object to improve autocomplete\u001b[0m\u001b[1;33m\u001b[0m\u001b[1;33m\u001b[0m\u001b[0m\n\u001b[0;32m    305\u001b[0m         \u001b[1;32mreturn\u001b[0m \u001b[0mBunch\u001b[0m\u001b[1;33m(\u001b[0m\u001b[1;33m**\u001b[0m\u001b[0mdict\u001b[0m\u001b[1;33m(\u001b[0m\u001b[0mself\u001b[0m\u001b[1;33m.\u001b[0m\u001b[0msteps\u001b[0m\u001b[1;33m)\u001b[0m\u001b[1;33m)\u001b[0m\u001b[1;33m\u001b[0m\u001b[1;33m\u001b[0m\u001b[0m\n",
      "\u001b[1;32mC:\\ProgramData\\Anaconda3\\lib\\site-packages\\joblib\\memory.py\u001b[0m in \u001b[0;36m__call__\u001b[1;34m(self, *args, **kwargs)\u001b[0m\n\u001b[0;32m    347\u001b[0m \u001b[1;33m\u001b[0m\u001b[0m\n\u001b[0;32m    348\u001b[0m     \u001b[1;32mdef\u001b[0m \u001b[0m__call__\u001b[0m\u001b[1;33m(\u001b[0m\u001b[0mself\u001b[0m\u001b[1;33m,\u001b[0m \u001b[1;33m*\u001b[0m\u001b[0margs\u001b[0m\u001b[1;33m,\u001b[0m \u001b[1;33m**\u001b[0m\u001b[0mkwargs\u001b[0m\u001b[1;33m)\u001b[0m\u001b[1;33m:\u001b[0m\u001b[1;33m\u001b[0m\u001b[1;33m\u001b[0m\u001b[0m\n\u001b[1;32m--> 349\u001b[1;33m         \u001b[1;32mreturn\u001b[0m \u001b[0mself\u001b[0m\u001b[1;33m.\u001b[0m\u001b[0mfunc\u001b[0m\u001b[1;33m(\u001b[0m\u001b[1;33m*\u001b[0m\u001b[0margs\u001b[0m\u001b[1;33m,\u001b[0m \u001b[1;33m**\u001b[0m\u001b[0mkwargs\u001b[0m\u001b[1;33m)\u001b[0m\u001b[1;33m\u001b[0m\u001b[1;33m\u001b[0m\u001b[0m\n\u001b[0m\u001b[0;32m    350\u001b[0m \u001b[1;33m\u001b[0m\u001b[0m\n\u001b[0;32m    351\u001b[0m     \u001b[1;32mdef\u001b[0m \u001b[0mcall_and_shelve\u001b[0m\u001b[1;33m(\u001b[0m\u001b[0mself\u001b[0m\u001b[1;33m,\u001b[0m \u001b[1;33m*\u001b[0m\u001b[0margs\u001b[0m\u001b[1;33m,\u001b[0m \u001b[1;33m**\u001b[0m\u001b[0mkwargs\u001b[0m\u001b[1;33m)\u001b[0m\u001b[1;33m:\u001b[0m\u001b[1;33m\u001b[0m\u001b[1;33m\u001b[0m\u001b[0m\n",
      "\u001b[1;32mC:\\ProgramData\\Anaconda3\\lib\\site-packages\\sklearn\\pipeline.py\u001b[0m in \u001b[0;36m_fit_transform_one\u001b[1;34m(transformer, X, y, weight, message_clsname, message, **fit_params)\u001b[0m\n\u001b[0;32m    752\u001b[0m                     \u001b[1;34m\"Estimator {} does not provide get_feature_names_out. \"\u001b[0m\u001b[1;33m\u001b[0m\u001b[1;33m\u001b[0m\u001b[0m\n\u001b[0;32m    753\u001b[0m                     \u001b[1;34m\"Did you mean to call pipeline[:-1].get_feature_names_out\"\u001b[0m\u001b[1;33m\u001b[0m\u001b[1;33m\u001b[0m\u001b[0m\n\u001b[1;32m--> 754\u001b[1;33m                     \u001b[1;34m\"()?\"\u001b[0m\u001b[1;33m.\u001b[0m\u001b[0mformat\u001b[0m\u001b[1;33m(\u001b[0m\u001b[0mname\u001b[0m\u001b[1;33m)\u001b[0m\u001b[1;33m\u001b[0m\u001b[1;33m\u001b[0m\u001b[0m\n\u001b[0m\u001b[0;32m    755\u001b[0m                 )\n\u001b[0;32m    756\u001b[0m             \u001b[0mfeature_names_out\u001b[0m \u001b[1;33m=\u001b[0m \u001b[0mtransform\u001b[0m\u001b[1;33m.\u001b[0m\u001b[0mget_feature_names_out\u001b[0m\u001b[1;33m(\u001b[0m\u001b[0mfeature_names_out\u001b[0m\u001b[1;33m)\u001b[0m\u001b[1;33m\u001b[0m\u001b[1;33m\u001b[0m\u001b[0m\n",
      "\u001b[1;32mC:\\ProgramData\\Anaconda3\\lib\\site-packages\\sklearn\\compose\\_column_transformer.py\u001b[0m in \u001b[0;36mfit_transform\u001b[1;34m(self, X, y)\u001b[0m\n\u001b[0;32m    503\u001b[0m             \u001b[0mTransformed\u001b[0m \u001b[0mfeature\u001b[0m \u001b[0mnames\u001b[0m\u001b[1;33m.\u001b[0m\u001b[1;33m\u001b[0m\u001b[1;33m\u001b[0m\u001b[0m\n\u001b[0;32m    504\u001b[0m         \"\"\"\n\u001b[1;32m--> 505\u001b[1;33m         \u001b[0mcheck_is_fitted\u001b[0m\u001b[1;33m(\u001b[0m\u001b[0mself\u001b[0m\u001b[1;33m)\u001b[0m\u001b[1;33m\u001b[0m\u001b[1;33m\u001b[0m\u001b[0m\n\u001b[0m\u001b[0;32m    506\u001b[0m         \u001b[0minput_features\u001b[0m \u001b[1;33m=\u001b[0m \u001b[0m_check_feature_names_in\u001b[0m\u001b[1;33m(\u001b[0m\u001b[0mself\u001b[0m\u001b[1;33m,\u001b[0m \u001b[0minput_features\u001b[0m\u001b[1;33m)\u001b[0m\u001b[1;33m\u001b[0m\u001b[1;33m\u001b[0m\u001b[0m\n\u001b[0;32m    507\u001b[0m \u001b[1;33m\u001b[0m\u001b[0m\n",
      "\u001b[1;32mC:\\ProgramData\\Anaconda3\\lib\\site-packages\\sklearn\\compose\\_column_transformer.py\u001b[0m in \u001b[0;36m_validate_remainder\u001b[1;34m(self, X)\u001b[0m\n\u001b[0;32m    330\u001b[0m \u001b[1;33m\u001b[0m\u001b[0m\n\u001b[0;32m    331\u001b[0m     \u001b[1;32mdef\u001b[0m \u001b[0m_iter\u001b[0m\u001b[1;33m(\u001b[0m\u001b[0mself\u001b[0m\u001b[1;33m,\u001b[0m \u001b[0mfitted\u001b[0m\u001b[1;33m=\u001b[0m\u001b[1;32mFalse\u001b[0m\u001b[1;33m,\u001b[0m \u001b[0mreplace_strings\u001b[0m\u001b[1;33m=\u001b[0m\u001b[1;32mFalse\u001b[0m\u001b[1;33m,\u001b[0m \u001b[0mcolumn_as_strings\u001b[0m\u001b[1;33m=\u001b[0m\u001b[1;32mFalse\u001b[0m\u001b[1;33m)\u001b[0m\u001b[1;33m:\u001b[0m\u001b[1;33m\u001b[0m\u001b[1;33m\u001b[0m\u001b[0m\n\u001b[1;32m--> 332\u001b[1;33m         \"\"\"\n\u001b[0m\u001b[0;32m    333\u001b[0m         \u001b[0mGenerate\u001b[0m \u001b[1;33m(\u001b[0m\u001b[0mname\u001b[0m\u001b[1;33m,\u001b[0m \u001b[0mtrans\u001b[0m\u001b[1;33m,\u001b[0m \u001b[0mcolumn\u001b[0m\u001b[1;33m,\u001b[0m \u001b[0mweight\u001b[0m\u001b[1;33m)\u001b[0m \u001b[0mtuples\u001b[0m\u001b[1;33m.\u001b[0m\u001b[1;33m\u001b[0m\u001b[1;33m\u001b[0m\u001b[0m\n\u001b[0;32m    334\u001b[0m \u001b[1;33m\u001b[0m\u001b[0m\n",
      "\u001b[1;32mC:\\ProgramData\\Anaconda3\\lib\\site-packages\\sklearn\\utils\\__init__.py\u001b[0m in \u001b[0;36m_get_column_indices\u001b[1;34m(X, key)\u001b[0m\n\u001b[0;32m    396\u001b[0m \u001b[1;33m\u001b[0m\u001b[0m\n\u001b[0;32m    397\u001b[0m \u001b[1;33m\u001b[0m\u001b[0m\n\u001b[1;32m--> 398\u001b[1;33m \u001b[1;32mdef\u001b[0m \u001b[0m_get_column_indices\u001b[0m\u001b[1;33m(\u001b[0m\u001b[0mX\u001b[0m\u001b[1;33m,\u001b[0m \u001b[0mkey\u001b[0m\u001b[1;33m)\u001b[0m\u001b[1;33m:\u001b[0m\u001b[1;33m\u001b[0m\u001b[1;33m\u001b[0m\u001b[0m\n\u001b[0m\u001b[0;32m    399\u001b[0m     \"\"\"Get feature column indices for input data X and key.\n\u001b[0;32m    400\u001b[0m \u001b[1;33m\u001b[0m\u001b[0m\n",
      "\u001b[1;31mValueError\u001b[0m: Selected columns, ['n_bathrooms', 'n_accommodates', 'n_review_scores_rating', 'n_number_of_reviews', 'n_availability_365', 'n_minimum_nights', 'n_beds', 'n_maximum_nights', 'n_days_since', 'd_kitchen', 'd_longtermstaysallowed', 'd_wifi', 'd_essentials', 'd_hairdryer', 'd_hangers', 'd_iron', 'd_dishesandsilverware', 'd_heating', 'd_hotwater', 'd_refrigerator', 'd_washer', 'd_tv', 'd_microwave', 'd_cookingbasics', 'd_bedlinens', 'd_shampoo', 'd_airconditioning', 'd_coffeemaker', 'd_elevator', 'd_oven', 'd_dedicatedworkspace', 'd_dishwasher', 'd_stove', 'd_freezer', 'd_showergel', 'd_fireextinguisher', 'd_roomdarkeningshades', 'd_extrapillowsandblankets', 'd_cleaningproducts', 'd_dryingrackforclothing', 'd_diningtable', 'd_toaster', 'd_smokealarm', 'd_hostgreetsyou', 'd_bodysoap', 'd_hotwaterkettle', 'd_wineglasses', 'd_firstaidkit', 'd_freewasherinunit', 'd_selfcheckin', 'd_paidparkingoffpremises', 'd_carbonmonoxidealarm', 'd_clothingstoragecloset', 'd_petsallowed', 'd_crib', 'd_privateentrance', 'd_dryer', 'd_luggagedropoffallowed', 'd_laundromatnearby', 'd_privatepatioorbalcony', 'd_coffee', 'd_patioorbalcony', 'd_ethernetconnection', 'd_acsplittypeductlesssystem', 'd_paidparkingonpremises', 'd_bathtub', 'd_smokingallowed', 'd_singlelevelhome', 'd_freestreetparking', 'd_clothingstorage', 'd_lockbox', 'd_cityskylineview', 'd_blender', 'd_packnplaytravelcrib', 'd_centralairconditioning', 'd_portablefans', 'd_centralheating', 'd_coffeemakernespresso', 'd_booksandreadingmaterial', 'd_highchair', 'd_smartlock', 'd_securitycamerasonproperty', 'd_freeparkingonpremises', 'd_tvwithstandardcable', 'd_minifridge', 'd_freedryerinunit', 'd_pocketwifi', 'd_paidparkinggarageoffpremises', 'd_breakfast', 'd_conditioner', 'd_bakingsheet', 'd_outdoorfurniture', 'd_electricstove', 'd_bidet', 'd_stainlesssteeloven', 'd_fastwifi', 'd_hdtv', 'd_outdoordiningarea', 'd_backyard', 'd_coffeemakerdripcoffeemaker', 'd_ceilingfan', 'd_babysitterrecommendations', 'd_netflix', 'd_heatingsplittypeductlesssystem', 'd_paidstreetparkingoffpremises', 'd_coffeemakerespressomachine', 'd_childrensbooksandtoys', 'd_childrensdinnerware', 'd_portableheater', 'd_buildingstaff', 'd_courtyardview', 'd_radiantheating', 'd_standardcable', 'd_windowguards', 'd_cribavailableuponrequest', 'd_babybath', 'd_inductionstove', 'd_hdtv', 'd_cleaningavailableduringstay', 'd_paidparkinglotoffpremises', 'd_hdtvwithstandardcable', 'd_pool', 'd_windowacunit', 'd_coffeemakerpourovercoffee', 'd_safe', 'd_hdtvwithamazonprimevideo', 'd_hdtvwithnetflix', 'd_outdoorshower', 'd_packnplaytravelcribavailableuponrequest', 'd_keypad', 'd_portableairconditioning', 'd_boardgames', 'd_sharedpatioorbalcony', 'd_hbomax', 'd_clothingstorageclosetanddresser', 'd_clothingstoragedresserandcloset', 'd_outletcovers', 'd_gym', 'd_indoorfireplace', 'd_privatebackyardfullyfenced', 'd_washerainunit', 'd_sharedpool', 'd_gardenview', 'd_hdtvwithstandardcable', 'd_paidpacknplaytravelcribavailableuponrequest', 'd_tv', 'd_paidcribavailableuponrequest', 'd_exerciseequipment', 'd_clothingstoragewardrobe', 'd_hottub', 'd_soundsystem', 'd_changingtable', 'd_amazonprimevideo', 'd_parkview', 'd_privatehottub', 'd_bathroomessentials', 'd_bedroomcomforts', 'd_freewasher', 'd_nespresso', 'd_babysafetygates', 'd_tvwithstandardcable', 'd_hdtvwithnetflix', 'd_bbqgrill', 'd_mosquitonet', 'd_clothingstoragedresser', 'd_clothingstoragewalkincloset', 'd_sharedbackyardfullyfenced', 'd_openspecifichours', 'd_fullkitchen', 'd_pourovercoffee', 'd_ricemaker', 'd_coffeemakerfrenchpress', 'd_hammock'], are not unique in dataframe"
     ]
    }
   ],
   "source": [
    "bath_pdp = partial_dependence(\n",
    "    final_pipeline.fit(data_train[predictors_tree],data_train[target_variable]),\n",
    "    data_holdout[predictors_tree].assign(\n",
    "        n_bathrooms=lambda x: x[\"n_bathrooms\"].astype(int)\n",
    "    ),\n",
    "    [\"n_bathrooms\"],\n",
    "    kind=\"average\",\n",
    ")\n",
    "\n",
    "bath_pdp = (\n",
    "    pd.DataFrame(bath_pdp[\"average\"], columns=bath_pdp[\"values\"][0].tolist())\n",
    "    .T.reset_index()\n",
    "    .rename({0: \"Predicted price\", \"index\": \"Bathrooms\"}, axis=1)\n",
    ")\n",
    "\n",
    "\n",
    "n_bootstrap = 150\n",
    "\n",
    "bathrooms = bath_pdp[\"Bathrooms\"].tolist()\n",
    "expected_value_bootstrap_replications = []\n",
    "for _ in range(n_bootstrap):\n",
    "    X_boot, y_boot = resample(\n",
    "        data_holdout[predictors_tree].assign(\n",
    "            n_bathrooms=lambda x: x[\"n_bathrooms\"].astype(int)\n",
    "        ),\n",
    "        data_holdout[target_variable],\n",
    "    )\n",
    "\n",
    "    final_booted = final_pipeline.fit(X_boot, y_boot)\n",
    "\n",
    "    expected_value_bootstrap_replications.append(\n",
    "        partial_dependence(final_booted, X_boot, [\"n_bathrooms\"], kind=\"average\")[\n",
    "            \"average\"\n",
    "        ][0]\n",
    "    )\n",
    "\n",
    "bath_pdp[\"prediction_se\"] = (\n",
    "    pd.DataFrame(expected_value_bootstrap_replications).dropna().std(axis=0).tolist()\n",
    ")"
   ]
  },
  {
   "cell_type": "code",
   "execution_count": 351,
   "id": "b6f37608",
   "metadata": {},
   "outputs": [
    {
     "ename": "NotFittedError",
     "evalue": "This Pipeline instance is not fitted yet. Call 'fit' with appropriate arguments before using this estimator.",
     "output_type": "error",
     "traceback": [
      "\u001b[1;31m---------------------------------------------------------------------------\u001b[0m",
      "\u001b[1;31mNotFittedError\u001b[0m                            Traceback (most recent call last)",
      "\u001b[1;32m~\\AppData\\Local\\Temp/ipykernel_23336/1934819051.py\u001b[0m in \u001b[0;36m<module>\u001b[1;34m\u001b[0m\n\u001b[1;32m----> 1\u001b[1;33m accom_pdp = partial_dependence(\n\u001b[0m\u001b[0;32m      2\u001b[0m     \u001b[0mfinal_pipeline\u001b[0m\u001b[1;33m,\u001b[0m \u001b[0mdata_holdout\u001b[0m\u001b[1;33m[\u001b[0m\u001b[0mpredictors_tree\u001b[0m\u001b[1;33m]\u001b[0m\u001b[1;33m,\u001b[0m \u001b[1;33m[\u001b[0m\u001b[1;34m\"n_accommodates\"\u001b[0m\u001b[1;33m]\u001b[0m\u001b[1;33m,\u001b[0m \u001b[0mkind\u001b[0m\u001b[1;33m=\u001b[0m\u001b[1;34m\"average\"\u001b[0m\u001b[1;33m\u001b[0m\u001b[1;33m\u001b[0m\u001b[0m\n\u001b[0;32m      3\u001b[0m )\n\u001b[0;32m      4\u001b[0m \u001b[1;33m\u001b[0m\u001b[0m\n\u001b[0;32m      5\u001b[0m accom_pdp = (\n",
      "\u001b[1;32mC:\\ProgramData\\Anaconda3\\lib\\site-packages\\sklearn\\utils\\validation.py\u001b[0m in \u001b[0;36minner_f\u001b[1;34m(*args, **kwargs)\u001b[0m\n\u001b[0;32m     61\u001b[0m         \u001b[1;32mfor\u001b[0m \u001b[0mname\u001b[0m\u001b[1;33m,\u001b[0m \u001b[0mparam\u001b[0m \u001b[1;32min\u001b[0m \u001b[0msig\u001b[0m\u001b[1;33m.\u001b[0m\u001b[0mparameters\u001b[0m\u001b[1;33m.\u001b[0m\u001b[0mitems\u001b[0m\u001b[1;33m(\u001b[0m\u001b[1;33m)\u001b[0m\u001b[1;33m:\u001b[0m\u001b[1;33m\u001b[0m\u001b[1;33m\u001b[0m\u001b[0m\n\u001b[0;32m     62\u001b[0m             \u001b[1;32mif\u001b[0m \u001b[0mparam\u001b[0m\u001b[1;33m.\u001b[0m\u001b[0mkind\u001b[0m \u001b[1;33m==\u001b[0m \u001b[0mParameter\u001b[0m\u001b[1;33m.\u001b[0m\u001b[0mPOSITIONAL_OR_KEYWORD\u001b[0m\u001b[1;33m:\u001b[0m\u001b[1;33m\u001b[0m\u001b[1;33m\u001b[0m\u001b[0m\n\u001b[1;32m---> 63\u001b[1;33m                 \u001b[0mall_args\u001b[0m\u001b[1;33m.\u001b[0m\u001b[0mappend\u001b[0m\u001b[1;33m(\u001b[0m\u001b[0mname\u001b[0m\u001b[1;33m)\u001b[0m\u001b[1;33m\u001b[0m\u001b[1;33m\u001b[0m\u001b[0m\n\u001b[0m\u001b[0;32m     64\u001b[0m             \u001b[1;32melif\u001b[0m \u001b[0mparam\u001b[0m\u001b[1;33m.\u001b[0m\u001b[0mkind\u001b[0m \u001b[1;33m==\u001b[0m \u001b[0mParameter\u001b[0m\u001b[1;33m.\u001b[0m\u001b[0mKEYWORD_ONLY\u001b[0m\u001b[1;33m:\u001b[0m\u001b[1;33m\u001b[0m\u001b[1;33m\u001b[0m\u001b[0m\n\u001b[0;32m     65\u001b[0m                 \u001b[0mkwonly_args\u001b[0m\u001b[1;33m.\u001b[0m\u001b[0mappend\u001b[0m\u001b[1;33m(\u001b[0m\u001b[0mname\u001b[0m\u001b[1;33m)\u001b[0m\u001b[1;33m\u001b[0m\u001b[1;33m\u001b[0m\u001b[0m\n",
      "\u001b[1;32mC:\\ProgramData\\Anaconda3\\lib\\site-packages\\sklearn\\inspection\\_partial_dependence.py\u001b[0m in \u001b[0;36mpartial_dependence\u001b[1;34m(estimator, X, features, response_method, percentiles, grid_resolution, method, kind)\u001b[0m\n\u001b[0;32m    386\u001b[0m     \u001b[1;33m>>\u001b[0m\u001b[1;33m>\u001b[0m \u001b[0mX\u001b[0m \u001b[1;33m=\u001b[0m \u001b[1;33m[\u001b[0m\u001b[1;33m[\u001b[0m\u001b[1;36m0\u001b[0m\u001b[1;33m,\u001b[0m \u001b[1;36m0\u001b[0m\u001b[1;33m,\u001b[0m \u001b[1;36m2\u001b[0m\u001b[1;33m]\u001b[0m\u001b[1;33m,\u001b[0m \u001b[1;33m[\u001b[0m\u001b[1;36m1\u001b[0m\u001b[1;33m,\u001b[0m \u001b[1;36m0\u001b[0m\u001b[1;33m,\u001b[0m \u001b[1;36m0\u001b[0m\u001b[1;33m]\u001b[0m\u001b[1;33m]\u001b[0m\u001b[1;33m\u001b[0m\u001b[1;33m\u001b[0m\u001b[0m\n\u001b[0;32m    387\u001b[0m     \u001b[1;33m>>\u001b[0m\u001b[1;33m>\u001b[0m \u001b[0my\u001b[0m \u001b[1;33m=\u001b[0m \u001b[1;33m[\u001b[0m\u001b[1;36m0\u001b[0m\u001b[1;33m,\u001b[0m \u001b[1;36m1\u001b[0m\u001b[1;33m]\u001b[0m\u001b[1;33m\u001b[0m\u001b[1;33m\u001b[0m\u001b[0m\n\u001b[1;32m--> 388\u001b[1;33m     \u001b[1;33m>>\u001b[0m\u001b[1;33m>\u001b[0m \u001b[1;32mfrom\u001b[0m \u001b[0msklearn\u001b[0m\u001b[1;33m.\u001b[0m\u001b[0mensemble\u001b[0m \u001b[1;32mimport\u001b[0m \u001b[0mGradientBoostingClassifier\u001b[0m\u001b[1;33m\u001b[0m\u001b[1;33m\u001b[0m\u001b[0m\n\u001b[0m\u001b[0;32m    389\u001b[0m     \u001b[1;33m>>\u001b[0m\u001b[1;33m>\u001b[0m \u001b[0mgb\u001b[0m \u001b[1;33m=\u001b[0m \u001b[0mGradientBoostingClassifier\u001b[0m\u001b[1;33m(\u001b[0m\u001b[0mrandom_state\u001b[0m\u001b[1;33m=\u001b[0m\u001b[1;36m0\u001b[0m\u001b[1;33m)\u001b[0m\u001b[1;33m.\u001b[0m\u001b[0mfit\u001b[0m\u001b[1;33m(\u001b[0m\u001b[0mX\u001b[0m\u001b[1;33m,\u001b[0m \u001b[0my\u001b[0m\u001b[1;33m)\u001b[0m\u001b[1;33m\u001b[0m\u001b[1;33m\u001b[0m\u001b[0m\n\u001b[0;32m    390\u001b[0m     >>> partial_dependence(gb, features=[0], X=X, percentiles=(0, 1),\n",
      "\u001b[1;32mC:\\ProgramData\\Anaconda3\\lib\\site-packages\\sklearn\\utils\\validation.py\u001b[0m in \u001b[0;36minner_f\u001b[1;34m(*args, **kwargs)\u001b[0m\n\u001b[0;32m     61\u001b[0m         \u001b[1;32mfor\u001b[0m \u001b[0mname\u001b[0m\u001b[1;33m,\u001b[0m \u001b[0mparam\u001b[0m \u001b[1;32min\u001b[0m \u001b[0msig\u001b[0m\u001b[1;33m.\u001b[0m\u001b[0mparameters\u001b[0m\u001b[1;33m.\u001b[0m\u001b[0mitems\u001b[0m\u001b[1;33m(\u001b[0m\u001b[1;33m)\u001b[0m\u001b[1;33m:\u001b[0m\u001b[1;33m\u001b[0m\u001b[1;33m\u001b[0m\u001b[0m\n\u001b[0;32m     62\u001b[0m             \u001b[1;32mif\u001b[0m \u001b[0mparam\u001b[0m\u001b[1;33m.\u001b[0m\u001b[0mkind\u001b[0m \u001b[1;33m==\u001b[0m \u001b[0mParameter\u001b[0m\u001b[1;33m.\u001b[0m\u001b[0mPOSITIONAL_OR_KEYWORD\u001b[0m\u001b[1;33m:\u001b[0m\u001b[1;33m\u001b[0m\u001b[1;33m\u001b[0m\u001b[0m\n\u001b[1;32m---> 63\u001b[1;33m                 \u001b[0mall_args\u001b[0m\u001b[1;33m.\u001b[0m\u001b[0mappend\u001b[0m\u001b[1;33m(\u001b[0m\u001b[0mname\u001b[0m\u001b[1;33m)\u001b[0m\u001b[1;33m\u001b[0m\u001b[1;33m\u001b[0m\u001b[0m\n\u001b[0m\u001b[0;32m     64\u001b[0m             \u001b[1;32melif\u001b[0m \u001b[0mparam\u001b[0m\u001b[1;33m.\u001b[0m\u001b[0mkind\u001b[0m \u001b[1;33m==\u001b[0m \u001b[0mParameter\u001b[0m\u001b[1;33m.\u001b[0m\u001b[0mKEYWORD_ONLY\u001b[0m\u001b[1;33m:\u001b[0m\u001b[1;33m\u001b[0m\u001b[1;33m\u001b[0m\u001b[0m\n\u001b[0;32m     65\u001b[0m                 \u001b[0mkwonly_args\u001b[0m\u001b[1;33m.\u001b[0m\u001b[0mappend\u001b[0m\u001b[1;33m(\u001b[0m\u001b[0mname\u001b[0m\u001b[1;33m)\u001b[0m\u001b[1;33m\u001b[0m\u001b[1;33m\u001b[0m\u001b[0m\n",
      "\u001b[1;32mC:\\ProgramData\\Anaconda3\\lib\\site-packages\\sklearn\\utils\\validation.py\u001b[0m in \u001b[0;36mcheck_is_fitted\u001b[1;34m(estimator, attributes, msg, all_or_any)\u001b[0m\n\u001b[0;32m   1096\u001b[0m     \"\"\"\n\u001b[0;32m   1097\u001b[0m     \u001b[1;32mif\u001b[0m \u001b[0my\u001b[0m \u001b[1;32mis\u001b[0m \u001b[1;32mNone\u001b[0m\u001b[1;33m:\u001b[0m\u001b[1;33m\u001b[0m\u001b[1;33m\u001b[0m\u001b[0m\n\u001b[1;32m-> 1098\u001b[1;33m         \u001b[1;32mif\u001b[0m \u001b[0mestimator\u001b[0m \u001b[1;32mis\u001b[0m \u001b[1;32mNone\u001b[0m\u001b[1;33m:\u001b[0m\u001b[1;33m\u001b[0m\u001b[1;33m\u001b[0m\u001b[0m\n\u001b[0m\u001b[0;32m   1099\u001b[0m             \u001b[0mestimator_name\u001b[0m \u001b[1;33m=\u001b[0m \u001b[1;34m\"estimator\"\u001b[0m\u001b[1;33m\u001b[0m\u001b[1;33m\u001b[0m\u001b[0m\n\u001b[0;32m   1100\u001b[0m         \u001b[1;32melse\u001b[0m\u001b[1;33m:\u001b[0m\u001b[1;33m\u001b[0m\u001b[1;33m\u001b[0m\u001b[0m\n",
      "\u001b[1;31mNotFittedError\u001b[0m: This Pipeline instance is not fitted yet. Call 'fit' with appropriate arguments before using this estimator."
     ]
    }
   ],
   "source": [
    "accom_pdp = partial_dependence(\n",
    "    final_pipeline, data_holdout[predictors_tree], [\"n_accommodates\"], kind=\"average\"\n",
    ")\n",
    "\n",
    "accom_pdp = (\n",
    "    pd.DataFrame(accom_pdp[\"average\"], columns=accom_pdp[\"values\"][0].tolist())\n",
    "    .T.reset_index()\n",
    "    .rename({0: \"Predicted price\", \"index\": \"Accomodates (person)\"}, axis=1)\n",
    ")\n",
    "\n",
    "\n",
    "n_bootstrap = 50\n",
    "\n",
    "accomodates = accom_pdp[\"Accomodates (person)\"].tolist()\n",
    "expected_value_bootstrap_replications = []\n",
    "for _ in range(n_bootstrap):\n",
    "    X_boot, y_boot = resample(\n",
    "        data_holdout[predictors_tree], data_holdout[target_variable]\n",
    "    )\n",
    "\n",
    "    final_booted = final_pipeline.fit(X_boot, y_boot)\n",
    "\n",
    "    expected_value_bootstrap_replications.append(\n",
    "        partial_dependence(final_booted, X_boot, [\"n_accommodates\"], kind=\"average\")[\n",
    "            \"average\"\n",
    "        ][0]\n",
    "    )\n",
    "\n",
    "\n",
    "accom_pdp[\"prediction_se\"] = np.std(expected_value_bootstrap_replications, axis=0)[0]"
   ]
  },
  {
   "cell_type": "code",
   "execution_count": 352,
   "id": "f422b502",
   "metadata": {},
   "outputs": [
    {
     "ename": "NameError",
     "evalue": "name 'bathrooms' is not defined",
     "output_type": "error",
     "traceback": [
      "\u001b[1;31m---------------------------------------------------------------------------\u001b[0m",
      "\u001b[1;31mNameError\u001b[0m                                 Traceback (most recent call last)",
      "\u001b[1;32m~\\AppData\\Local\\Temp/ipykernel_23336/2364855068.py\u001b[0m in \u001b[0;36m<module>\u001b[1;34m\u001b[0m\n\u001b[0;32m      3\u001b[0m \u001b[1;33m\u001b[0m\u001b[0m\n\u001b[0;32m      4\u001b[0m \u001b[1;33m\u001b[0m\u001b[0m\n\u001b[1;32m----> 5\u001b[1;33m \u001b[0max1\u001b[0m\u001b[1;33m.\u001b[0m\u001b[0mplot\u001b[0m\u001b[1;33m(\u001b[0m\u001b[0mbathrooms\u001b[0m\u001b[1;33m,\u001b[0m \u001b[0mbath_pdp\u001b[0m\u001b[1;33m[\u001b[0m\u001b[1;34m\"Predicted price\"\u001b[0m\u001b[1;33m]\u001b[0m\u001b[1;33m,\u001b[0m \u001b[0mmarker\u001b[0m\u001b[1;33m=\u001b[0m\u001b[1;34m\"o\"\u001b[0m\u001b[1;33m)\u001b[0m\u001b[1;33m\u001b[0m\u001b[1;33m\u001b[0m\u001b[0m\n\u001b[0m\u001b[0;32m      6\u001b[0m ax1.fill_between(\n\u001b[0;32m      7\u001b[0m     \u001b[0mbathrooms\u001b[0m\u001b[1;33m,\u001b[0m\u001b[1;33m\u001b[0m\u001b[1;33m\u001b[0m\u001b[0m\n",
      "\u001b[1;31mNameError\u001b[0m: name 'bathrooms' is not defined"
     ]
    },
    {
     "data": {
      "image/png": "[encoded data removed]",
      "text/plain": [
       "<Figure size 864x360 with 2 Axes>"
      ]
     },
     "metadata": {
      "needs_background": "light"
     },
     "output_type": "display_data"
    }
   ],
   "source": [
    "fig, (ax1, ax2) = plt.subplots(1, 2,sharey=False,figsize=(12,5))\n",
    "fig.suptitle('Partial dependence plots – bootstrapped 95% confidence intervalls')\n",
    "\n",
    "\n",
    "ax1.plot(bathrooms, bath_pdp[\"Predicted price\"], marker=\"o\")\n",
    "ax1.fill_between(\n",
    "    bathrooms,\n",
    "    bath_pdp[\"Predicted price\"] - 1.96 * bath_pdp[\"prediction_se\"],\n",
    "    bath_pdp[\"Predicted price\"] + 1.96 * bath_pdp[\"prediction_se\"],\n",
    "    alpha=0.5,\n",
    "    label=\"Bootstrap 95%CI\",\n",
    ")\n",
    "ax1.set_xlabel(\"Bathrooms\")\n",
    "ax1.grid()\n",
    "ax1.set_yticks([i*10 for i in range(2,9)])\n",
    "ax1.set_xticks(bathrooms)\n",
    "\n",
    "\n",
    "ax2.plot(accomodates, accom_pdp[\"Predicted price\"], marker=\"o\")\n",
    "ax2.fill_between(\n",
    "    accomodates,\n",
    "    accom_pdp[\"Predicted price\"] - 1.96 * accom_pdp[\"prediction_se\"],\n",
    "    accom_pdp[\"Predicted price\"] + 1.96 * accom_pdp[\"prediction_se\"],\n",
    "    alpha=0.5,\n",
    "    label=\"Bootstrap 95%CI\",\n",
    ")\n",
    "ax2.set_ylabel(\"Predicted price (EUR)\")\n",
    "ax2.set_xlabel(\"Accomodates\")\n",
    "ax2.grid()\n",
    "ax2.set_xticks(accomodates)\n",
    "ax2.set_yticks([i*10 for i in range(2,9)])\n",
    "\n",
    "\n",
    "\n",
    "\n",
    "plt.savefig(\"../figures/PDP_plot.png\")\n",
    "plt.show()"
   ]
  },
  {
   "cell_type": "code",
   "execution_count": null,
   "id": "fcbcfb32",
   "metadata": {},
   "outputs": [],
   "source": []
  }
 ],
 "metadata": {
  "kernelspec": {
   "display_name": "Python 3 (ipykernel)",
   "language": "python",
   "name": "python3"
  },
  "language_info": {
   "codemirror_mode": {
    "name": "ipython",
    "version": 3
   },
   "file_extension": ".py",
   "mimetype": "text/x-python",
   "name": "python",
   "nbconvert_exporter": "python",
   "pygments_lexer": "ipython3",
   "version": "3.9.7"
  }
 },
 "nbformat": 4,
 "nbformat_minor": 5
}
