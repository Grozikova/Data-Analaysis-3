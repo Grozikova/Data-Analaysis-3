{
 "cells": [
  {
   "cell_type": "markdown",
   "id": "52ca0207",
   "metadata": {},
   "source": [
    "## Data Cleaning and Preparation"
   ]
  },
  {
   "cell_type": "code",
   "execution_count": 95,
   "id": "7a6ed5d7",
   "metadata": {},
   "outputs": [],
   "source": [
    "import os\n",
    "import pandas as pd\n",
    "import numpy as np\n",
    "import sys\n",
    "from plotnine import *\n",
    "import statsmodels.api as sm\n",
    "import statsmodels.formula.api as smf"
   ]
  },
  {
   "cell_type": "markdown",
   "id": "d9dcbf33",
   "metadata": {},
   "source": [
    "### Helper Functions (from the book)"
   ]
  },
  {
   "cell_type": "code",
   "execution_count": 96,
   "id": "7540b780",
   "metadata": {},
   "outputs": [],
   "source": [
    "# Define global vars\n",
    "####################################################\n",
    "color = [\"#3a5e8cFF\", \"#10a53dFF\", \"#541352FF\", \"#ffcf20FF\", \"#2f9aa0FF\"]\n",
    "\n",
    "\n",
    "####################################################\n",
    "# Define helper functions\n",
    "####################################################\n",
    "def seq(start, stop, by, round_n=3):\n",
    "    return [round(x, round_n) for x in list(np.arange(start, stop, by))]\n",
    "\n",
    "\n",
    "def skew(l, round_n=3):\n",
    "    return round((np.mean(l) - np.median(l)) / np.std(l), round_n)\n",
    "\n",
    "\n",
    "def lspline(series, knots):\n",
    "    def knot_ceil(vector, knot):\n",
    "        vector_copy = copy.deepcopy(vector)\n",
    "        vector_copy[vector_copy > knot] = knot\n",
    "        return vector_copy\n",
    "\n",
    "    if type(knots) != list:\n",
    "        knots = [knots]\n",
    "    design_matrix = None\n",
    "    vector = series.values\n",
    "\n",
    "    for i in range(len(knots)):\n",
    "        # print(i)\n",
    "        # print(vector)\n",
    "        if i == 0:\n",
    "            column = knot_ceil(vector, knots[i])\n",
    "        else:\n",
    "            column = knot_ceil(vector, knots[i] - knots[i - 1])\n",
    "        # print(column)\n",
    "        if i == 0:\n",
    "            design_matrix = column\n",
    "        else:\n",
    "            design_matrix = np.column_stack((design_matrix, column))\n",
    "        # print(design_matrix)\n",
    "        vector = vector - column\n",
    "    design_matrix = np.column_stack((design_matrix, vector))\n",
    "    # print(design_matrix)\n",
    "    return design_matrix\n",
    "\n",
    "def create_calibration_plot(\n",
    "    data,\n",
    "    file_name,\n",
    "    prob_var,\n",
    "    actual_var,\n",
    "    y_lab=\"Actual event probability\",\n",
    "    n_bins=10,\n",
    "    breaks=None,\n",
    "):\n",
    "    if breaks is None:\n",
    "        breaks = np.around(\n",
    "            np.linspace(0, (n_bins + 1) / 10, num=n_bins + 1, endpoint=False),\n",
    "            decimals=1,\n",
    "        ).tolist()\n",
    "\n",
    "    data[\"prob_bin\"] = pd.cut(data[prob_var], breaks, right=True, include_lowest=True)\n",
    "\n",
    "    binned_data = (\n",
    "        data.groupby(\"prob_bin\")\n",
    "        .agg(\n",
    "            mean_prob=(prob_var, \"mean\"),\n",
    "            mean_actual=(actual_var, \"mean\"),\n",
    "            n=(actual_var, \"size\"),\n",
    "        )\n",
    "        .reset_index()\n",
    "    )\n",
    "\n",
    "    plot = (\n",
    "        ggplot(binned_data, aes(\"mean_prob\", \"mean_actual\"))\n",
    "        + geom_line(color=color[0], size=1, show_legend=True)\n",
    "        + geom_point(\n",
    "            color=color[0],\n",
    "            size=1,\n",
    "            alpha=0.7,\n",
    "            show_legend=False,\n",
    "            na_rm=True,\n",
    "        )\n",
    "        + geom_segment(\n",
    "            x=min(breaks),\n",
    "            xend=max(breaks),\n",
    "            y=min(breaks),\n",
    "            yend=max(breaks),\n",
    "            color=color[1],\n",
    "            size=0.5,\n",
    "        )\n",
    "        + theme_bw()\n",
    "        + labs(x=\"Predicted event probability\", y=y_lab)\n",
    "        + coord_cartesian(xlim=(0, 1), ylim=(0, 1))\n",
    "        + expand_limits(x=0.01, y=0.01)\n",
    "        + scale_y_continuous(expand=(0.01, 0.01), breaks=(seq(0, 1.1, 0.1)))\n",
    "        + scale_x_continuous(expand=(0.01, 0.01), breaks=(seq(0, 1.1, 0.1)))\n",
    "    )\n",
    "\n",
    "    return plot\n",
    "\n",
    "\n",
    "def poly(x, degree=1):\n",
    "    \"\"\"\n",
    "    Fit Polynomial\n",
    "    These are non orthogonal factors, but it may not matter if\n",
    "    we only need this for predictions (without interpreting the\n",
    "    coefficients) or visualisation.\n",
    "    \"\"\"\n",
    "    d = {}\n",
    "    for i in range(degree+1):\n",
    "        if i == 1:\n",
    "            d['x'] = x\n",
    "        else:\n",
    "            d[f'x**{i}'] = np.power(x, i)\n",
    "    return pd.DataFrame(d)"
   ]
  },
  {
   "cell_type": "markdown",
   "id": "ae86c464",
   "metadata": {},
   "source": [
    "### Import and Clean Data"
   ]
  },
  {
   "cell_type": "code",
   "execution_count": 97,
   "id": "3172f018",
   "metadata": {},
   "outputs": [],
   "source": [
    "data = pd.read_csv(\"cs_bisnode_panel.csv\")\n",
    "data = data.query('year <=2015 & year >= 2012')\n",
    "data = data.drop(columns = ['COGS', 'finished_prod', 'net_dom_sales', 'net_exp_sales', 'wages'])"
   ]
  },
  {
   "cell_type": "code",
   "execution_count": 98,
   "id": "dbc55f6e",
   "metadata": {},
   "outputs": [],
   "source": [
    "# Add all missing year and comp_id combinations -\n",
    "# Originally missing combinations will have NAs in all other columns\n",
    "\n",
    "data = (\n",
    "    data.set_index([\"year\", \"comp_id\"])\n",
    "    .unstack(fill_value=\"toReplace\")\n",
    "    .stack()\n",
    "    .reset_index()\n",
    ")\n",
    "data = data.replace(\"toReplace\", np.nan)  # only way I could define it as NaN"
   ]
  },
  {
   "cell_type": "code",
   "execution_count": 99,
   "id": "b57e79e6",
   "metadata": {},
   "outputs": [],
   "source": [
    "data_raw = data.copy()"
   ]
  },
  {
   "cell_type": "markdown",
   "id": "8ed746dd",
   "metadata": {},
   "source": [
    "### Drop the firms that went bankrupt in 2012-2013"
   ]
  },
  {
   "cell_type": "code",
   "execution_count": 100,
   "id": "c50f2a0b",
   "metadata": {},
   "outputs": [],
   "source": [
    "data = data_raw.copy()"
   ]
  },
  {
   "cell_type": "code",
   "execution_count": 101,
   "id": "f9ff0dfb",
   "metadata": {},
   "outputs": [],
   "source": [
    "data = data.assign(\n",
    "    year=lambda x: x[\"year\"].astype(str),\n",
    "    lived_at_the_end_of_the_year=lambda x: x[\"year\"] + \"-12-31\",\n",
    ")"
   ]
  },
  {
   "cell_type": "code",
   "execution_count": 102,
   "id": "332492ed",
   "metadata": {},
   "outputs": [
    {
     "data": {
      "text/plain": [
       "34788"
      ]
     },
     "execution_count": 102,
     "metadata": {},
     "output_type": "execute_result"
    }
   ],
   "source": [
    "data.comp_id.nunique()"
   ]
  },
  {
   "cell_type": "code",
   "execution_count": 103,
   "id": "72e10c25",
   "metadata": {},
   "outputs": [],
   "source": [
    "has_no_begin_in_2012_to_2013 = (\n",
    "    data.loc[\n",
    "        lambda x: (x[\"year\"].isin([\"2012\",\"2013\"]) & x[\"begin\"].isnull()), \"comp_id\"\n",
    "    ]\n",
    "    .drop_duplicates()\n",
    "    .tolist()\n",
    ")"
   ]
  },
  {
   "cell_type": "code",
   "execution_count": 104,
   "id": "9025648a",
   "metadata": {},
   "outputs": [],
   "source": [
    "data = data.loc[lambda x: ~x[\"comp_id\"].isin(has_no_begin_in_2012_to_2013)]"
   ]
  },
  {
   "cell_type": "code",
   "execution_count": 105,
   "id": "edb9ebb8",
   "metadata": {},
   "outputs": [
    {
     "data": {
      "text/plain": [
       "25871"
      ]
     },
     "execution_count": 105,
     "metadata": {},
     "output_type": "execute_result"
    }
   ],
   "source": [
    "data.comp_id.nunique()"
   ]
  },
  {
   "cell_type": "code",
   "execution_count": 106,
   "id": "7f777bfe",
   "metadata": {},
   "outputs": [],
   "source": [
    "\n",
    "died_in_2012 = data.loc[\n",
    "    lambda x: ((x[\"year\"] == \"2012\") & (x[\"end\"] < x[\"lived_at_the_end_of_the_year\"])),\n",
    "    \"comp_id\",\n",
    "].tolist()\n",
    "\n",
    "died_in_2013 = data.loc[\n",
    "    lambda x: ((x[\"year\"] == \"2013\") & (x[\"end\"] < x[\"lived_at_the_end_of_the_year\"])),\n",
    "    \"comp_id\",\n",
    "].tolist()"
   ]
  },
  {
   "cell_type": "code",
   "execution_count": 107,
   "id": "1f36718d",
   "metadata": {},
   "outputs": [],
   "source": [
    "data = data.loc[lambda x: ~x[\"comp_id\"].isin(died_in_2013 + died_in_2012)]"
   ]
  },
  {
   "cell_type": "code",
   "execution_count": 108,
   "id": "4d12ea0b",
   "metadata": {},
   "outputs": [],
   "source": [
    "# Generate status_alive = if sales larger than zero and not-NA\n",
    "\n",
    "data[\"status_alive\"] = (data[\"sales\"] > 0 & (False == data[\"sales\"].isna())).astype(int)"
   ]
  },
  {
   "cell_type": "code",
   "execution_count": 109,
   "id": "fd0546ae",
   "metadata": {},
   "outputs": [
    {
     "data": {
      "text/plain": [
       "1    78623\n",
       "0    23301\n",
       "Name: status_alive, dtype: int64"
      ]
     },
     "execution_count": 109,
     "metadata": {},
     "output_type": "execute_result"
    }
   ],
   "source": [
    "data[\"status_alive\"].value_counts()"
   ]
  },
  {
   "cell_type": "code",
   "execution_count": 110,
   "id": "ebf739e7",
   "metadata": {},
   "outputs": [],
   "source": [
    "status_dead_2012 = data.loc[lambda x: (x[\"status_alive\"] == 0) & (x[\"year\"] == \"2012\"),\"comp_id\"].tolist()\n",
    "status_dead_2013 = data.loc[lambda x: (x[\"status_alive\"] == 0) & (x[\"year\"] == \"2013\"),\"comp_id\"].tolist()\n"
   ]
  },
  {
   "cell_type": "code",
   "execution_count": 111,
   "id": "b4ab2022",
   "metadata": {},
   "outputs": [],
   "source": [
    "data = data.loc[lambda x: ~x[\"comp_id\"].isin(status_dead_2013 + status_dead_2012)]"
   ]
  },
  {
   "cell_type": "code",
   "execution_count": 112,
   "id": "3b92ed9e",
   "metadata": {},
   "outputs": [
    {
     "data": {
      "text/plain": [
       "19738"
      ]
     },
     "execution_count": 112,
     "metadata": {},
     "output_type": "execute_result"
    }
   ],
   "source": [
    "data.comp_id.nunique()"
   ]
  },
  {
   "cell_type": "code",
   "execution_count": 113,
   "id": "74113e4e",
   "metadata": {},
   "outputs": [
    {
     "data": {
      "text/plain": [
       "count    7.577500e+04\n",
       "mean     6.403831e+05\n",
       "std      4.255746e+06\n",
       "min     -9.232593e+04\n",
       "25%      1.554444e+04\n",
       "50%      5.005185e+04\n",
       "75%      1.698963e+05\n",
       "max      1.099510e+08\n",
       "Name: sales, dtype: float64"
      ]
     },
     "execution_count": 113,
     "metadata": {},
     "output_type": "execute_result"
    }
   ],
   "source": [
    "data[\"sales\"].describe()"
   ]
  },
  {
   "cell_type": "code",
   "execution_count": 114,
   "id": "294f48f1",
   "metadata": {},
   "outputs": [
    {
     "name": "stderr",
     "output_type": "stream",
     "text": [
      "C:\\ProgramData\\Anaconda3\\lib\\site-packages\\pandas\\core\\arraylike.py:402: RuntimeWarning: divide by zero encountered in log\n"
     ]
    }
   ],
   "source": [
    "data[\"sales\"] = np.where(\n",
    "    data[\"sales\"] < 0, 1, data[\"sales\"]\n",
    ")                                                 # has to be outside of assin()\n",
    "data = data.assign(\n",
    "    ln_sales=np.where(\n",
    "        data[\"sales\"] > 0,\n",
    "        np.log(data[\"sales\"]),\n",
    "        (np.where(data[\"sales\"].isna(), np.nan, 0)),\n",
    "    ),                                           # NaN remain NaN\n",
    "    sales_mil=data[\"sales\"] / 1000000,\n",
    "    sales_mil_log=np.where(\n",
    "        data[\"sales\"] > 0,\n",
    "        np.log(data[\"sales\"] / 1000000),\n",
    "        (np.where(data[\"sales\"].isna(), np.nan, 0)),\n",
    "    ),\n",
    ")"
   ]
  },
  {
   "cell_type": "code",
   "execution_count": 115,
   "id": "ff05d865",
   "metadata": {},
   "outputs": [
    {
     "data": {
      "text/plain": [
       "<AxesSubplot: >"
      ]
     },
     "execution_count": 115,
     "metadata": {},
     "output_type": "execute_result"
    },
    {
     "data": {
      "image/png": "[encoded data removed]",
      "text/plain": [
       "<Figure size 432x288 with 1 Axes>"
      ]
     },
     "metadata": {
      "needs_background": "light"
     },
     "output_type": "display_data"
    }
   ],
   "source": [
    "data.ln_sales.hist()"
   ]
  },
  {
   "cell_type": "code",
   "execution_count": 116,
   "id": "1da3d22c",
   "metadata": {},
   "outputs": [],
   "source": [
    "data = data.sort_values(by=[\"comp_id\",\"year\"])"
   ]
  },
  {
   "cell_type": "code",
   "execution_count": 117,
   "id": "7f04fbb8",
   "metadata": {},
   "outputs": [],
   "source": [
    "data[\"sale_growth\"] = data[\"ln_sales\"] - data.groupby(\"comp_id\")[\"ln_sales\"].shift(1)"
   ]
  },
  {
   "cell_type": "code",
   "execution_count": 118,
   "id": "4c27081b",
   "metadata": {},
   "outputs": [],
   "source": [
    "vars = [\"comp_id\",\"year\",\"status_alive\",\"sales\",\"ln_sales\",\"sale_growth\"]"
   ]
  },
  {
   "cell_type": "code",
   "execution_count": 119,
   "id": "c50f50a4",
   "metadata": {},
   "outputs": [],
   "source": [
    "# Replace with 0 for new firms + add dummy to capture it\n",
    "\n",
    "data[\"age\"] = np.where(\n",
    "    data[\"year\"].astype(int) - data[\"founded_year\"] < 0, 0, data[\"year\"].astype(int) - data[\"founded_year\"]\n",
    ")\n",
    "data[\"new\"] = np.where(\n",
    "    ((data[\"age\"] <= 1) | (data[\"balsheet_notfullyear\"] == 1)),\n",
    "    1,\n",
    "    (np.where(data[\"age\"].isna(), np.nan, 0)),\n",
    ")\n",
    "data[\"sale_growth\"] = np.where(\n",
    "    data[\"new\"] == 1, 0, np.where(data[\"new\"].isna(), np.nan, data[\"sale_growth\"])\n",
    ")\n",
    "data[\"new\"] = np.where(data[\"sale_growth\"].isna(), 1, data[\"new\"])\n",
    "data[\"sale_growth\"] = np.where(data[\"sale_growth\"].isna(), 0, data[\"sale_growth\"])"
   ]
  },
  {
   "cell_type": "code",
   "execution_count": 120,
   "id": "858019cf",
   "metadata": {},
   "outputs": [
    {
     "data": {
      "text/plain": [
       "count    78952.000000\n",
       "mean        -0.139853\n",
       "std          1.370750\n",
       "min        -13.953993\n",
       "25%         -0.041475\n",
       "50%          0.000000\n",
       "75%          0.111136\n",
       "max         14.297026\n",
       "Name: sale_growth, dtype: float64"
      ]
     },
     "execution_count": 120,
     "metadata": {},
     "output_type": "execute_result"
    }
   ],
   "source": [
    "data['sale_growth'].describe()"
   ]
  },
  {
   "cell_type": "code",
   "execution_count": 121,
   "id": "370b530e",
   "metadata": {},
   "outputs": [
    {
     "data": {
      "text/plain": [
       "count    78952.000000\n",
       "mean         0.347528\n",
       "std          0.476188\n",
       "min          0.000000\n",
       "25%          0.000000\n",
       "50%          0.000000\n",
       "75%          1.000000\n",
       "max          1.000000\n",
       "Name: new, dtype: float64"
      ]
     },
     "execution_count": 121,
     "metadata": {},
     "output_type": "execute_result"
    }
   ],
   "source": [
    "data['new'].describe()"
   ]
  },
  {
   "cell_type": "code",
   "execution_count": 122,
   "id": "87e8bc86",
   "metadata": {},
   "outputs": [],
   "source": [
    "data.to_csv(\"fin-data_train_live_raw.csv\",index=False)"
   ]
  },
  {
   "cell_type": "markdown",
   "id": "065311d6",
   "metadata": {},
   "source": [
    "### Target variable"
   ]
  },
  {
   "cell_type": "code",
   "execution_count": 123,
   "id": "237be235",
   "metadata": {},
   "outputs": [],
   "source": [
    "data = pd.read_csv(\"fin-data_train_live_raw.csv\")"
   ]
  },
  {
   "cell_type": "code",
   "execution_count": 124,
   "id": "76e451f4",
   "metadata": {},
   "outputs": [
    {
     "data": {
      "text/plain": [
       "<AxesSubplot: >"
      ]
     },
     "execution_count": 124,
     "metadata": {},
     "output_type": "execute_result"
    },
    {
     "data": {
      "image/png": "[encoded data removed]",
      "text/plain": [
       "<Figure size 432x288 with 1 Axes>"
      ]
     },
     "metadata": {
      "needs_background": "light"
     },
     "output_type": "display_data"
    }
   ],
   "source": [
    "data.sale_growth.hist()"
   ]
  },
  {
   "cell_type": "code",
   "execution_count": 125,
   "id": "45e5505d",
   "metadata": {},
   "outputs": [
    {
     "data": {
      "text/plain": [
       "<AxesSubplot: >"
      ]
     },
     "execution_count": 125,
     "metadata": {},
     "output_type": "execute_result"
    },
    {
     "data": {
      "image/png": "[encoded data removed]",
      "text/plain": [
       "<Figure size 432x288 with 1 Axes>"
      ]
     },
     "metadata": {
      "needs_background": "light"
     },
     "output_type": "display_data"
    }
   ],
   "source": [
    "data.sale_growth.hist(bins=30)"
   ]
  },
  {
   "cell_type": "markdown",
   "id": "bf5f8461",
   "metadata": {},
   "source": [
    "Sale growth for the next year will be the target."
   ]
  },
  {
   "cell_type": "code",
   "execution_count": 126,
   "id": "da2ea416",
   "metadata": {},
   "outputs": [],
   "source": [
    "data[\"sale_growth_target\"] = data[\"sale_growth\"].shift(-1)"
   ]
  },
  {
   "cell_type": "code",
   "execution_count": 127,
   "id": "81b1d1da",
   "metadata": {},
   "outputs": [
    {
     "data": {
      "text/html": [
       "<div>\n",
       "<style scoped>\n",
       "    .dataframe tbody tr th:only-of-type {\n",
       "        vertical-align: middle;\n",
       "    }\n",
       "\n",
       "    .dataframe tbody tr th {\n",
       "        vertical-align: top;\n",
       "    }\n",
       "\n",
       "    .dataframe thead th {\n",
       "        text-align: right;\n",
       "    }\n",
       "</style>\n",
       "<table border=\"1\" class=\"dataframe\">\n",
       "  <thead>\n",
       "    <tr style=\"text-align: right;\">\n",
       "      <th></th>\n",
       "      <th>comp_id</th>\n",
       "      <th>year</th>\n",
       "      <th>status_alive</th>\n",
       "      <th>sales</th>\n",
       "      <th>ln_sales</th>\n",
       "      <th>sale_growth</th>\n",
       "      <th>sale_growth_target</th>\n",
       "    </tr>\n",
       "  </thead>\n",
       "  <tbody>\n",
       "    <tr>\n",
       "      <th>0</th>\n",
       "      <td>1.001541e+06</td>\n",
       "      <td>2012</td>\n",
       "      <td>1</td>\n",
       "      <td>1.203704e+03</td>\n",
       "      <td>7.093159</td>\n",
       "      <td>0.000000</td>\n",
       "      <td>1.529395</td>\n",
       "    </tr>\n",
       "    <tr>\n",
       "      <th>1</th>\n",
       "      <td>1.001541e+06</td>\n",
       "      <td>2013</td>\n",
       "      <td>1</td>\n",
       "      <td>5.555556e+03</td>\n",
       "      <td>8.622554</td>\n",
       "      <td>1.529395</td>\n",
       "      <td>-0.127833</td>\n",
       "    </tr>\n",
       "    <tr>\n",
       "      <th>2</th>\n",
       "      <td>1.001541e+06</td>\n",
       "      <td>2014</td>\n",
       "      <td>1</td>\n",
       "      <td>4.888889e+03</td>\n",
       "      <td>8.494720</td>\n",
       "      <td>-0.127833</td>\n",
       "      <td>0.000000</td>\n",
       "    </tr>\n",
       "    <tr>\n",
       "      <th>3</th>\n",
       "      <td>1.001541e+06</td>\n",
       "      <td>2015</td>\n",
       "      <td>1</td>\n",
       "      <td>4.888889e+03</td>\n",
       "      <td>8.494720</td>\n",
       "      <td>0.000000</td>\n",
       "      <td>0.000000</td>\n",
       "    </tr>\n",
       "    <tr>\n",
       "      <th>4</th>\n",
       "      <td>1.002029e+06</td>\n",
       "      <td>2012</td>\n",
       "      <td>1</td>\n",
       "      <td>1.136515e+06</td>\n",
       "      <td>13.943477</td>\n",
       "      <td>0.000000</td>\n",
       "      <td>-1.155013</td>\n",
       "    </tr>\n",
       "    <tr>\n",
       "      <th>...</th>\n",
       "      <td>...</td>\n",
       "      <td>...</td>\n",
       "      <td>...</td>\n",
       "      <td>...</td>\n",
       "      <td>...</td>\n",
       "      <td>...</td>\n",
       "      <td>...</td>\n",
       "    </tr>\n",
       "    <tr>\n",
       "      <th>78947</th>\n",
       "      <td>4.640446e+11</td>\n",
       "      <td>2015</td>\n",
       "      <td>1</td>\n",
       "      <td>1.051895e+07</td>\n",
       "      <td>16.168689</td>\n",
       "      <td>0.142168</td>\n",
       "      <td>0.000000</td>\n",
       "    </tr>\n",
       "    <tr>\n",
       "      <th>78948</th>\n",
       "      <td>4.641050e+11</td>\n",
       "      <td>2012</td>\n",
       "      <td>1</td>\n",
       "      <td>1.548778e+05</td>\n",
       "      <td>11.950392</td>\n",
       "      <td>0.000000</td>\n",
       "      <td>0.019419</td>\n",
       "    </tr>\n",
       "    <tr>\n",
       "      <th>78949</th>\n",
       "      <td>4.641050e+11</td>\n",
       "      <td>2013</td>\n",
       "      <td>1</td>\n",
       "      <td>1.579148e+05</td>\n",
       "      <td>11.969811</td>\n",
       "      <td>0.019419</td>\n",
       "      <td>0.079521</td>\n",
       "    </tr>\n",
       "    <tr>\n",
       "      <th>78950</th>\n",
       "      <td>4.641050e+11</td>\n",
       "      <td>2014</td>\n",
       "      <td>1</td>\n",
       "      <td>1.709852e+05</td>\n",
       "      <td>12.049332</td>\n",
       "      <td>0.079521</td>\n",
       "      <td>0.157481</td>\n",
       "    </tr>\n",
       "    <tr>\n",
       "      <th>78951</th>\n",
       "      <td>4.641050e+11</td>\n",
       "      <td>2015</td>\n",
       "      <td>1</td>\n",
       "      <td>2.001481e+05</td>\n",
       "      <td>12.206813</td>\n",
       "      <td>0.157481</td>\n",
       "      <td>NaN</td>\n",
       "    </tr>\n",
       "  </tbody>\n",
       "</table>\n",
       "<p>78952 rows × 7 columns</p>\n",
       "</div>"
      ],
      "text/plain": [
       "            comp_id  year  status_alive         sales   ln_sales  sale_growth  \\\n",
       "0      1.001541e+06  2012             1  1.203704e+03   7.093159     0.000000   \n",
       "1      1.001541e+06  2013             1  5.555556e+03   8.622554     1.529395   \n",
       "2      1.001541e+06  2014             1  4.888889e+03   8.494720    -0.127833   \n",
       "3      1.001541e+06  2015             1  4.888889e+03   8.494720     0.000000   \n",
       "4      1.002029e+06  2012             1  1.136515e+06  13.943477     0.000000   \n",
       "...             ...   ...           ...           ...        ...          ...   \n",
       "78947  4.640446e+11  2015             1  1.051895e+07  16.168689     0.142168   \n",
       "78948  4.641050e+11  2012             1  1.548778e+05  11.950392     0.000000   \n",
       "78949  4.641050e+11  2013             1  1.579148e+05  11.969811     0.019419   \n",
       "78950  4.641050e+11  2014             1  1.709852e+05  12.049332     0.079521   \n",
       "78951  4.641050e+11  2015             1  2.001481e+05  12.206813     0.157481   \n",
       "\n",
       "       sale_growth_target  \n",
       "0                1.529395  \n",
       "1               -0.127833  \n",
       "2                0.000000  \n",
       "3                0.000000  \n",
       "4               -1.155013  \n",
       "...                   ...  \n",
       "78947            0.000000  \n",
       "78948            0.019419  \n",
       "78949            0.079521  \n",
       "78950            0.157481  \n",
       "78951                 NaN  \n",
       "\n",
       "[78952 rows x 7 columns]"
      ]
     },
     "execution_count": 127,
     "metadata": {},
     "output_type": "execute_result"
    }
   ],
   "source": [
    "data[vars + [\"sale_growth_target\"]]"
   ]
  },
  {
   "cell_type": "markdown",
   "id": "7e5781e4",
   "metadata": {},
   "source": [
    "### Feature engineering"
   ]
  },
  {
   "cell_type": "code",
   "execution_count": 128,
   "id": "c6049ff9",
   "metadata": {},
   "outputs": [],
   "source": [
    "# Change some industry category codes\n",
    "\n",
    "data[\"ind2_cat\"] = data[\"ind2\"].copy()\n",
    "data[\"ind2_cat\"] = np.where(data[\"ind2\"] > 56, 60, data[\"ind2_cat\"])\n",
    "data[\"ind2_cat\"] = np.where(data[\"ind2\"] < 26, 20, data[\"ind2_cat\"])\n",
    "data[\"ind2_cat\"] = np.where(\n",
    "    (data[\"ind2\"] < 55) & (data[\"ind2\"] > 35), 40, data[\"ind2_cat\"]\n",
    ")\n",
    "data[\"ind2_cat\"] = np.where(data[\"ind2\"] == 31, 30, data[\"ind2_cat\"])\n",
    "data[\"ind2_cat\"] = np.where(data[\"ind2\"].isna(), 99, data[\"ind2_cat\"])"
   ]
  },
  {
   "cell_type": "code",
   "execution_count": 129,
   "id": "cccd5ce7",
   "metadata": {},
   "outputs": [],
   "source": [
    "# Firm characteristics\n",
    "data[\"age2\"] = data[\"age\"] ** 2\n",
    "data[\"foreign_management\"] = np.where(\n",
    "    data[\"foreign\"] >= 0.5, 1, np.where(data[\"foreign\"].isna(), np.nan, 0)\n",
    ")\n",
    "data[\"gender_m\"] = data[\"gender\"].astype(\"category\")\n",
    "data[\"m_region_loc\"] = data[\"region_m\"].astype(\"category\")"
   ]
  },
  {
   "cell_type": "markdown",
   "id": "9fcafd52",
   "metadata": {},
   "source": [
    "### Financial variables and ratios"
   ]
  },
  {
   "cell_type": "code",
   "execution_count": 130,
   "id": "641035f3",
   "metadata": {},
   "outputs": [
    {
     "data": {
      "text/plain": [
       "flag_asset_problem\n",
       "0.0    75743\n",
       "1.0       45\n",
       "Name: comp_id, dtype: int64"
      ]
     },
     "execution_count": 130,
     "metadata": {},
     "output_type": "execute_result"
    }
   ],
   "source": [
    "# Assets can't be negative. Change them to 0 and add a flag.\n",
    "\n",
    "data[\"flag_asset_problem\"] = np.where(\n",
    "    (\n",
    "        (data[\"intang_assets\"] < 0)\n",
    "        | (data[\"curr_assets\"] < 0)\n",
    "        | (data[\"fixed_assets\"] < 0)\n",
    "    ),\n",
    "    1,\n",
    "    0,\n",
    ")\n",
    "data[\"flag_asset_problem\"] = np.where(\n",
    "    (\n",
    "        (data[\"intang_assets\"].isna())\n",
    "        | (data[\"curr_assets\"].isna())\n",
    "        | (data[\"fixed_assets\"].isna())\n",
    "    ),\n",
    "    np.nan,\n",
    "    data[\"flag_asset_problem\"],\n",
    ")\n",
    "data.groupby(\"flag_asset_problem\").count()[\"comp_id\"]"
   ]
  },
  {
   "cell_type": "code",
   "execution_count": 131,
   "id": "cb6cf871",
   "metadata": {},
   "outputs": [],
   "source": [
    "data['intang_assets'] = np.where(data['intang_assets'] < 0, 0, data['intang_assets'])\n",
    "data['curr_assets'] = np.where(data['curr_assets'] < 0, 0, data['curr_assets'])\n",
    "data['fixed_assets'] = np.where(data['fixed_assets'] < 0, 0, data['fixed_assets'])"
   ]
  },
  {
   "cell_type": "code",
   "execution_count": 132,
   "id": "2e5aa57c",
   "metadata": {},
   "outputs": [
    {
     "data": {
      "text/plain": [
       "count    7.578800e+04\n",
       "mean     6.163027e+05\n",
       "std      1.070282e+07\n",
       "min      0.000000e+00\n",
       "25%      8.637037e+03\n",
       "50%      3.227778e+04\n",
       "75%      1.312028e+05\n",
       "max      2.706026e+09\n",
       "Name: total_assets_bs, dtype: float64"
      ]
     },
     "execution_count": 132,
     "metadata": {},
     "output_type": "execute_result"
    }
   ],
   "source": [
    "# generate total assets\n",
    "data['total_assets_bs'] = data['intang_assets'] + data['curr_assets'] + data['fixed_assets']\n",
    "data['total_assets_bs'].describe()"
   ]
  },
  {
   "cell_type": "code",
   "execution_count": 133,
   "id": "50cbe671",
   "metadata": {},
   "outputs": [],
   "source": [
    "pl_names = ['extra_exp','extra_inc',  'extra_profit_loss', 'inc_bef_tax' ,'inventories',\n",
    "              'material_exp', 'profit_loss_year', 'personnel_exp']\n",
    "bs_names = ['intang_assets', 'curr_liab', 'fixed_assets', 'liq_assets', 'curr_assets',\n",
    "              'share_eq', 'subscribed_cap', 'tang_assets' ]"
   ]
  },
  {
   "cell_type": "code",
   "execution_count": 134,
   "id": "2419e2eb",
   "metadata": {},
   "outputs": [],
   "source": [
    "# Divide all pl_names elements by sales and create new column for it\n",
    "data[[col +'_pl' for col in pl_names]] = data[pl_names].div(data['sales'], axis='index')"
   ]
  },
  {
   "cell_type": "code",
   "execution_count": 135,
   "id": "3dd65ee8",
   "metadata": {},
   "outputs": [],
   "source": [
    "# Divide all bs_names elements by total_assets_bs and create new column for it\n",
    "\n",
    "data[[col +'_bs' for col in bs_names]] =  data[bs_names].div(data['total_assets_bs'], axis='index').replace((np.inf, -np.inf, np.nan), (0, 0, 0))"
   ]
  },
  {
   "cell_type": "code",
   "execution_count": 136,
   "id": "302c9f55",
   "metadata": {},
   "outputs": [],
   "source": [
    "# Get Nan values where total_assets_bs is NaN\n",
    "\n",
    "for col in bs_names:\n",
    "    data[col + '_bs'] = np.where(\n",
    "        data['total_assets_bs'].isna(),\n",
    "        np.full(len(data), np.nan),\n",
    "        data[col + '_bs']\n",
    "    )"
   ]
  },
  {
   "cell_type": "markdown",
   "id": "5b332a25",
   "metadata": {},
   "source": [
    "### Create flags and winsorize tails"
   ]
  },
  {
   "cell_type": "code",
   "execution_count": 137,
   "id": "1032220c",
   "metadata": {},
   "outputs": [],
   "source": [
    "# Variables that represent accounting items that cannot be negative (e.g. materials)\n",
    "\n",
    "zero = ['extra_exp_pl', 'extra_inc_pl', 'inventories_pl', 'material_exp_pl', 'personnel_exp_pl',\n",
    "           'curr_liab_bs', 'fixed_assets_bs', 'liq_assets_bs', 'curr_assets_bs', 'subscribed_cap_bs',\n",
    "           'intang_assets_bs']\n",
    "\n",
    "data[[col +'_flag_high' for col in zero]] = np.where(data[zero].isna(), np.nan, (data[zero] > 1).astype(int))\n",
    "data[[col for col in zero]] = np.where(data[zero].isna(), np.nan, np.where(data[zero] > 1, 1, data[zero]))\n",
    "data[[col +'_flag_error' for col in zero]] = np.where(data[zero].isna(), np.nan, (data[zero] < 0).astype(int))\n",
    "data[[col for col in zero]] = np.where(data[zero].isna(), np.nan, np.where(data[zero] < 0, 0, data[zero]))"
   ]
  },
  {
   "cell_type": "code",
   "execution_count": 138,
   "id": "0cd2e430",
   "metadata": {},
   "outputs": [],
   "source": [
    "# For vars that could be any, but are mostly between -1 and 1\n",
    "\n",
    "anyof = ['extra_profit_loss_pl', 'inc_bef_tax_pl', 'profit_loss_year_pl', 'share_eq_bs']\n",
    "\n",
    "data[[col +'_flag_low' for col in anyof]] = np.where(data[anyof].isna(), np.nan, (data[anyof] < -1).astype(int))\n",
    "data[[col for col in anyof]] = np.where(data[anyof].isna(), np.nan, np.where((data[anyof] < -1), -1, data[anyof]))\n",
    "data[[col +'_flag_high' for col in anyof]] = np.where(data[anyof].isna(), np.nan, (data[anyof] > 1).astype(int))\n",
    "data[[col for col in anyof]] = np.where(data[anyof].isna(), np.nan, np.where((data[anyof] > 1), 1, data[anyof]))\n",
    "data[[col +'_flag_zero' for col in anyof]] = np.where(data[anyof].isna(), np.nan, (data[anyof] == 0).astype(int))\n",
    "data[[col +'_quad' for col in anyof]] = np.where(data[anyof].isna(), np.nan, data[anyof]**2)"
   ]
  },
  {
   "cell_type": "code",
   "execution_count": 139,
   "id": "6b340366",
   "metadata": {},
   "outputs": [],
   "source": [
    "# Dropping flags with no variation\n",
    "flag_columns = [col for col in data.columns if 'flag' in col]\n",
    "data = data.drop(data[flag_columns].std()[(data[flag_columns].std() == 0)].index, axis=1)"
   ]
  },
  {
   "cell_type": "markdown",
   "id": "0f7acccc",
   "metadata": {},
   "source": [
    "### Imputation and creation of additional firm characteristics"
   ]
  },
  {
   "cell_type": "code",
   "execution_count": 140,
   "id": "a27e2317",
   "metadata": {},
   "outputs": [],
   "source": [
    "# CEO age\n",
    "data['ceo_age'] = data['year'].astype(int) - data['birth_year']\n",
    "data = data.assign(\n",
    "    flag_low_ceo_age = (data['ceo_age'] < 25).astype(int),\n",
    "    flag_high_ceo_age = (data['ceo_age'] > 75).astype(int),\n",
    "    flag_miss_ceo_age = (data['ceo_age'].isna()).astype(int))\n",
    "\n",
    "\n",
    "data['ceo_age'] = np.where(data['ceo_age'] < 25, 25, data['ceo_age'])\n",
    "data['ceo_age'] = np.where(data['ceo_age'] > 75, 75, data['ceo_age'])\n",
    "data['ceo_age'] = np.where(data['ceo_age'].isna(), data['ceo_age'].mean(), data['ceo_age'])\n",
    "data['ceo_young'] = (data['ceo_age'] < 40).astype(int)"
   ]
  },
  {
   "cell_type": "code",
   "execution_count": 141,
   "id": "1a744148",
   "metadata": {},
   "outputs": [],
   "source": [
    "# Number of employees, very noisy measure\n",
    "data['labor_avg_mod'] = np.where(data['labor_avg'].isna(), data['labor_avg'].mean(), data['labor_avg'])\n",
    "data['flag_miss_labor_avg'] = (data['labor_avg'].isna()).astype(int)"
   ]
  },
  {
   "cell_type": "code",
   "execution_count": 142,
   "id": "68a60832",
   "metadata": {},
   "outputs": [
    {
     "data": {
      "text/plain": [
       "count    59746.000000\n",
       "mean         1.097478\n",
       "std          4.801314\n",
       "min          0.000000\n",
       "25%          0.118056\n",
       "50%          0.250000\n",
       "75%          0.631944\n",
       "max        190.930557\n",
       "Name: labor_avg, dtype: float64"
      ]
     },
     "execution_count": 142,
     "metadata": {},
     "output_type": "execute_result"
    }
   ],
   "source": [
    "data['labor_avg'].describe()"
   ]
  },
  {
   "cell_type": "code",
   "execution_count": 143,
   "id": "ce4ffdd2",
   "metadata": {},
   "outputs": [
    {
     "data": {
      "text/plain": [
       "count    78952.000000\n",
       "mean         1.097478\n",
       "std          4.176689\n",
       "min          0.000000\n",
       "25%          0.166667\n",
       "50%          0.439394\n",
       "75%          1.097478\n",
       "max        190.930557\n",
       "Name: labor_avg_mod, dtype: float64"
      ]
     },
     "execution_count": 143,
     "metadata": {},
     "output_type": "execute_result"
    }
   ],
   "source": [
    "data['labor_avg_mod'].describe()"
   ]
  },
  {
   "cell_type": "code",
   "execution_count": 144,
   "id": "047f47b5",
   "metadata": {},
   "outputs": [],
   "source": [
    "data = data.drop(['labor_avg'], axis=1)"
   ]
  },
  {
   "cell_type": "code",
   "execution_count": 145,
   "id": "17cc0a2d",
   "metadata": {},
   "outputs": [],
   "source": [
    "# Create category type variables\n",
    "data['urban_m'] = data['urban_m'].astype(\"category\")\n",
    "data['ind2_cat'] = data['ind2_cat'].astype(\"category\")"
   ]
  },
  {
   "cell_type": "code",
   "execution_count": 146,
   "id": "06251af8",
   "metadata": {},
   "outputs": [],
   "source": [
    "# Create sales squared (sales in 2012 is a feature)\n",
    "\n",
    "data['sales_mil_log_sq'] = data['sales_mil_log']**2"
   ]
  },
  {
   "cell_type": "code",
   "execution_count": 147,
   "id": "6ababc33",
   "metadata": {},
   "outputs": [
    {
     "data": {
      "text/plain": [
       "<AxesSubplot: >"
      ]
     },
     "execution_count": 147,
     "metadata": {},
     "output_type": "execute_result"
    },
    {
     "data": {
      "image/png": "[encoded data removed]",
      "text/plain": [
       "<Figure size 432x288 with 1 Axes>"
      ]
     },
     "metadata": {
      "needs_background": "light"
     },
     "output_type": "display_data"
    }
   ],
   "source": [
    "data.sale_growth_target.hist()"
   ]
  },
  {
   "cell_type": "code",
   "execution_count": 148,
   "id": "92125999",
   "metadata": {},
   "outputs": [],
   "source": [
    "# No more imputation, drop obs if key vars missing\n",
    "data = data.dropna(subset = ['liq_assets_bs', 'foreign', 'ind'])"
   ]
  },
  {
   "cell_type": "code",
   "execution_count": 149,
   "id": "330d8f46",
   "metadata": {},
   "outputs": [
    {
     "data": {
      "text/plain": [
       "count    68289.000000\n",
       "mean        10.583520\n",
       "std          7.128437\n",
       "min          0.000000\n",
       "25%          4.000000\n",
       "50%         10.000000\n",
       "75%         17.000000\n",
       "max         63.000000\n",
       "Name: age, dtype: float64"
      ]
     },
     "execution_count": 149,
     "metadata": {},
     "output_type": "execute_result"
    }
   ],
   "source": [
    "# Drop missing\n",
    "data = data.dropna(subset = ['age', 'foreign', 'material_exp_pl', 'm_region_loc'])\n",
    "data['age'].describe()"
   ]
  },
  {
   "cell_type": "code",
   "execution_count": 150,
   "id": "a3d9345d",
   "metadata": {},
   "outputs": [],
   "source": [
    "# Drop unused factor levels\n",
    "for col in data.select_dtypes(include=['category']).columns:\n",
    "    data[col] = data[col].cat.remove_unused_categories()"
   ]
  },
  {
   "cell_type": "markdown",
   "id": "d29cb605",
   "metadata": {},
   "source": [
    "### Create additional financial variables"
   ]
  },
  {
   "cell_type": "code",
   "execution_count": 151,
   "id": "7328121e",
   "metadata": {},
   "outputs": [
    {
     "data": {
      "text/plain": [
       "18794"
      ]
     },
     "execution_count": 151,
     "metadata": {},
     "output_type": "execute_result"
    }
   ],
   "source": [
    "data.comp_id.nunique()"
   ]
  },
  {
   "cell_type": "markdown",
   "id": "7668d03e",
   "metadata": {},
   "source": [
    "Return on Equity (ROE) = income before tax/shareholder equity"
   ]
  },
  {
   "cell_type": "code",
   "execution_count": 152,
   "id": "31462037",
   "metadata": {},
   "outputs": [],
   "source": [
    "minimum_roe = data.loc[\n",
    "    lambda x: (x[\"inc_bef_tax\"] > 0) & (x[\"share_eq\"] > 0) | (x[\"share_eq\"] != 0)\n",
    "].assign(ROE=lambda x: x[\"inc_bef_tax\"] / x[\"share_eq\"])[\"ROE\"].min()"
   ]
  },
  {
   "cell_type": "code",
   "execution_count": 153,
   "id": "a04dcd06",
   "metadata": {},
   "outputs": [
    {
     "data": {
      "text/plain": [
       "-944.39999188385"
      ]
     },
     "execution_count": 153,
     "metadata": {},
     "output_type": "execute_result"
    }
   ],
   "source": [
    "minimum_roe"
   ]
  },
  {
   "cell_type": "markdown",
   "id": "1844ce37",
   "metadata": {},
   "source": [
    "Imputation rule:\n",
    "\n",
    "- nom < 0 & denom < 0 --> minimum\n",
    "- denom == 0 --> minimum"
   ]
  },
  {
   "cell_type": "code",
   "execution_count": 154,
   "id": "139bd735",
   "metadata": {},
   "outputs": [],
   "source": [
    "data = data.assign(ROE=lambda x: x[\"inc_bef_tax\"] / x[\"share_eq\"])\n",
    "\n",
    "data[\"ROE\"] = np.where((data[\"inc_bef_tax\"] < 0) & (data[\"share_eq\"] < 0), minimum_roe, data[\"ROE\"])\n",
    "data[\"ROE\"] = np.where(data[\"share_eq\"] == 0, minimum_roe, data[\"ROE\"])"
   ]
  },
  {
   "cell_type": "code",
   "execution_count": 155,
   "id": "4423b28f",
   "metadata": {},
   "outputs": [
    {
     "data": {
      "text/plain": [
       "<AxesSubplot: >"
      ]
     },
     "execution_count": 155,
     "metadata": {},
     "output_type": "execute_result"
    },
    {
     "data": {
      "image/png": "[encoded data removed]",
      "text/plain": [
       "<Figure size 432x288 with 1 Axes>"
      ]
     },
     "metadata": {
      "needs_background": "light"
     },
     "output_type": "display_data"
    }
   ],
   "source": [
    "data[\"ROE\"].hist()"
   ]
  },
  {
   "cell_type": "code",
   "execution_count": 156,
   "id": "f71d4874",
   "metadata": {},
   "outputs": [],
   "source": [
    "data[\"ROE_target\"] = data[\"ROE\"].shift(-1)"
   ]
  },
  {
   "cell_type": "markdown",
   "id": "4d792f3a",
   "metadata": {},
   "source": [
    "EBITDA = (income before tax + amortization)/total assets"
   ]
  },
  {
   "cell_type": "code",
   "execution_count": 157,
   "id": "58fec328",
   "metadata": {},
   "outputs": [
    {
     "data": {
      "text/plain": [
       "0"
      ]
     },
     "execution_count": 157,
     "metadata": {},
     "output_type": "execute_result"
    }
   ],
   "source": [
    "data.total_assets_bs.isnull().sum()"
   ]
  },
  {
   "cell_type": "code",
   "execution_count": 158,
   "id": "d1a2ce97",
   "metadata": {},
   "outputs": [
    {
     "data": {
      "text/plain": [
       "150"
      ]
     },
     "execution_count": 158,
     "metadata": {},
     "output_type": "execute_result"
    }
   ],
   "source": [
    "(data.total_assets_bs == 0).sum()"
   ]
  },
  {
   "cell_type": "code",
   "execution_count": 159,
   "id": "d64793c7",
   "metadata": {},
   "outputs": [],
   "source": [
    "data[\"EBITDA\"] = (data[\"inc_bef_tax\"] + data[\"amort\"]) / data[\"total_assets_bs\"]"
   ]
  },
  {
   "cell_type": "markdown",
   "id": "25965c32",
   "metadata": {},
   "source": [
    "Imputation rule:\n",
    "\n",
    "- denom == 0 & nom > 0 --> max\n",
    "- denom == 0 & nom == 0 --> median\n",
    "- denom == 0 & nom < 0 --> min"
   ]
  },
  {
   "cell_type": "code",
   "execution_count": 160,
   "id": "66ca1986",
   "metadata": {},
   "outputs": [],
   "source": [
    "data[\"EBITDA\"] = np.where(\n",
    "    (data[\"total_assets_bs\"] == 0) & ((data[\"inc_bef_tax\"] + data[\"amort\"]) > 0),\n",
    "    data.loc[lambda x: x[\"EBITDA\"] != np.inf, \"EBITDA\"].max(),\n",
    "    data[\"EBITDA\"],\n",
    ")\n",
    "\n",
    "data[\"EBITDA\"] = np.where(\n",
    "    (data[\"total_assets_bs\"] == 0) & ((data[\"inc_bef_tax\"] + data[\"amort\"]) == 0),\n",
    "    data.loc[lambda x: x[\"EBITDA\"] != np.inf, \"EBITDA\"].median(),\n",
    "    data[\"EBITDA\"],\n",
    ")\n",
    "\n",
    "data[\"EBITDA\"] = np.where(\n",
    "    (data[\"total_assets_bs\"] == 0) & ((data[\"inc_bef_tax\"] + data[\"amort\"]) < 0),\n",
    "    data.loc[lambda x: x[\"EBITDA\"] != -np.inf, \"EBITDA\"].min(),\n",
    "    data[\"EBITDA\"],\n",
    ")"
   ]
  },
  {
   "cell_type": "markdown",
   "id": "d9e17f08",
   "metadata": {},
   "source": [
    "Return on Assets (ROA) = income before tax/total assets"
   ]
  },
  {
   "cell_type": "code",
   "execution_count": 161,
   "id": "17080ad4",
   "metadata": {},
   "outputs": [],
   "source": [
    "data[\"ROA\"] = (data[\"inc_bef_tax\"]) / data[\"total_assets_bs\"]"
   ]
  },
  {
   "cell_type": "code",
   "execution_count": 162,
   "id": "14bc75fa",
   "metadata": {},
   "outputs": [],
   "source": [
    "data[\"ROA\"] = np.where(\n",
    "    (data[\"total_assets_bs\"] == 0) & ((data[\"inc_bef_tax\"] + data[\"amort\"]) > 0),\n",
    "    data.loc[lambda x: x[\"ROA\"] != np.inf, \"ROA\"].max(),\n",
    "    data[\"ROA\"],\n",
    ")\n",
    "\n",
    "data[\"ROA\"] = np.where(\n",
    "    (data[\"total_assets_bs\"] == 0) & ((data[\"inc_bef_tax\"] + data[\"amort\"]) == 0),\n",
    "    data.loc[lambda x: x[\"ROA\"] != np.inf, \"ROA\"].median(),\n",
    "    data[\"ROA\"],\n",
    ")\n",
    "\n",
    "data[\"ROA\"] = np.where(\n",
    "    (data[\"total_assets_bs\"] == 0) & ((data[\"inc_bef_tax\"] + data[\"amort\"]) < 0),\n",
    "    data.loc[lambda x: x[\"ROA\"] != -np.inf, \"ROA\"].min(),\n",
    "    data[\"ROA\"],\n",
    ")"
   ]
  },
  {
   "cell_type": "markdown",
   "id": "622945fc",
   "metadata": {},
   "source": [
    "Sales over total assets = sales/total assets"
   ]
  },
  {
   "cell_type": "code",
   "execution_count": 163,
   "id": "ffad869a",
   "metadata": {},
   "outputs": [],
   "source": [
    "data[\"sales_per_tot_assets\"] = data[\"sales\"] /data[\"total_assets_bs\"]"
   ]
  },
  {
   "cell_type": "markdown",
   "id": "d9af4961",
   "metadata": {},
   "source": [
    "Imputation rule:\n",
    "\n",
    "- denom == 0 & nom > 0 --> max\n",
    "- denom == 0 & nom == 0 --> median"
   ]
  },
  {
   "cell_type": "code",
   "execution_count": 164,
   "id": "1614bfcf",
   "metadata": {},
   "outputs": [],
   "source": [
    "data[\"sales_per_tot_assets\"] = np.where(\n",
    "    (data[\"total_assets_bs\"] == 0) & (data[\"sales\"] == 0),\n",
    "    data.loc[lambda x: x[\"sales_per_tot_assets\"] != np.inf, \"sales_per_tot_assets\"].median(),\n",
    "    data[\"sales_per_tot_assets\"],\n",
    ")\n",
    "\n",
    "data[\"sales_per_tot_assets\"] = np.where(\n",
    "    (data[\"total_assets_bs\"] == 0) &  (data[\"sales\"] > 0),\n",
    "    data.loc[lambda x: x[\"sales_per_tot_assets\"] != np.inf, \"sales_per_tot_assets\"].max(),\n",
    "    data[\"sales_per_tot_assets\"],\n",
    ")"
   ]
  },
  {
   "cell_type": "markdown",
   "id": "8b7068f6",
   "metadata": {},
   "source": [
    "Liquidity rate = current assets/current liabilities"
   ]
  },
  {
   "cell_type": "code",
   "execution_count": 165,
   "id": "2a953106",
   "metadata": {},
   "outputs": [],
   "source": [
    "data[\"liquidity_rate\"] = data[\"curr_assets\"] / data[\"curr_liab\"]"
   ]
  },
  {
   "cell_type": "code",
   "execution_count": 166,
   "id": "a90f8f2c",
   "metadata": {},
   "outputs": [],
   "source": [
    "#Impute max if the denominator == 0 \n",
    "\n",
    "data[\"liquidity_rate\"] = np.where(\n",
    "    data[\"curr_liab\"] == 0,\n",
    "    data[\"liquidity_rate\"].loc[lambda x: x != np.inf].max(),\n",
    "    data[\"liquidity_rate\"],\n",
    ")"
   ]
  },
  {
   "cell_type": "markdown",
   "id": "bc9034f6",
   "metadata": {},
   "source": [
    "Own equity rate = shareholder equity/total assets"
   ]
  },
  {
   "cell_type": "code",
   "execution_count": 167,
   "id": "a33225e2",
   "metadata": {},
   "outputs": [],
   "source": [
    "data[\"own_equity_rate\"] = data[\"share_eq\"] / data[\"total_assets_bs\"]"
   ]
  },
  {
   "cell_type": "code",
   "execution_count": 168,
   "id": "73985ba0",
   "metadata": {},
   "outputs": [],
   "source": [
    "#Impute min if the denominator == 0 \n",
    "\n",
    "data[\"own_equity_rate\"] = np.where(\n",
    "    data[\"total_assets_bs\"] == 0,\n",
    "    data[\"own_equity_rate\"].loc[lambda x: x != -np.inf].min(),\n",
    "    data[\"own_equity_rate\"],\n",
    ")"
   ]
  },
  {
   "cell_type": "markdown",
   "id": "77c29bf4",
   "metadata": {},
   "source": [
    "Now we can create the list of additional financial variables"
   ]
  },
  {
   "cell_type": "code",
   "execution_count": 169,
   "id": "5f626048",
   "metadata": {},
   "outputs": [],
   "source": [
    "financial_extras = [\n",
    "    \"ROE\",\n",
    "    \"ROA\",\n",
    "    \"sales_per_tot_assets\",\n",
    "    \"liquidity_rate\",\n",
    "    \"own_equity_rate\",\n",
    "]"
   ]
  },
  {
   "cell_type": "code",
   "execution_count": 170,
   "id": "9efb8e22",
   "metadata": {},
   "outputs": [
    {
     "data": {
      "text/plain": [
       "ROE                     0\n",
       "ROA                     0\n",
       "sales_per_tot_assets    0\n",
       "liquidity_rate          0\n",
       "own_equity_rate         0\n",
       "dtype: int64"
      ]
     },
     "execution_count": 170,
     "metadata": {},
     "output_type": "execute_result"
    }
   ],
   "source": [
    "data[financial_extras].isnull().sum()"
   ]
  },
  {
   "cell_type": "code",
   "execution_count": 171,
   "id": "f64763cd",
   "metadata": {},
   "outputs": [
    {
     "data": {
      "text/plain": [
       "ROE                     0\n",
       "ROA                     0\n",
       "sales_per_tot_assets    0\n",
       "liquidity_rate          0\n",
       "own_equity_rate         0\n",
       "dtype: int64"
      ]
     },
     "execution_count": 171,
     "metadata": {},
     "output_type": "execute_result"
    }
   ],
   "source": [
    "(data[financial_extras]== np.inf).sum()"
   ]
  },
  {
   "cell_type": "code",
   "execution_count": 172,
   "id": "c02bcb75",
   "metadata": {},
   "outputs": [
    {
     "data": {
      "text/plain": [
       "ROE                     0\n",
       "ROA                     0\n",
       "sales_per_tot_assets    0\n",
       "liquidity_rate          0\n",
       "own_equity_rate         0\n",
       "dtype: int64"
      ]
     },
     "execution_count": 172,
     "metadata": {},
     "output_type": "execute_result"
    }
   ],
   "source": [
    "(data[financial_extras]== -np.inf).sum()"
   ]
  },
  {
   "cell_type": "markdown",
   "id": "a1c47a0e",
   "metadata": {},
   "source": [
    "### Determine the sample"
   ]
  },
  {
   "cell_type": "markdown",
   "id": "ad29b846",
   "metadata": {},
   "source": [
    "We will take 2013 as a base year and predict the growth over the next 1 year. It will be 2013 vs 2014. <br>\n",
    "Also, we will focus on the forms whose revenue is in the range of 1000-10 000 000 EUR."
   ]
  },
  {
   "cell_type": "code",
   "execution_count": 173,
   "id": "2dadb777",
   "metadata": {},
   "outputs": [],
   "source": [
    "data = data.loc[lambda x: x[\"year\"] == 2013]\n",
    "\n",
    "# Sort out the firms with revenue in range 1000 - 10 million euros\n",
    "\n",
    "data = data.query(\"sales_mil<=10 & sales_mil>=0.001\")"
   ]
  },
  {
   "cell_type": "markdown",
   "id": "03121718",
   "metadata": {},
   "source": [
    "### Create target categories"
   ]
  },
  {
   "cell_type": "markdown",
   "id": "d1444727",
   "metadata": {},
   "source": [
    "1. Sales growth in 2014"
   ]
  },
  {
   "cell_type": "code",
   "execution_count": 174,
   "id": "2a18ca03",
   "metadata": {},
   "outputs": [],
   "source": [
    "data[\"high_growth_firm\"] = np.where(data[\"sale_growth_target\"]>0.3,1,0)"
   ]
  },
  {
   "cell_type": "code",
   "execution_count": 175,
   "id": "31004219",
   "metadata": {},
   "outputs": [
    {
     "data": {
      "text/plain": [
       "0    13647\n",
       "1     3327\n",
       "Name: high_growth_firm, dtype: int64"
      ]
     },
     "execution_count": 175,
     "metadata": {},
     "output_type": "execute_result"
    }
   ],
   "source": [
    "data[\"high_growth_firm\"].value_counts()"
   ]
  },
  {
   "cell_type": "code",
   "execution_count": 176,
   "id": "4e80db06",
   "metadata": {},
   "outputs": [
    {
     "data": {
      "text/plain": [
       "0    0.803994\n",
       "1    0.196006\n",
       "Name: high_growth_firm, dtype: float64"
      ]
     },
     "execution_count": 176,
     "metadata": {},
     "output_type": "execute_result"
    }
   ],
   "source": [
    "#Make it in percentage to get better sense of what share of the firms is composed of high growth firms\n",
    "\n",
    "data[\"high_growth_firm\"].value_counts(normalize=True)"
   ]
  },
  {
   "cell_type": "markdown",
   "id": "92874153",
   "metadata": {},
   "source": [
    "2. ROE in 2014"
   ]
  },
  {
   "cell_type": "code",
   "execution_count": 177,
   "id": "c91d2654",
   "metadata": {},
   "outputs": [],
   "source": [
    "data[\"high_roe_firm\"] = np.where(data[\"ROE_target\"]>0.3,1,0)"
   ]
  },
  {
   "cell_type": "code",
   "execution_count": 178,
   "id": "59a5eed5",
   "metadata": {},
   "outputs": [
    {
     "data": {
      "text/plain": [
       "0    0.79121\n",
       "1    0.20879\n",
       "Name: high_roe_firm, dtype: float64"
      ]
     },
     "execution_count": 178,
     "metadata": {},
     "output_type": "execute_result"
    }
   ],
   "source": [
    "data[\"high_roe_firm\"].value_counts(normalize=True)"
   ]
  },
  {
   "cell_type": "code",
   "execution_count": 179,
   "id": "d7e0355a",
   "metadata": {},
   "outputs": [
    {
     "data": {
      "text/plain": [
       "D             16974\n",
       "exit_year     16051\n",
       "birth_year     1508\n",
       "exit_date     16051\n",
       "dtype: int64"
      ]
     },
     "execution_count": 179,
     "metadata": {},
     "output_type": "execute_result"
    }
   ],
   "source": [
    "data.isnull().sum().loc[lambda x: x>0]"
   ]
  },
  {
   "cell_type": "code",
   "execution_count": 180,
   "id": "7eb1f700",
   "metadata": {},
   "outputs": [],
   "source": [
    "data.to_csv('fin-bisnode_firms_cleaned.csv',index=False)"
   ]
  },
  {
   "cell_type": "markdown",
   "id": "b0febdf3",
   "metadata": {},
   "source": [
    "### Divide into two industries"
   ]
  },
  {
   "cell_type": "code",
   "execution_count": 181,
   "id": "94b394d7",
   "metadata": {},
   "outputs": [
    {
     "data": {
      "text/plain": [
       "1        3.0\n",
       "5        2.0\n",
       "9        3.0\n",
       "13       3.0\n",
       "17       3.0\n",
       "        ... \n",
       "78925    2.0\n",
       "78929    3.0\n",
       "78937    2.0\n",
       "78945    2.0\n",
       "78949    3.0\n",
       "Name: ind, Length: 16974, dtype: float64"
      ]
     },
     "execution_count": 181,
     "metadata": {},
     "output_type": "execute_result"
    }
   ],
   "source": [
    "data.ind"
   ]
  },
  {
   "cell_type": "markdown",
   "id": "8f882edd",
   "metadata": {},
   "source": [
    "1. Manufacturing industry"
   ]
  },
  {
   "cell_type": "code",
   "execution_count": 182,
   "id": "9871d165",
   "metadata": {},
   "outputs": [
    {
     "data": {
      "text/plain": [
       "29.0    236\n",
       "30.0    137\n",
       "Name: ind2, dtype: int64"
      ]
     },
     "execution_count": 182,
     "metadata": {},
     "output_type": "execute_result"
    }
   ],
   "source": [
    "data.loc[lambda x: x[\"ind\"] == 1,\"ind2\"].value_counts()"
   ]
  },
  {
   "cell_type": "code",
   "execution_count": 183,
   "id": "2f80fb82",
   "metadata": {},
   "outputs": [
    {
     "data": {
      "text/plain": [
       "28.0    1677\n",
       "33.0    1648\n",
       "26.0     908\n",
       "27.0     552\n",
       "Name: ind2, dtype: int64"
      ]
     },
     "execution_count": 183,
     "metadata": {},
     "output_type": "execute_result"
    }
   ],
   "source": [
    "data.loc[lambda x: x[\"ind\"] == 2,\"ind2\"].value_counts()"
   ]
  },
  {
   "cell_type": "markdown",
   "id": "275b0943",
   "metadata": {},
   "source": [
    "2. Services industry"
   ]
  },
  {
   "cell_type": "code",
   "execution_count": 184,
   "id": "9203f88c",
   "metadata": {},
   "outputs": [
    {
     "data": {
      "text/plain": [
       "56.0    9873\n",
       "55.0    1943\n",
       "Name: ind2, dtype: int64"
      ]
     },
     "execution_count": 184,
     "metadata": {},
     "output_type": "execute_result"
    }
   ],
   "source": [
    "data.loc[lambda x: x[\"ind\"] == 3,\"ind2\"].value_counts()"
   ]
  },
  {
   "cell_type": "code",
   "execution_count": 185,
   "id": "f800f1f8",
   "metadata": {},
   "outputs": [
    {
     "data": {
      "text/plain": [
       "0    0.827353\n",
       "1    0.172647\n",
       "Name: high_roe_firm, dtype: float64"
      ]
     },
     "execution_count": 185,
     "metadata": {},
     "output_type": "execute_result"
    }
   ],
   "source": [
    "data.loc[lambda x: x[\"ind\"] == 3, \"high_roe_firm\"].value_counts(normalize=True)"
   ]
  },
  {
   "cell_type": "code",
   "execution_count": 186,
   "id": "7641d1d1",
   "metadata": {},
   "outputs": [
    {
     "data": {
      "text/plain": [
       "0    0.708414\n",
       "1    0.291586\n",
       "Name: high_roe_firm, dtype: float64"
      ]
     },
     "execution_count": 186,
     "metadata": {},
     "output_type": "execute_result"
    }
   ],
   "source": [
    "data.loc[lambda x: (x[\"ind\"] == 1) | (x[\"ind\"] == 2) , \"high_roe_firm\"].value_counts(normalize=True)"
   ]
  },
  {
   "cell_type": "code",
   "execution_count": 187,
   "id": "0c73ae00",
   "metadata": {},
   "outputs": [],
   "source": [
    "# Create services industry dataset\n",
    "\n",
    "data.loc[lambda x: x[\"ind\"] == 3, :].drop(\"ind\", axis=1).to_csv(\n",
    "    \"fin-bisnode_firms_cleaned_service-2.csv\", index=False\n",
    ")"
   ]
  },
  {
   "cell_type": "code",
   "execution_count": 188,
   "id": "6f78f8d4",
   "metadata": {},
   "outputs": [],
   "source": [
    "# Create manufacturing industry dataset\n",
    "\n",
    "data.loc[lambda x: (x[\"ind\"] == 1) | (x[\"ind\"] == 2) , :].drop(\"ind\", axis=1).to_csv(\n",
    "    \"fin-bisnode_firms_cleaned_manufacturing-2.csv\", index=False\n",
    ")"
   ]
  }
 ],
 "metadata": {
  "kernelspec": {
   "display_name": "Python 3 (ipykernel)",
   "language": "python",
   "name": "python3"
  },
  "language_info": {
   "codemirror_mode": {
    "name": "ipython",
    "version": 3
   },
   "file_extension": ".py",
   "mimetype": "text/x-python",
   "name": "python",
   "nbconvert_exporter": "python",
   "pygments_lexer": "ipython3",
   "version": "3.9.7"
  }
 },
 "nbformat": 4,
 "nbformat_minor": 5
}
