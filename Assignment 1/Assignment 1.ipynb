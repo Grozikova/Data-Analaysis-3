{
 "cells": [
  {
   "cell_type": "code",
   "execution_count": 316,
   "id": "c9d1923d",
   "metadata": {},
   "outputs": [],
   "source": [
    "### SETTING UP DIRECTORIES\n",
    "\n",
    "import os\n",
    "import sys\n",
    "import warnings\n",
    "\n",
    "import numpy as np\n",
    "import pandas as pd\n",
    "import statsmodels.formula.api as smf\n",
    "from mizani.formatters import percent_format\n",
    "from plotnine import *\n",
    "from stargazer import stargazer\n",
    "from statsmodels.tools.eval_measures import mse, rmse\n",
    "\n",
    "warnings.filterwarnings(\"ignore\")\n",
    "\n",
    "# set working directory for da_data_repo -- replace the\n",
    "os.chdir('C:/Users/45919/Desktop/CEU/Machine Learning')\n"
   ]
  },
  {
   "cell_type": "code",
   "execution_count": 188,
   "id": "31ec25c0",
   "metadata": {},
   "outputs": [],
   "source": [
    "from stargazer import stargazer"
   ]
  },
  {
   "cell_type": "code",
   "execution_count": 8,
   "id": "816f0c32",
   "metadata": {},
   "outputs": [
    {
     "name": "stderr",
     "output_type": "stream",
     "text": [
      "C:\\Users\\45919\\AppData\\Local\\Temp/ipykernel_23548/2823244067.py:3: DtypeWarning: Columns (16) have mixed types. Specify dtype option on import or set low_memory=False.\n"
     ]
    }
   ],
   "source": [
    "# load dataset (as unicode, to avoid size and memory warnings)\n",
    "\n",
    "df = pd.read_csv(\"morg-2014-emp.csv\", header=0, sep=','\n",
    ")"
   ]
  },
  {
   "cell_type": "code",
   "execution_count": 9,
   "id": "08b05394",
   "metadata": {},
   "outputs": [],
   "source": [
    "#Elementary and middle school teachers is selected. Keep only the observations that has the chosen profession and drop others.\n",
    "\n",
    "df=df[df['occ2012']==2310]"
   ]
  },
  {
   "cell_type": "code",
   "execution_count": 24,
   "id": "f110492f",
   "metadata": {},
   "outputs": [
    {
     "data": {
      "text/plain": [
       "Unnamed: 0       0\n",
       "hhid             0\n",
       "intmonth         0\n",
       "stfips           0\n",
       "weight           0\n",
       "earnwke          0\n",
       "uhours           0\n",
       "grade92          0\n",
       "race             0\n",
       "ethnic        3375\n",
       "age              0\n",
       "sex              0\n",
       "marital          0\n",
       "ownchild         0\n",
       "chldpres         0\n",
       "prcitshp         0\n",
       "state            0\n",
       "ind02            0\n",
       "occ2012          0\n",
       "class            0\n",
       "unionmme         0\n",
       "unioncov      1861\n",
       "lfsr94           0\n",
       "w                0\n",
       "lnw              0\n",
       "agesq            0\n",
       "dtype: int64"
      ]
     },
     "execution_count": 24,
     "metadata": {},
     "output_type": "execute_result"
    }
   ],
   "source": [
    "df.isna().sum()"
   ]
  },
  {
   "cell_type": "markdown",
   "id": "99264eb2",
   "metadata": {},
   "source": [
    "Majority of observations did not indicate ethnicity, so I will not include this variable in the models. Union coverage column also has missing observations for half of the dataset which is why I will use only union membership instead."
   ]
  },
  {
   "cell_type": "code",
   "execution_count": 146,
   "id": "e1802b2f",
   "metadata": {},
   "outputs": [],
   "source": [
    "# CREATE THE NECESSARY VARIABLES \n",
    "\n",
    "df[\"w\"] = df[\"earnwke\"] / df[\"uhours\"]\n",
    "df[\"agesq\"] = np.power(df[\"age\"], 2)"
   ]
  },
  {
   "cell_type": "code",
   "execution_count": 147,
   "id": "b6138578",
   "metadata": {},
   "outputs": [
    {
     "data": {
      "text/html": [
       "<div>\n",
       "<style scoped>\n",
       "    .dataframe tbody tr th:only-of-type {\n",
       "        vertical-align: middle;\n",
       "    }\n",
       "\n",
       "    .dataframe tbody tr th {\n",
       "        vertical-align: top;\n",
       "    }\n",
       "\n",
       "    .dataframe thead th {\n",
       "        text-align: right;\n",
       "    }\n",
       "</style>\n",
       "<table border=\"1\" class=\"dataframe\">\n",
       "  <thead>\n",
       "    <tr style=\"text-align: right;\">\n",
       "      <th></th>\n",
       "      <th>earnwke</th>\n",
       "      <th>uhours</th>\n",
       "      <th>w</th>\n",
       "    </tr>\n",
       "  </thead>\n",
       "  <tbody>\n",
       "    <tr>\n",
       "      <th>count</th>\n",
       "      <td>3632.000000</td>\n",
       "      <td>3632.000000</td>\n",
       "      <td>3632.000000</td>\n",
       "    </tr>\n",
       "    <tr>\n",
       "      <th>mean</th>\n",
       "      <td>1035.332084</td>\n",
       "      <td>40.690253</td>\n",
       "      <td>25.939639</td>\n",
       "    </tr>\n",
       "    <tr>\n",
       "      <th>std</th>\n",
       "      <td>528.015992</td>\n",
       "      <td>8.730560</td>\n",
       "      <td>18.590945</td>\n",
       "    </tr>\n",
       "    <tr>\n",
       "      <th>min</th>\n",
       "      <td>28.000000</td>\n",
       "      <td>1.000000</td>\n",
       "      <td>1.602500</td>\n",
       "    </tr>\n",
       "    <tr>\n",
       "      <th>25%</th>\n",
       "      <td>692.300000</td>\n",
       "      <td>40.000000</td>\n",
       "      <td>16.826750</td>\n",
       "    </tr>\n",
       "    <tr>\n",
       "      <th>50%</th>\n",
       "      <td>961.000000</td>\n",
       "      <td>40.000000</td>\n",
       "      <td>23.076750</td>\n",
       "    </tr>\n",
       "    <tr>\n",
       "      <th>75%</th>\n",
       "      <td>1250.000000</td>\n",
       "      <td>40.000000</td>\n",
       "      <td>31.250000</td>\n",
       "    </tr>\n",
       "    <tr>\n",
       "      <th>max</th>\n",
       "      <td>2884.610000</td>\n",
       "      <td>80.000000</td>\n",
       "      <td>583.330000</td>\n",
       "    </tr>\n",
       "  </tbody>\n",
       "</table>\n",
       "</div>"
      ],
      "text/plain": [
       "           earnwke       uhours            w\n",
       "count  3632.000000  3632.000000  3632.000000\n",
       "mean   1035.332084    40.690253    25.939639\n",
       "std     528.015992     8.730560    18.590945\n",
       "min      28.000000     1.000000     1.602500\n",
       "25%     692.300000    40.000000    16.826750\n",
       "50%     961.000000    40.000000    23.076750\n",
       "75%    1250.000000    40.000000    31.250000\n",
       "max    2884.610000    80.000000   583.330000"
      ]
     },
     "execution_count": 147,
     "metadata": {},
     "output_type": "execute_result"
    }
   ],
   "source": [
    "#Describe the data to check if the filtering was successful and understand the descriptive stats\n",
    "df.loc[df['w']>=1,['earnwke', 'uhours','w']].describe()"
   ]
  },
  {
   "cell_type": "markdown",
   "id": "5d73da2a",
   "metadata": {},
   "source": [
    "## Linear Regression Models"
   ]
  },
  {
   "cell_type": "code",
   "execution_count": 248,
   "id": "5516aa4a",
   "metadata": {},
   "outputs": [],
   "source": [
    "model1=\"w~age + agesq + sex\"\n",
    "model2=\"w~age + agesq + sex + grade92 + marital\"\n",
    "model3=\"w~age + agesq + sex + grade92 + marital + chldpres + race +prcitshp + unionmme + lfsr94\"\n",
    "model4=\"w~age + agesq + sex + grade92 + marital + chldpres + race +prcitshp + unionmme + lfsr94 + ind02 + ownchild + uhours + weight + hhid\"\n",
    "\n",
    "models = [model1,model2,model3,model4]"
   ]
  },
  {
   "cell_type": "markdown",
   "id": "5d825fcd",
   "metadata": {},
   "source": [
    "I wanted to include state variable as one of the predictors, but computer capacity could not handle that many variables. It was creating too many dummies. So, I just excluded state from analysis even though it is a very important predictor of wage since wage rate varies from state to state."
   ]
  },
  {
   "cell_type": "code",
   "execution_count": 249,
   "id": "5a0f1d55",
   "metadata": {},
   "outputs": [],
   "source": [
    "regs = []\n",
    "for mod in models:\n",
    "    regs.append(smf.ols(mod, df).fit(cov_type=\"HC1\"))"
   ]
  },
  {
   "cell_type": "code",
   "execution_count": 250,
   "id": "8f09aa96",
   "metadata": {},
   "outputs": [
    {
     "data": {
      "text/html": [
       "<table style=\"text-align:center\"><tr><td colspan=\"5\" style=\"border-bottom: 1px solid black\"></td></tr><tr><td style=\"text-align:left\"></td><td colspan=\"4\"><em>Dependent variable:w</em></td></tr><tr><td style=\"text-align:left\"></td><tr><td style=\"text-align:left\"></td><td>(1)</td><td>(2)</td><td>(3)</td><td>(4)</td></tr><tr><td colspan=\"5\" style=\"border-bottom: 1px solid black\"></td></tr><tr><td style=\"text-align:left\">Intercept</td><td>1.551<sup></sup></td><td>-97.180<sup>***</sup></td><td>-83.865<sup>***</sup></td><td>0.014<sup>***</sup></td></tr><tr><td style=\"text-align:left\"></td><td>(3.989)</td><td>(7.393)</td><td>(8.482)</td><td>(0.003)</td></tr><tr><td style=\"text-align:left\">age</td><td>1.248<sup>***</sup></td><td>0.952<sup>***</sup></td><td>0.904<sup>***</sup></td><td>0.534<sup>**</sup></td></tr><tr><td style=\"text-align:left\"></td><td>(0.209)</td><td>(0.227)</td><td>(0.212)</td><td>(0.215)</td></tr><tr><td style=\"text-align:left\">agesq</td><td>-0.012<sup>***</sup></td><td>-0.009<sup>***</sup></td><td>-0.008<sup>***</sup></td><td>-0.004<sup></sup></td></tr><tr><td style=\"text-align:left\"></td><td>(0.003)</td><td>(0.003)</td><td>(0.003)</td><td>(0.003)</td></tr><tr><td style=\"text-align:left\">chldpres</td><td></td><td></td><td>-0.046<sup></sup></td><td>-0.099<sup></sup></td></tr><tr><td style=\"text-align:left\"></td><td></td><td></td><td>(0.127)</td><td>(0.109)</td></tr><tr><td style=\"text-align:left\">grade92</td><td></td><td>2.419<sup>***</sup></td><td>2.135<sup>***</sup></td><td>0.546<sup>***</sup></td></tr><tr><td style=\"text-align:left\"></td><td></td><td>(0.194)</td><td>(0.208)</td><td>(0.175)</td></tr><tr><td style=\"text-align:left\">hhid</td><td></td><td></td><td></td><td>0.000<sup></sup></td></tr><tr><td style=\"text-align:left\"></td><td></td><td></td><td></td><td>(0.000)</td></tr><tr><td style=\"text-align:left\">lfsr94[T.Employed-At Work]</td><td></td><td></td><td>-1.176<sup></sup></td><td>0.012<sup>***</sup></td></tr><tr><td style=\"text-align:left\"></td><td></td><td></td><td>(1.527)</td><td>(0.002)</td></tr><tr><td style=\"text-align:left\">marital</td><td></td><td>-0.001<sup></sup></td><td>-0.024<sup></sup></td><td>-0.202<sup>**</sup></td></tr><tr><td style=\"text-align:left\"></td><td></td><td>(0.104)</td><td>(0.101)</td><td>(0.101)</td></tr><tr><td style=\"text-align:left\">ownchild</td><td></td><td></td><td></td><td>0.014<sup></sup></td></tr><tr><td style=\"text-align:left\"></td><td></td><td></td><td></td><td>(0.029)</td></tr><tr><td style=\"text-align:left\">prcitshp[T.Foreign Born, US Cit By Naturalization]</td><td></td><td></td><td>0.496<sup></sup></td><td>0.004<sup></sup></td></tr><tr><td style=\"text-align:left\"></td><td></td><td></td><td>(3.102)</td><td>(0.003)</td></tr><tr><td style=\"text-align:left\">prcitshp[T.Native, Born Abroad Of US Parent(s)]</td><td></td><td></td><td>4.471<sup></sup></td><td>0.001<sup>*</sup></td></tr><tr><td style=\"text-align:left\"></td><td></td><td></td><td>(3.776)</td><td>(0.000)</td></tr><tr><td style=\"text-align:left\">prcitshp[T.Native, Born In US]</td><td></td><td></td><td>-0.745<sup></sup></td><td>0.005<sup></sup></td></tr><tr><td style=\"text-align:left\"></td><td></td><td></td><td>(2.830)</td><td>(0.007)</td></tr><tr><td style=\"text-align:left\">prcitshp[T.Native, Born in PR or US Outlying Area]</td><td></td><td></td><td>2.001<sup></sup></td><td>0.000<sup></sup></td></tr><tr><td style=\"text-align:left\"></td><td></td><td></td><td>(3.456)</td><td>(0.000)</td></tr><tr><td style=\"text-align:left\">race</td><td></td><td></td><td>0.361<sup>**</sup></td><td>0.180<sup></sup></td></tr><tr><td style=\"text-align:left\"></td><td></td><td></td><td>(0.170)</td><td>(0.189)</td></tr><tr><td style=\"text-align:left\">sex</td><td>-3.191<sup>***</sup></td><td>-2.929<sup>***</sup></td><td>-2.939<sup>***</sup></td><td>0.029<sup>***</sup></td></tr><tr><td style=\"text-align:left\"></td><td>(0.628)</td><td>(0.619)</td><td>(0.603)</td><td>(0.005)</td></tr><tr><td style=\"text-align:left\">uhours</td><td></td><td></td><td></td><td>-0.313<sup>***</sup></td></tr><tr><td style=\"text-align:left\"></td><td></td><td></td><td></td><td>(0.117)</td></tr><tr><td style=\"text-align:left\">unionmme[T.Yes]</td><td></td><td></td><td>3.171<sup>***</sup></td><td>0.002<sup>**</sup></td></tr><tr><td style=\"text-align:left\"></td><td></td><td></td><td>(0.664)</td><td>(0.001)</td></tr><tr><td style=\"text-align:left\">weight</td><td></td><td></td><td></td><td>0.000<sup></sup></td></tr><tr><td style=\"text-align:left\"></td><td></td><td></td><td></td><td>(0.000)</td></tr><td colspan=\"5\" style=\"border-bottom: 1px solid black\"></td></tr><tr><td style=\"text-align: left\">Observations</td><td>3,636</td><td>3,636</td><td>3,636</td><td>3,636</td></tr><tr><td style=\"text-align: left\">R<sup>2</sup></td><td>0.031</td><td>0.052</td><td>0.061</td><td>0.050</td></tr><tr><td style=\"text-align: left\">Adjusted R<sup>2</sup></td><td>0.030</td><td>0.051</td><td>0.057</td><td>0.049</td></tr><tr><td style=\"text-align: left\">Residual Std. Error</td><td>18.317 (df=3632)</td><td>18.124 (df=3630)</td><td>18.059 (df=3622)</td><td>18.141 (df=3630)</td></tr><tr><td style=\"text-align: left\">F Statistic</td><td>96.495<sup>***</sup> (df=3; 3632)</td><td>96.783<sup>***</sup> (df=5; 3630)</td><td>46.667<sup>***</sup> (df=13; 3622)</td><td>655.128<sup>***</sup> (df=5; 3630)</td></tr><tr><td colspan=\"5\" style=\"border-bottom: 1px solid black\"></td></tr><tr><td style=\"text-align: left\">Note:</td>\n",
       " <td colspan=\"4\" style=\"text-align: right\">\n",
       "  <sup>*</sup>p&lt;0.1;\n",
       "  <sup>**</sup>p&lt;0.05;\n",
       "  <sup>***</sup>p&lt;0.01\n",
       " </td></tr></table>"
      ],
      "text/plain": [
       "<stargazer.stargazer.Stargazer at 0x15ce9d35700>"
      ]
     },
     "execution_count": 250,
     "metadata": {},
     "output_type": "execute_result"
    }
   ],
   "source": [
    "stargazer.Stargazer(regs)"
   ]
  },
  {
   "cell_type": "code",
   "execution_count": 251,
   "id": "fa107193",
   "metadata": {},
   "outputs": [
    {
     "data": {
      "text/plain": [
       "[31492.927, 31430.292, 31461.914, 31437.16]"
      ]
     },
     "execution_count": 251,
     "metadata": {},
     "output_type": "execute_result"
    }
   ],
   "source": [
    "# BIC in the full sample for each model\n",
    "\n",
    "BIC = []\n",
    "for bics in regs:\n",
    "    BIC.append(bics.bic)\n",
    "BIC = [float('{:.3f}'.format(i)) for i in BIC]\n",
    "BIC"
   ]
  },
  {
   "cell_type": "code",
   "execution_count": 252,
   "id": "c7a2a636",
   "metadata": {},
   "outputs": [
    {
     "data": {
      "text/plain": [
       "[18.307, 18.109, 18.024, 18.126]"
      ]
     },
     "execution_count": 252,
     "metadata": {},
     "output_type": "execute_result"
    }
   ],
   "source": [
    "# RMSE in the full sample for each model\n",
    "wage = df[\"w\"].values.tolist()\n",
    "RMSE = []\n",
    "\n",
    "#def rmse(predictions, targets):\n",
    " #   return np.sqrt(((predictions - targets) ** 2).mean())\n",
    "\n",
    "for rmses in regs:\n",
    "    w_pred = rmses.predict()\n",
    "    RMSE.append(rmse(wage, w_pred))\n",
    "RMSE = [float('{:.3f}'.format(i)) for i in RMSE]\n",
    "RMSE"
   ]
  },
  {
   "cell_type": "markdown",
   "id": "5807d59f",
   "metadata": {},
   "source": [
    "### Cross Validation"
   ]
  },
  {
   "cell_type": "code",
   "execution_count": 253,
   "id": "eff811ff",
   "metadata": {},
   "outputs": [],
   "source": [
    "import statsmodels.formula.api as smf\n",
    "from sklearn.model_selection import KFold\n",
    "from statsmodels.tools.eval_measures import rmse"
   ]
  },
  {
   "cell_type": "code",
   "execution_count": 254,
   "id": "d571dd89",
   "metadata": {},
   "outputs": [],
   "source": [
    "def ols_crossvalidator(formula:str, data: pd.DataFrame, n_folds=5, average_rmse=True):\n",
    "\n",
    "\n",
    "    # Get dependent variable\n",
    "\n",
    "    y = formula.split(\"~\")[0].strip()\n",
    "\n",
    "    # Get statistics on the whole work data\n",
    "\n",
    "    model = smf.ols(formula, data=data).fit()\n",
    "\n",
    "    rsquared = model.rsquared\n",
    "    # n_coefficients = model.params.shape[0]\n",
    "    n_coefficients = (\n",
    "        model.df_model + 1\n",
    "    )  # This might differ from model.params.shape[0], because of collinear predictors\n",
    "    bic = model.bic\n",
    "    rmse_alldata = rmse(model.predict(), data[y])\n",
    "\n",
    "    # Calculating test and train RMSE-s for each fold\n",
    "\n",
    "    k = KFold(n_splits=n_folds, shuffle=False, random_state=None)\n",
    "\n",
    "    rmse_train = []\n",
    "    rmse_test = []\n",
    "\n",
    "    for train_index, test_index in k.split(data):\n",
    "\n",
    "        data_train, data_test = data.iloc[train_index, :], data.iloc[test_index, :]\n",
    "\n",
    "        model = smf.ols(formula, data=data_train).fit()\n",
    "\n",
    "        rmse_train.append(rmse(data_train[y], model.predict(data_train)))\n",
    "        rmse_test.append(rmse(data_test[y], model.predict(data_test)))\n",
    "\n",
    "    if average_rmse:\n",
    "        rmse_train = np.mean(rmse_train)\n",
    "        rmse_test = np.mean(rmse_test)\n",
    "\n",
    "    return {\n",
    "        \"RMSE\": rmse_alldata,\n",
    "        \"R-squared\": rsquared,\n",
    "        \"BIC\": bic,\n",
    "        \"Coefficients\": n_coefficients,\n",
    "        \"Training RMSE\": rmse_train,\n",
    "        \"Test RMSE\": rmse_test,\n",
    "    }"
   ]
  },
  {
   "cell_type": "code",
   "execution_count": 255,
   "id": "413f18b8",
   "metadata": {},
   "outputs": [],
   "source": [
    "n_fold = 4"
   ]
  },
  {
   "cell_type": "code",
   "execution_count": 256,
   "id": "63eb13ec",
   "metadata": {
    "scrolled": true
   },
   "outputs": [],
   "source": [
    "cv_l = []\n",
    "for mod in models:\n",
    "    cv_l.append(ols_crossvalidator(mod, df, n_fold, average_rmse=False))"
   ]
  },
  {
   "cell_type": "code",
   "execution_count": 257,
   "id": "dc500d16",
   "metadata": {},
   "outputs": [
    {
     "data": {
      "text/html": [
       "<div>\n",
       "<style scoped>\n",
       "    .dataframe tbody tr th:only-of-type {\n",
       "        vertical-align: middle;\n",
       "    }\n",
       "\n",
       "    .dataframe tbody tr th {\n",
       "        vertical-align: top;\n",
       "    }\n",
       "\n",
       "    .dataframe thead th {\n",
       "        text-align: right;\n",
       "    }\n",
       "</style>\n",
       "<table border=\"1\" class=\"dataframe\">\n",
       "  <thead>\n",
       "    <tr style=\"text-align: right;\">\n",
       "      <th></th>\n",
       "      <th>Coefficients</th>\n",
       "      <th>R-squared</th>\n",
       "      <th>RMSE</th>\n",
       "      <th>BIC</th>\n",
       "    </tr>\n",
       "    <tr>\n",
       "      <th>Model</th>\n",
       "      <th></th>\n",
       "      <th></th>\n",
       "      <th></th>\n",
       "      <th></th>\n",
       "    </tr>\n",
       "  </thead>\n",
       "  <tbody>\n",
       "    <tr>\n",
       "      <th>Model 1</th>\n",
       "      <td>4</td>\n",
       "      <td>0.031</td>\n",
       "      <td>18.307</td>\n",
       "      <td>31492</td>\n",
       "    </tr>\n",
       "    <tr>\n",
       "      <th>Model 2</th>\n",
       "      <td>6</td>\n",
       "      <td>0.052</td>\n",
       "      <td>18.109</td>\n",
       "      <td>31430</td>\n",
       "    </tr>\n",
       "    <tr>\n",
       "      <th>Model 3</th>\n",
       "      <td>14</td>\n",
       "      <td>0.061</td>\n",
       "      <td>18.024</td>\n",
       "      <td>31461</td>\n",
       "    </tr>\n",
       "    <tr>\n",
       "      <th>Model 4</th>\n",
       "      <td>6</td>\n",
       "      <td>0.050</td>\n",
       "      <td>18.126</td>\n",
       "      <td>31437</td>\n",
       "    </tr>\n",
       "  </tbody>\n",
       "</table>\n",
       "</div>"
      ],
      "text/plain": [
       "         Coefficients  R-squared    RMSE    BIC\n",
       "Model                                          \n",
       "Model 1             4      0.031  18.307  31492\n",
       "Model 2             6      0.052  18.109  31430\n",
       "Model 3            14      0.061  18.024  31461\n",
       "Model 4             6      0.050  18.126  31437"
      ]
     },
     "execution_count": 257,
     "metadata": {},
     "output_type": "execute_result"
    }
   ],
   "source": [
    "(\n",
    "    pd.DataFrame(cv_l)\n",
    "    .round(3)\n",
    "    .assign(\n",
    "        RMSE=lambda x: x[\"RMSE\"],\n",
    "        BIC=lambda x: x[\"BIC\"].astype(int),\n",
    "        Coefficients=lambda x: x[\"Coefficients\"].astype(int),\n",
    "        Model=[\"Model \" + str(i + 1) for i in range(len(models))],\n",
    "    )\n",
    "    .filter([\"Model\", \"Coefficients\", \"R-squared\", \"RMSE\", \"BIC\"])\n",
    "    .set_index(\"Model\")\n",
    ")"
   ]
  },
  {
   "cell_type": "markdown",
   "id": "f257f61c",
   "metadata": {},
   "source": [
    "#### Wages of elementary and middle school teachers estimated and evaluated using 4-fold cross-validation and RMSE"
   ]
  },
  {
   "cell_type": "code",
   "execution_count": 258,
   "id": "e3ebc4a6",
   "metadata": {},
   "outputs": [
    {
     "data": {
      "text/html": [
       "<div>\n",
       "<style scoped>\n",
       "    .dataframe tbody tr th:only-of-type {\n",
       "        vertical-align: middle;\n",
       "    }\n",
       "\n",
       "    .dataframe tbody tr th {\n",
       "        vertical-align: top;\n",
       "    }\n",
       "\n",
       "    .dataframe thead th {\n",
       "        text-align: right;\n",
       "    }\n",
       "</style>\n",
       "<table border=\"1\" class=\"dataframe\">\n",
       "  <thead>\n",
       "    <tr style=\"text-align: right;\">\n",
       "      <th></th>\n",
       "      <th>Model 1</th>\n",
       "      <th>Model 2</th>\n",
       "      <th>Model 3</th>\n",
       "      <th>Model 4</th>\n",
       "    </tr>\n",
       "  </thead>\n",
       "  <tbody>\n",
       "    <tr>\n",
       "      <th>Fold1</th>\n",
       "      <td>12</td>\n",
       "      <td>11</td>\n",
       "      <td>11</td>\n",
       "      <td>13</td>\n",
       "    </tr>\n",
       "    <tr>\n",
       "      <th>Fold2</th>\n",
       "      <td>23</td>\n",
       "      <td>23</td>\n",
       "      <td>23</td>\n",
       "      <td>22</td>\n",
       "    </tr>\n",
       "    <tr>\n",
       "      <th>Fold3</th>\n",
       "      <td>22</td>\n",
       "      <td>22</td>\n",
       "      <td>22</td>\n",
       "      <td>22</td>\n",
       "    </tr>\n",
       "    <tr>\n",
       "      <th>Fold4</th>\n",
       "      <td>14</td>\n",
       "      <td>13</td>\n",
       "      <td>14</td>\n",
       "      <td>14</td>\n",
       "    </tr>\n",
       "    <tr>\n",
       "      <th>Average</th>\n",
       "      <td>18</td>\n",
       "      <td>17</td>\n",
       "      <td>17</td>\n",
       "      <td>18</td>\n",
       "    </tr>\n",
       "  </tbody>\n",
       "</table>\n",
       "</div>"
      ],
      "text/plain": [
       "         Model 1  Model 2  Model 3  Model 4\n",
       "Fold1         12       11       11       13\n",
       "Fold2         23       23       23       22\n",
       "Fold3         22       22       22       22\n",
       "Fold4         14       13       14       14\n",
       "Average       18       17       17       18"
      ]
     },
     "execution_count": 258,
     "metadata": {},
     "output_type": "execute_result"
    }
   ],
   "source": [
    "pd.DataFrame(\n",
    "    [cv[\"Test RMSE\"] for cv in cv_l],\n",
    "    index=[\"Model \" + str(i + 1) for i in range(len(cv_l))],\n",
    "    columns=[\"Fold\" + str(i + 1) for i in range(len(cv_l[0][\"Test RMSE\"]))],\n",
    ").assign(Average=lambda x: x.mean(axis=1)).T.round().astype(int)"
   ]
  },
  {
   "cell_type": "markdown",
   "id": "7d86cbec",
   "metadata": {},
   "source": [
    "Since the models lack some of the most important factors that affect wage such as geographic location, experience and skills, they are producing quite similar results because the basic models 1 and 2 already include the major determinants of wage."
   ]
  },
  {
   "cell_type": "markdown",
   "id": "94a98c1d",
   "metadata": {},
   "source": [
    "### Prediction"
   ]
  },
  {
   "cell_type": "markdown",
   "id": "2a4fb03b",
   "metadata": {},
   "source": [
    "Now I will take one observation from the dataset and try to predict it using point_predict_with_conf_int function from gabors-data-analysis book."
   ]
  },
  {
   "cell_type": "code",
   "execution_count": 318,
   "id": "beba0063",
   "metadata": {},
   "outputs": [],
   "source": [
    "df = df.loc[\n",
    "    :,\n",
    "    [\n",
    "        \"age\",\n",
    "        \"agesq\",\n",
    "        \"sex\" ,\n",
    "        \"grade92\",\n",
    "        \"marital\",\n",
    "        \"chldpres\",\n",
    "        \"race\",\n",
    "        \"prcitshp\",\n",
    "        \"unionmme\",\n",
    "        \"lfsr94\",\n",
    "        \"w\",\n",
    "    ],\n",
    "]"
   ]
  },
  {
   "cell_type": "code",
   "execution_count": 319,
   "id": "4163c5e5",
   "metadata": {},
   "outputs": [
    {
     "data": {
      "text/plain": [
       "age           int64\n",
       "agesq         int64\n",
       "sex           int64\n",
       "grade92       int64\n",
       "marital       int64\n",
       "chldpres      int64\n",
       "race          int64\n",
       "prcitshp     object\n",
       "unionmme     object\n",
       "lfsr94       object\n",
       "w           float64\n",
       "dtype: object"
      ]
     },
     "execution_count": 319,
     "metadata": {},
     "output_type": "execute_result"
    }
   ],
   "source": [
    "df.dtypes"
   ]
  },
  {
   "cell_type": "code",
   "execution_count": 320,
   "id": "75a2128c",
   "metadata": {},
   "outputs": [
    {
     "data": {
      "text/html": [
       "<div>\n",
       "<style scoped>\n",
       "    .dataframe tbody tr th:only-of-type {\n",
       "        vertical-align: middle;\n",
       "    }\n",
       "\n",
       "    .dataframe tbody tr th {\n",
       "        vertical-align: top;\n",
       "    }\n",
       "\n",
       "    .dataframe thead th {\n",
       "        text-align: right;\n",
       "    }\n",
       "</style>\n",
       "<table border=\"1\" class=\"dataframe\">\n",
       "  <thead>\n",
       "    <tr style=\"text-align: right;\">\n",
       "      <th></th>\n",
       "      <th>age</th>\n",
       "      <th>agesq</th>\n",
       "      <th>sex</th>\n",
       "      <th>grade92</th>\n",
       "      <th>marital</th>\n",
       "      <th>chldpres</th>\n",
       "      <th>race</th>\n",
       "      <th>prcitshp</th>\n",
       "      <th>unionmme</th>\n",
       "      <th>lfsr94</th>\n",
       "      <th>w</th>\n",
       "    </tr>\n",
       "  </thead>\n",
       "  <tbody>\n",
       "    <tr>\n",
       "      <th>21</th>\n",
       "      <td>31</td>\n",
       "      <td>961</td>\n",
       "      <td>2</td>\n",
       "      <td>44</td>\n",
       "      <td>7</td>\n",
       "      <td>0</td>\n",
       "      <td>1</td>\n",
       "      <td>Native, Born In US</td>\n",
       "      <td>No</td>\n",
       "      <td>Employed-At Work</td>\n",
       "      <td>20.673000</td>\n",
       "    </tr>\n",
       "    <tr>\n",
       "      <th>30</th>\n",
       "      <td>21</td>\n",
       "      <td>441</td>\n",
       "      <td>2</td>\n",
       "      <td>40</td>\n",
       "      <td>1</td>\n",
       "      <td>0</td>\n",
       "      <td>1</td>\n",
       "      <td>Native, Born In US</td>\n",
       "      <td>No</td>\n",
       "      <td>Employed-At Work</td>\n",
       "      <td>8.500000</td>\n",
       "    </tr>\n",
       "    <tr>\n",
       "      <th>50</th>\n",
       "      <td>39</td>\n",
       "      <td>1521</td>\n",
       "      <td>2</td>\n",
       "      <td>43</td>\n",
       "      <td>1</td>\n",
       "      <td>0</td>\n",
       "      <td>1</td>\n",
       "      <td>Native, Born In US</td>\n",
       "      <td>Yes</td>\n",
       "      <td>Employed-At Work</td>\n",
       "      <td>14.957111</td>\n",
       "    </tr>\n",
       "    <tr>\n",
       "      <th>84</th>\n",
       "      <td>57</td>\n",
       "      <td>3249</td>\n",
       "      <td>2</td>\n",
       "      <td>44</td>\n",
       "      <td>7</td>\n",
       "      <td>0</td>\n",
       "      <td>2</td>\n",
       "      <td>Native, Born In US</td>\n",
       "      <td>Yes</td>\n",
       "      <td>Employed-At Work</td>\n",
       "      <td>17.857143</td>\n",
       "    </tr>\n",
       "    <tr>\n",
       "      <th>130</th>\n",
       "      <td>45</td>\n",
       "      <td>2025</td>\n",
       "      <td>2</td>\n",
       "      <td>39</td>\n",
       "      <td>1</td>\n",
       "      <td>9</td>\n",
       "      <td>1</td>\n",
       "      <td>Native, Born In US</td>\n",
       "      <td>Yes</td>\n",
       "      <td>Employed-At Work</td>\n",
       "      <td>13.000000</td>\n",
       "    </tr>\n",
       "    <tr>\n",
       "      <th>145</th>\n",
       "      <td>32</td>\n",
       "      <td>1024</td>\n",
       "      <td>2</td>\n",
       "      <td>43</td>\n",
       "      <td>1</td>\n",
       "      <td>5</td>\n",
       "      <td>1</td>\n",
       "      <td>Native, Born In US</td>\n",
       "      <td>Yes</td>\n",
       "      <td>Employed-At Work</td>\n",
       "      <td>15.384600</td>\n",
       "    </tr>\n",
       "    <tr>\n",
       "      <th>146</th>\n",
       "      <td>35</td>\n",
       "      <td>1225</td>\n",
       "      <td>1</td>\n",
       "      <td>43</td>\n",
       "      <td>1</td>\n",
       "      <td>5</td>\n",
       "      <td>1</td>\n",
       "      <td>Native, Born In US</td>\n",
       "      <td>Yes</td>\n",
       "      <td>Employed-At Work</td>\n",
       "      <td>22.307600</td>\n",
       "    </tr>\n",
       "    <tr>\n",
       "      <th>162</th>\n",
       "      <td>56</td>\n",
       "      <td>3136</td>\n",
       "      <td>2</td>\n",
       "      <td>43</td>\n",
       "      <td>1</td>\n",
       "      <td>0</td>\n",
       "      <td>1</td>\n",
       "      <td>Native, Born In US</td>\n",
       "      <td>Yes</td>\n",
       "      <td>Employed-At Work</td>\n",
       "      <td>19.230714</td>\n",
       "    </tr>\n",
       "    <tr>\n",
       "      <th>165</th>\n",
       "      <td>56</td>\n",
       "      <td>3136</td>\n",
       "      <td>2</td>\n",
       "      <td>40</td>\n",
       "      <td>7</td>\n",
       "      <td>0</td>\n",
       "      <td>2</td>\n",
       "      <td>Native, Born In US</td>\n",
       "      <td>Yes</td>\n",
       "      <td>Employed-At Work</td>\n",
       "      <td>11.000000</td>\n",
       "    </tr>\n",
       "    <tr>\n",
       "      <th>171</th>\n",
       "      <td>25</td>\n",
       "      <td>625</td>\n",
       "      <td>2</td>\n",
       "      <td>44</td>\n",
       "      <td>7</td>\n",
       "      <td>0</td>\n",
       "      <td>1</td>\n",
       "      <td>Native, Born In US</td>\n",
       "      <td>Yes</td>\n",
       "      <td>Employed-At Work</td>\n",
       "      <td>25.000000</td>\n",
       "    </tr>\n",
       "  </tbody>\n",
       "</table>\n",
       "</div>"
      ],
      "text/plain": [
       "     age  agesq  sex  grade92  marital  chldpres  race            prcitshp  \\\n",
       "21    31    961    2       44        7         0     1  Native, Born In US   \n",
       "30    21    441    2       40        1         0     1  Native, Born In US   \n",
       "50    39   1521    2       43        1         0     1  Native, Born In US   \n",
       "84    57   3249    2       44        7         0     2  Native, Born In US   \n",
       "130   45   2025    2       39        1         9     1  Native, Born In US   \n",
       "145   32   1024    2       43        1         5     1  Native, Born In US   \n",
       "146   35   1225    1       43        1         5     1  Native, Born In US   \n",
       "162   56   3136    2       43        1         0     1  Native, Born In US   \n",
       "165   56   3136    2       40        7         0     2  Native, Born In US   \n",
       "171   25    625    2       44        7         0     1  Native, Born In US   \n",
       "\n",
       "    unionmme            lfsr94          w  \n",
       "21        No  Employed-At Work  20.673000  \n",
       "30        No  Employed-At Work   8.500000  \n",
       "50       Yes  Employed-At Work  14.957111  \n",
       "84       Yes  Employed-At Work  17.857143  \n",
       "130      Yes  Employed-At Work  13.000000  \n",
       "145      Yes  Employed-At Work  15.384600  \n",
       "146      Yes  Employed-At Work  22.307600  \n",
       "162      Yes  Employed-At Work  19.230714  \n",
       "165      Yes  Employed-At Work  11.000000  \n",
       "171      Yes  Employed-At Work  25.000000  "
      ]
     },
     "execution_count": 320,
     "metadata": {},
     "output_type": "execute_result"
    }
   ],
   "source": [
    "#To see the values of only the necessary columns, I dropped other columns because some columns in the middle \n",
    "#were not shown previously.\n",
    "df=df[['age','agesq','sex','grade92','marital','chldpres','race','prcitshp','unionmme','lfsr94','w',]]\n",
    "df.head(10)"
   ]
  },
  {
   "cell_type": "markdown",
   "id": "2788b5aa",
   "metadata": {},
   "source": [
    "I will enter the values of variables for observation 21 as a new data point, predict its wage and compare the result with actual wage of observation 21. "
   ]
  },
  {
   "cell_type": "code",
   "execution_count": 332,
   "id": "4920b010",
   "metadata": {},
   "outputs": [
    {
     "data": {
      "text/html": [
       "<div>\n",
       "<style scoped>\n",
       "    .dataframe tbody tr th:only-of-type {\n",
       "        vertical-align: middle;\n",
       "    }\n",
       "\n",
       "    .dataframe tbody tr th {\n",
       "        vertical-align: top;\n",
       "    }\n",
       "\n",
       "    .dataframe thead th {\n",
       "        text-align: right;\n",
       "    }\n",
       "</style>\n",
       "<table border=\"1\" class=\"dataframe\">\n",
       "  <thead>\n",
       "    <tr style=\"text-align: right;\">\n",
       "      <th></th>\n",
       "      <th>age</th>\n",
       "      <th>agesq</th>\n",
       "      <th>sex</th>\n",
       "      <th>grade92</th>\n",
       "      <th>marital</th>\n",
       "      <th>chldpres</th>\n",
       "      <th>race</th>\n",
       "      <th>prcitshp</th>\n",
       "      <th>unionmme</th>\n",
       "      <th>lfsr94</th>\n",
       "    </tr>\n",
       "  </thead>\n",
       "  <tbody>\n",
       "    <tr>\n",
       "      <th>0</th>\n",
       "      <td>31</td>\n",
       "      <td>961</td>\n",
       "      <td>2</td>\n",
       "      <td>44</td>\n",
       "      <td>7</td>\n",
       "      <td>0</td>\n",
       "      <td>1</td>\n",
       "      <td>Native, Born In US</td>\n",
       "      <td>No</td>\n",
       "      <td>Employed-At Work</td>\n",
       "    </tr>\n",
       "  </tbody>\n",
       "</table>\n",
       "</div>"
      ],
      "text/plain": [
       "  age agesq sex grade92 marital chldpres race            prcitshp unionmme  \\\n",
       "0  31   961   2      44       7        0    1  Native, Born In US       No   \n",
       "\n",
       "             lfsr94  \n",
       "0  Employed-At Work  "
      ]
     },
     "execution_count": 332,
     "metadata": {},
     "output_type": "execute_result"
    }
   ],
   "source": [
    "new = pd.DataFrame(\n",
    "    pd.Series(\n",
    "        {  \n",
    "        \"age\": 31,\n",
    "        \"agesq\": 961,\n",
    "        \"sex\": 2 ,\n",
    "        \"grade92\": 44,\n",
    "        \"marital\": 7,\n",
    "        \"chldpres\": 0,\n",
    "        \"race\": 1,\n",
    "        \"prcitshp\": \"Native, Born In US\",\n",
    "        \"unionmme\": \"No\",\n",
    "        \"lfsr94\": \"Employed-At Work\",\n",
    "        \"w\": np.nan,\n",
    "        }\n",
    "    )\n",
    ").T\n",
    "new"
   ]
  },
  {
   "cell_type": "code",
   "execution_count": 333,
   "id": "4a8dcb01",
   "metadata": {},
   "outputs": [
    {
     "data": {
      "text/html": [
       "<div>\n",
       "<style scoped>\n",
       "    .dataframe tbody tr th:only-of-type {\n",
       "        vertical-align: middle;\n",
       "    }\n",
       "\n",
       "    .dataframe tbody tr th {\n",
       "        vertical-align: top;\n",
       "    }\n",
       "\n",
       "    .dataframe thead th {\n",
       "        text-align: right;\n",
       "    }\n",
       "</style>\n",
       "<table border=\"1\" class=\"dataframe\">\n",
       "  <thead>\n",
       "    <tr style=\"text-align: right;\">\n",
       "      <th></th>\n",
       "      <th>age</th>\n",
       "      <th>agesq</th>\n",
       "      <th>sex</th>\n",
       "      <th>grade92</th>\n",
       "      <th>marital</th>\n",
       "      <th>chldpres</th>\n",
       "      <th>race</th>\n",
       "      <th>prcitshp</th>\n",
       "      <th>unionmme</th>\n",
       "      <th>lfsr94</th>\n",
       "    </tr>\n",
       "  </thead>\n",
       "  <tbody>\n",
       "    <tr>\n",
       "      <th>0</th>\n",
       "      <td>31</td>\n",
       "      <td>961</td>\n",
       "      <td>2</td>\n",
       "      <td>44</td>\n",
       "      <td>7</td>\n",
       "      <td>0</td>\n",
       "      <td>1</td>\n",
       "      <td>Native, Born In US</td>\n",
       "      <td>No</td>\n",
       "      <td>Employed-At Work</td>\n",
       "    </tr>\n",
       "    <tr>\n",
       "      <th>0</th>\n",
       "      <td>31</td>\n",
       "      <td>961</td>\n",
       "      <td>2</td>\n",
       "      <td>44</td>\n",
       "      <td>7</td>\n",
       "      <td>0</td>\n",
       "      <td>1</td>\n",
       "      <td>Native, Born In US</td>\n",
       "      <td>No</td>\n",
       "      <td>Employed-At Work</td>\n",
       "    </tr>\n",
       "  </tbody>\n",
       "</table>\n",
       "</div>"
      ],
      "text/plain": [
       "  age agesq sex grade92 marital chldpres race            prcitshp unionmme  \\\n",
       "0  31   961   2      44       7        0    1  Native, Born In US       No   \n",
       "0  31   961   2      44       7        0    1  Native, Born In US       No   \n",
       "\n",
       "             lfsr94  \n",
       "0  Employed-At Work  \n",
       "0  Employed-At Work  "
      ]
     },
     "execution_count": 333,
     "metadata": {},
     "output_type": "execute_result"
    }
   ],
   "source": [
    "new.append(new)"
   ]
  },
  {
   "cell_type": "code",
   "execution_count": 334,
   "id": "d0b3bacc",
   "metadata": {},
   "outputs": [],
   "source": [
    "reg1 = regs[0]\n",
    "reg3 = regs[2]\n",
    "reg4 = regs[3]"
   ]
  },
  {
   "cell_type": "code",
   "execution_count": 335,
   "id": "301ea639",
   "metadata": {},
   "outputs": [],
   "source": [
    "import statsmodels\n",
    "\n",
    "\n",
    "def point_predict_with_conf_int(\n",
    "    regression: statsmodels.regression.linear_model.RegressionResultsWrapper,\n",
    "    new_datapoint: pd.DataFrame,\n",
    "    interval_precision=0.95,\n",
    "    round_n=2,\n",
    ") -> dict:\n",
    "    \"\"\"\n",
    "    Does point prediction and interval prediction for a new datapoint.\n",
    "        Parameters\n",
    "    ----------\n",
    "    regression : statsmodels.regression.linear_model.RegressionResultsWrapper\n",
    "        Fitted regression model.\n",
    "    new_datapoint : pd.DataFrame\n",
    "        Database containing a new observation.\n",
    "    interval_precision : float, default=0.95\n",
    "        Precision of interval prediction.\n",
    "    round_n: int, default=2\n",
    "        Decimals to round floats in output.\n",
    "    \"\"\"\n",
    "\n",
    "    summaryframe = regression.get_prediction(new_datapoint).summary_frame(\n",
    "        alpha=1 - interval_precision\n",
    "    )\n",
    "\n",
    "    point_prediction = round(summaryframe[\"mean\"].values[0], round_n)\n",
    "\n",
    "    conf_int = [\n",
    "        round(i, round_n)\n",
    "        for i in summaryframe[[\"obs_ci_lower\", \"obs_ci_upper\"]].values[0]\n",
    "    ]\n",
    "\n",
    "    if round_n == 0:\n",
    "        point_prediction = int(point_prediction)\n",
    "        conf_int = [int(i) for i in conf_int]\n",
    "    else:\n",
    "        pass\n",
    "\n",
    "    return {\n",
    "        \"Point prediction\": point_prediction,\n",
    "        f\"Prediction Interval ({round(interval_precision*100)}%)\": conf_int,\n",
    "    }\n",
    "\n",
    "\n",
    "class Error(Exception):\n",
    "    \"\"\"Base class for other exceptions\"\"\"\n",
    "\n",
    "    pass\n",
    "\n",
    "\n",
    "class ConfintError(Error):\n",
    "    \"\"\"\n",
    "    Error raised when a confidence interval\n",
    "    does not match with required format.\n",
    "    \"\"\"\n",
    "\n",
    "    def __init__(\n",
    "        self,\n",
    "        message=\"Confidence intervals are two numbers, so len(conf_int) must be 2.\",\n",
    "    ):\n",
    "        self.message = message\n",
    "        super().__init__(self.message)\n"
   ]
  },
  {
   "cell_type": "code",
   "execution_count": 336,
   "id": "04542fb5",
   "metadata": {},
   "outputs": [
    {
     "ename": "AttributeError",
     "evalue": "'DataFrame' object has no attribute 'dtype'",
     "output_type": "error",
     "traceback": [
      "\u001b[1;31m---------------------------------------------------------------------------\u001b[0m",
      "\u001b[1;31mAttributeError\u001b[0m                            Traceback (most recent call last)",
      "\u001b[1;32m~\\AppData\\Local\\Temp/ipykernel_23548/1484499861.py\u001b[0m in \u001b[0;36m<module>\u001b[1;34m\u001b[0m\n\u001b[0;32m      1\u001b[0m p95 = pd.DataFrame(\n\u001b[0;32m      2\u001b[0m     [\n\u001b[1;32m----> 3\u001b[1;33m         \u001b[0mpoint_predict_with_conf_int\u001b[0m\u001b[1;33m(\u001b[0m\u001b[0mreg1\u001b[0m\u001b[1;33m,\u001b[0m \u001b[0mnew\u001b[0m\u001b[1;33m,\u001b[0m \u001b[0minterval_precision\u001b[0m\u001b[1;33m=\u001b[0m\u001b[1;36m0.95\u001b[0m\u001b[1;33m,\u001b[0m \u001b[0mround_n\u001b[0m\u001b[1;33m=\u001b[0m\u001b[1;36m0\u001b[0m\u001b[1;33m)\u001b[0m\u001b[1;33m,\u001b[0m\u001b[1;33m\u001b[0m\u001b[1;33m\u001b[0m\u001b[0m\n\u001b[0m\u001b[0;32m      4\u001b[0m         \u001b[0mpoint_predict_with_conf_int\u001b[0m\u001b[1;33m(\u001b[0m\u001b[0mreg3\u001b[0m\u001b[1;33m,\u001b[0m \u001b[0mnew\u001b[0m\u001b[1;33m,\u001b[0m \u001b[0minterval_precision\u001b[0m\u001b[1;33m=\u001b[0m\u001b[1;36m0.95\u001b[0m\u001b[1;33m,\u001b[0m \u001b[0mround_n\u001b[0m\u001b[1;33m=\u001b[0m\u001b[1;36m0\u001b[0m\u001b[1;33m)\u001b[0m\u001b[1;33m,\u001b[0m\u001b[1;33m\u001b[0m\u001b[1;33m\u001b[0m\u001b[0m\n\u001b[0;32m      5\u001b[0m \u001b[1;33m\u001b[0m\u001b[0m\n",
      "\u001b[1;32m~\\AppData\\Local\\Temp/ipykernel_23548/1485787313.py\u001b[0m in \u001b[0;36mpoint_predict_with_conf_int\u001b[1;34m(regression, new_datapoint, interval_precision, round_n)\u001b[0m\n\u001b[0;32m     22\u001b[0m     \"\"\"\n\u001b[0;32m     23\u001b[0m \u001b[1;33m\u001b[0m\u001b[0m\n\u001b[1;32m---> 24\u001b[1;33m     summaryframe = regression.get_prediction(new_datapoint).summary_frame(\n\u001b[0m\u001b[0;32m     25\u001b[0m         \u001b[0malpha\u001b[0m\u001b[1;33m=\u001b[0m\u001b[1;36m1\u001b[0m \u001b[1;33m-\u001b[0m \u001b[0minterval_precision\u001b[0m\u001b[1;33m\u001b[0m\u001b[1;33m\u001b[0m\u001b[0m\n\u001b[0;32m     26\u001b[0m     )\n",
      "\u001b[1;32mC:\\ProgramData\\Anaconda3\\lib\\site-packages\\statsmodels\\regression\\linear_model.py\u001b[0m in \u001b[0;36mget_prediction\u001b[1;34m(self, exog, transform, weights, row_labels, **kwargs)\u001b[0m\n\u001b[0;32m   2653\u001b[0m                        row_labels=None, **kwargs):\n\u001b[0;32m   2654\u001b[0m \u001b[1;33m\u001b[0m\u001b[0m\n\u001b[1;32m-> 2655\u001b[1;33m         return pred.get_prediction(\n\u001b[0m\u001b[0;32m   2656\u001b[0m             \u001b[0mself\u001b[0m\u001b[1;33m,\u001b[0m \u001b[0mexog\u001b[0m\u001b[1;33m=\u001b[0m\u001b[0mexog\u001b[0m\u001b[1;33m,\u001b[0m \u001b[0mtransform\u001b[0m\u001b[1;33m=\u001b[0m\u001b[0mtransform\u001b[0m\u001b[1;33m,\u001b[0m \u001b[0mweights\u001b[0m\u001b[1;33m=\u001b[0m\u001b[0mweights\u001b[0m\u001b[1;33m,\u001b[0m\u001b[1;33m\u001b[0m\u001b[1;33m\u001b[0m\u001b[0m\n\u001b[0;32m   2657\u001b[0m             row_labels=row_labels, **kwargs)\n",
      "\u001b[1;32mC:\\ProgramData\\Anaconda3\\lib\\site-packages\\statsmodels\\regression\\_prediction.py\u001b[0m in \u001b[0;36mget_prediction\u001b[1;34m(self, exog, transform, weights, row_labels, pred_kwds)\u001b[0m\n\u001b[0;32m    149\u001b[0m             \u001b[1;31m# GH-6509\u001b[0m\u001b[1;33m\u001b[0m\u001b[1;33m\u001b[0m\u001b[0m\n\u001b[0;32m    150\u001b[0m             \u001b[0mexog\u001b[0m \u001b[1;33m=\u001b[0m \u001b[0mpd\u001b[0m\u001b[1;33m.\u001b[0m\u001b[0mDataFrame\u001b[0m\u001b[1;33m(\u001b[0m\u001b[0mexog\u001b[0m\u001b[1;33m)\u001b[0m\u001b[1;33m\u001b[0m\u001b[1;33m\u001b[0m\u001b[0m\n\u001b[1;32m--> 151\u001b[1;33m         \u001b[0mexog\u001b[0m \u001b[1;33m=\u001b[0m \u001b[0mdmatrix\u001b[0m\u001b[1;33m(\u001b[0m\u001b[0mself\u001b[0m\u001b[1;33m.\u001b[0m\u001b[0mmodel\u001b[0m\u001b[1;33m.\u001b[0m\u001b[0mdata\u001b[0m\u001b[1;33m.\u001b[0m\u001b[0mdesign_info\u001b[0m\u001b[1;33m,\u001b[0m \u001b[0mexog\u001b[0m\u001b[1;33m)\u001b[0m\u001b[1;33m\u001b[0m\u001b[1;33m\u001b[0m\u001b[0m\n\u001b[0m\u001b[0;32m    152\u001b[0m \u001b[1;33m\u001b[0m\u001b[0m\n\u001b[0;32m    153\u001b[0m     \u001b[1;32mif\u001b[0m \u001b[0mexog\u001b[0m \u001b[1;32mis\u001b[0m \u001b[1;32mnot\u001b[0m \u001b[1;32mNone\u001b[0m\u001b[1;33m:\u001b[0m\u001b[1;33m\u001b[0m\u001b[1;33m\u001b[0m\u001b[0m\n",
      "\u001b[1;32mC:\\ProgramData\\Anaconda3\\lib\\site-packages\\patsy\\highlevel.py\u001b[0m in \u001b[0;36mdmatrix\u001b[1;34m(formula_like, data, eval_env, NA_action, return_type)\u001b[0m\n\u001b[0;32m    288\u001b[0m     \"\"\"\n\u001b[0;32m    289\u001b[0m     \u001b[0meval_env\u001b[0m \u001b[1;33m=\u001b[0m \u001b[0mEvalEnvironment\u001b[0m\u001b[1;33m.\u001b[0m\u001b[0mcapture\u001b[0m\u001b[1;33m(\u001b[0m\u001b[0meval_env\u001b[0m\u001b[1;33m,\u001b[0m \u001b[0mreference\u001b[0m\u001b[1;33m=\u001b[0m\u001b[1;36m1\u001b[0m\u001b[1;33m)\u001b[0m\u001b[1;33m\u001b[0m\u001b[1;33m\u001b[0m\u001b[0m\n\u001b[1;32m--> 290\u001b[1;33m     (lhs, rhs) = _do_highlevel_design(formula_like, data, eval_env,\n\u001b[0m\u001b[0;32m    291\u001b[0m                                       NA_action, return_type)\n\u001b[0;32m    292\u001b[0m     \u001b[1;32mif\u001b[0m \u001b[0mlhs\u001b[0m\u001b[1;33m.\u001b[0m\u001b[0mshape\u001b[0m\u001b[1;33m[\u001b[0m\u001b[1;36m1\u001b[0m\u001b[1;33m]\u001b[0m \u001b[1;33m!=\u001b[0m \u001b[1;36m0\u001b[0m\u001b[1;33m:\u001b[0m\u001b[1;33m\u001b[0m\u001b[1;33m\u001b[0m\u001b[0m\n",
      "\u001b[1;32mC:\\ProgramData\\Anaconda3\\lib\\site-packages\\patsy\\highlevel.py\u001b[0m in \u001b[0;36m_do_highlevel_design\u001b[1;34m(formula_like, data, eval_env, NA_action, return_type)\u001b[0m\n\u001b[0;32m    165\u001b[0m                                       NA_action)\n\u001b[0;32m    166\u001b[0m     \u001b[1;32mif\u001b[0m \u001b[0mdesign_infos\u001b[0m \u001b[1;32mis\u001b[0m \u001b[1;32mnot\u001b[0m \u001b[1;32mNone\u001b[0m\u001b[1;33m:\u001b[0m\u001b[1;33m\u001b[0m\u001b[1;33m\u001b[0m\u001b[0m\n\u001b[1;32m--> 167\u001b[1;33m         return build_design_matrices(design_infos, data,\n\u001b[0m\u001b[0;32m    168\u001b[0m                                      \u001b[0mNA_action\u001b[0m\u001b[1;33m=\u001b[0m\u001b[0mNA_action\u001b[0m\u001b[1;33m,\u001b[0m\u001b[1;33m\u001b[0m\u001b[1;33m\u001b[0m\u001b[0m\n\u001b[0;32m    169\u001b[0m                                      return_type=return_type)\n",
      "\u001b[1;32mC:\\ProgramData\\Anaconda3\\lib\\site-packages\\patsy\\build.py\u001b[0m in \u001b[0;36mbuild_design_matrices\u001b[1;34m(design_infos, data, NA_action, return_type, dtype)\u001b[0m\n\u001b[0;32m    886\u001b[0m         \u001b[1;32mfor\u001b[0m \u001b[0mfactor_info\u001b[0m \u001b[1;32min\u001b[0m \u001b[0msix\u001b[0m\u001b[1;33m.\u001b[0m\u001b[0mitervalues\u001b[0m\u001b[1;33m(\u001b[0m\u001b[0mdesign_info\u001b[0m\u001b[1;33m.\u001b[0m\u001b[0mfactor_infos\u001b[0m\u001b[1;33m)\u001b[0m\u001b[1;33m:\u001b[0m\u001b[1;33m\u001b[0m\u001b[1;33m\u001b[0m\u001b[0m\n\u001b[0;32m    887\u001b[0m             \u001b[1;32mif\u001b[0m \u001b[0mfactor_info\u001b[0m \u001b[1;32mnot\u001b[0m \u001b[1;32min\u001b[0m \u001b[0mfactor_info_to_values\u001b[0m\u001b[1;33m:\u001b[0m\u001b[1;33m\u001b[0m\u001b[1;33m\u001b[0m\u001b[0m\n\u001b[1;32m--> 888\u001b[1;33m                 \u001b[0mvalue\u001b[0m\u001b[1;33m,\u001b[0m \u001b[0mis_NA\u001b[0m \u001b[1;33m=\u001b[0m \u001b[0m_eval_factor\u001b[0m\u001b[1;33m(\u001b[0m\u001b[0mfactor_info\u001b[0m\u001b[1;33m,\u001b[0m \u001b[0mdata\u001b[0m\u001b[1;33m,\u001b[0m \u001b[0mNA_action\u001b[0m\u001b[1;33m)\u001b[0m\u001b[1;33m\u001b[0m\u001b[1;33m\u001b[0m\u001b[0m\n\u001b[0m\u001b[0;32m    889\u001b[0m                 \u001b[0mfactor_info_to_isNAs\u001b[0m\u001b[1;33m[\u001b[0m\u001b[0mfactor_info\u001b[0m\u001b[1;33m]\u001b[0m \u001b[1;33m=\u001b[0m \u001b[0mis_NA\u001b[0m\u001b[1;33m\u001b[0m\u001b[1;33m\u001b[0m\u001b[0m\n\u001b[0;32m    890\u001b[0m                 \u001b[1;31m# value may now be a Series, DataFrame, or ndarray\u001b[0m\u001b[1;33m\u001b[0m\u001b[1;33m\u001b[0m\u001b[0m\n",
      "\u001b[1;32mC:\\ProgramData\\Anaconda3\\lib\\site-packages\\patsy\\build.py\u001b[0m in \u001b[0;36m_eval_factor\u001b[1;34m(factor_info, data, NA_action)\u001b[0m\n\u001b[0;32m     76\u001b[0m             raise PatsyError(\"when evaluating numeric factor %s, \"\n\u001b[0;32m     77\u001b[0m                              \u001b[1;34m\"I got non-numeric data of type '%s'\"\u001b[0m\u001b[1;33m\u001b[0m\u001b[1;33m\u001b[0m\u001b[0m\n\u001b[1;32m---> 78\u001b[1;33m                              \u001b[1;33m%\u001b[0m \u001b[1;33m(\u001b[0m\u001b[0mfactor\u001b[0m\u001b[1;33m.\u001b[0m\u001b[0mname\u001b[0m\u001b[1;33m(\u001b[0m\u001b[1;33m)\u001b[0m\u001b[1;33m,\u001b[0m \u001b[0mresult\u001b[0m\u001b[1;33m.\u001b[0m\u001b[0mdtype\u001b[0m\u001b[1;33m)\u001b[0m\u001b[1;33m,\u001b[0m\u001b[1;33m\u001b[0m\u001b[1;33m\u001b[0m\u001b[0m\n\u001b[0m\u001b[0;32m     79\u001b[0m                              factor)\n\u001b[0;32m     80\u001b[0m         \u001b[1;32mreturn\u001b[0m \u001b[0mresult\u001b[0m\u001b[1;33m,\u001b[0m \u001b[0mNA_action\u001b[0m\u001b[1;33m.\u001b[0m\u001b[0mis_numerical_NA\u001b[0m\u001b[1;33m(\u001b[0m\u001b[0mresult\u001b[0m\u001b[1;33m)\u001b[0m\u001b[1;33m\u001b[0m\u001b[1;33m\u001b[0m\u001b[0m\n",
      "\u001b[1;32mC:\\ProgramData\\Anaconda3\\lib\\site-packages\\pandas\\core\\generic.py\u001b[0m in \u001b[0;36m__getattr__\u001b[1;34m(self, name)\u001b[0m\n\u001b[0;32m   5900\u001b[0m         ):\n\u001b[0;32m   5901\u001b[0m             \u001b[1;32mreturn\u001b[0m \u001b[0mself\u001b[0m\u001b[1;33m[\u001b[0m\u001b[0mname\u001b[0m\u001b[1;33m]\u001b[0m\u001b[1;33m\u001b[0m\u001b[1;33m\u001b[0m\u001b[0m\n\u001b[1;32m-> 5902\u001b[1;33m         \u001b[1;32mreturn\u001b[0m \u001b[0mobject\u001b[0m\u001b[1;33m.\u001b[0m\u001b[0m__getattribute__\u001b[0m\u001b[1;33m(\u001b[0m\u001b[0mself\u001b[0m\u001b[1;33m,\u001b[0m \u001b[0mname\u001b[0m\u001b[1;33m)\u001b[0m\u001b[1;33m\u001b[0m\u001b[1;33m\u001b[0m\u001b[0m\n\u001b[0m\u001b[0;32m   5903\u001b[0m \u001b[1;33m\u001b[0m\u001b[0m\n\u001b[0;32m   5904\u001b[0m     \u001b[1;32mdef\u001b[0m \u001b[0m__setattr__\u001b[0m\u001b[1;33m(\u001b[0m\u001b[0mself\u001b[0m\u001b[1;33m,\u001b[0m \u001b[0mname\u001b[0m\u001b[1;33m:\u001b[0m \u001b[0mstr\u001b[0m\u001b[1;33m,\u001b[0m \u001b[0mvalue\u001b[0m\u001b[1;33m)\u001b[0m \u001b[1;33m->\u001b[0m \u001b[1;32mNone\u001b[0m\u001b[1;33m:\u001b[0m\u001b[1;33m\u001b[0m\u001b[1;33m\u001b[0m\u001b[0m\n",
      "\u001b[1;31mAttributeError\u001b[0m: 'DataFrame' object has no attribute 'dtype'"
     ]
    }
   ],
   "source": [
    "p95 = pd.DataFrame(\n",
    "    [\n",
    "        point_predict_with_conf_int(reg1, new, interval_precision=0.95, round_n=0),\n",
    "        point_predict_with_conf_int(reg3, new, interval_precision=0.95, round_n=0),\n",
    "        \n",
    "    ],\n",
    "    index=[\"Model 1\", \"Model 3\"],\n",
    ").T\n",
    "p95.loc[\"Prediction Interval (95%)\", :] = p95.loc[\"Prediction Interval (95%)\", :].apply(\n",
    "    format_confidence_interval\n",
    ")"
   ]
  },
  {
   "cell_type": "code",
   "execution_count": null,
   "id": "128bc63d",
   "metadata": {},
   "outputs": [],
   "source": []
  }
 ],
 "metadata": {
  "kernelspec": {
   "display_name": "Python 3 (ipykernel)",
   "language": "python",
   "name": "python3"
  },
  "language_info": {
   "codemirror_mode": {
    "name": "ipython",
    "version": 3
   },
   "file_extension": ".py",
   "mimetype": "text/x-python",
   "name": "python",
   "nbconvert_exporter": "python",
   "pygments_lexer": "ipython3",
   "version": "3.9.7"
  }
 },
 "nbformat": 4,
 "nbformat_minor": 5
}
